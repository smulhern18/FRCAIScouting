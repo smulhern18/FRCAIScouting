{
 "cells": [
  {
   "cell_type": "code",
   "execution_count": 1,
   "metadata": {},
   "outputs": [],
   "source": [
    "import numpy as np\n",
    "import pandas as pd\n",
    "import ast\n",
    "import math\n",
    "import plotly.express as px"
   ]
  },
  {
   "cell_type": "markdown",
   "metadata": {},
   "source": [
    "# 2017"
   ]
  },
  {
   "cell_type": "code",
   "execution_count": null,
   "metadata": {},
   "outputs": [],
   "source": [
    "with open('pulled_matches_2017_2017abca_2017abca_qm25.txt') as f:\n",
    "    data = f.read()\n",
    "d = ast.literal_eval(data)"
   ]
  },
  {
   "cell_type": "code",
   "execution_count": null,
   "metadata": {},
   "outputs": [],
   "source": [
    "d.get('alliances').get('blue')"
   ]
  },
  {
   "cell_type": "code",
   "execution_count": null,
   "metadata": {},
   "outputs": [],
   "source": []
  },
  {
   "cell_type": "code",
   "execution_count": null,
   "metadata": {},
   "outputs": [],
   "source": [
    "d"
   ]
  },
  {
   "cell_type": "code",
   "execution_count": null,
   "metadata": {},
   "outputs": [],
   "source": [
    "b1s = []\n",
    "b2s = []\n",
    "b3s = []\n",
    "r1s = []\n",
    "r2s = []\n",
    "r3s = []\n",
    "bautoT = []\n",
    "rautoT = []\n",
    "bendG = []\n",
    "rendG = []\n",
    "bfoulsO = []\n",
    "rfoulsO = []\n",
    "bdefO = []\n",
    "rdefO = []\n",
    "bTradSH = []\n",
    "rTradSH = []\n",
    "bTradSL = []\n",
    "rTradSL = []\n",
    "bTechS = []\n",
    "rTechS = []\n",
    "\n",
    "\n",
    "b1s.append(d.get('alliances').get('blue').get('team_keys')[0])\n",
    "b2s.append(d.get('alliances').get('blue').get('team_keys')[1])\n",
    "b3s.append(d.get('alliances').get('blue').get('team_keys')[2])\n",
    "r1s.append(d.get('alliances').get('red').get('team_keys')[0])\n",
    "r2s.append(d.get('alliances').get('red').get('team_keys')[1])\n",
    "r3s.append(d.get('alliances').get('red').get('team_keys')[2])\n",
    "bautoT.append(d.get('score_breakdown').get('blue').get('autoPoints'))\n",
    "rautoT.append(d.get('score_breakdown').get('red').get('autoPoints'))\n",
    "bendG.append(d.get('score_breakdown').get('blue').get('teleopTakeoffPoints'))\n",
    "rendG.append(d.get('score_breakdown').get('red').get('teleopTakeoffPoints'))\n",
    "bfoulsO.append(-d.get('score_breakdown').get('red').get('foulPoints'))\n",
    "rfoulsO.append(-d.get('score_breakdown').get('blue').get('foulPoints'))\n",
    "bdefO.append(-d.get('score_breakdown').get('red').get('totalPoints'))\n",
    "rdefO.append(-d.get('score_breakdown').get('blue').get('totalPoints'))\n",
    "bTradSH.append(d.get('score_breakdown').get('blue').get('teleopFuelHigh')/3 + d.get('score_breakdown').get('blue').get('kPaBonusPoints'))\n",
    "rTradSH.append(d.get('score_breakdown').get('red').get('teleopFuelHigh')/3 + d.get('score_breakdown').get('red').get('kPaBonusPoints'))\n",
    "bTradSL.append(d.get('score_breakdown').get('blue').get('teleopFuelLow')/6 + d.get('score_breakdown').get('blue').get('kPaBonusPoints')/2)\n",
    "rTradSL.append(d.get('score_breakdown').get('red').get('teleopFuelLow')/6 + d.get('score_breakdown').get('blue').get('kPaBonusPoints')/2)\n",
    "bTechS.append(d.get('score_breakdown').get('blue').get('rotor1Engaged')*40 + d.get('score_breakdown').get('blue').get('rotor2Engaged')*40/2 + d.get('score_breakdown').get('blue').get('rotor1Engaged')*40/4 + d.get('score_breakdown').get('blue').get('rotor1Engaged')*40/5)\n",
    "rTechS.append(d.get('score_breakdown').get('red').get('rotor1Engaged')*40 + d.get('score_breakdown').get('red').get('rotor2Engaged')*40/2 + d.get('score_breakdown').get('red').get('rotor1Engaged')*40/4 + d.get('score_breakdown').get('red').get('rotor1Engaged')*40/5)\n",
    "\n",
    "col_names = ['Robot','Traditional Scoring High','Traditional Scoring Low','Technical Scoring','Autonomous Scoring','Endgame','Fouls','Defense']\n",
    "data_2017 = pd.DataFrame(columns = col_names)\n",
    "for match in range(0,len(b1s)):\n",
    "    data = [b1s[match],bTradSH[match],bTradSL[match],bTechS[match],bautoT[match],bendG[match],bfoulsO[match],bdefO[match]]\n",
    "    data_2017 = data_2017.append(pd.DataFrame([data],columns = col_names), ignore_index = True)\n",
    "    data = [b2s[match],bTradSH[match],bTradSL[match],bTechS[match],bautoT[match],bendG[match],bfoulsO[match],bdefO[match]]\n",
    "    data_2017 = data_2017.append(pd.DataFrame([data],columns = col_names), ignore_index = True)\n",
    "    data = [b3s[match],bTradSH[match],bTradSL[match],bTechS[match],bautoT[match],bendG[match],bfoulsO[match],bdefO[match]]\n",
    "    data_2017 = data_2017.append(pd.DataFrame([data],columns = col_names), ignore_index = True)\n",
    "    data = [r1s[match],rTradSH[match],rTradSL[match],rTechS[match],rautoT[match],rendG[match],rfoulsO[match],rdefO[match]]\n",
    "    data_2017 = data_2017.append(pd.DataFrame([data],columns = col_names), ignore_index = True)\n",
    "    data = [r2s[match],rTradSH[match],rTradSL[match],rTechS[match],rautoT[match],rendG[match],rfoulsO[match],rdefO[match]]\n",
    "    data_2017 = data_2017.append(pd.DataFrame([data],columns = col_names), ignore_index = True)\n",
    "    data = [r3s[match],rTradSH[match],rTradSL[match],rTechS[match],rautoT[match],rendG[match],rfoulsO[match],rdefO[match]]\n",
    "    data_2017 = data_2017.append(pd.DataFrame([data],columns = col_names), ignore_index = True)"
   ]
  },
  {
   "cell_type": "code",
   "execution_count": null,
   "metadata": {},
   "outputs": [],
   "source": [
    "for stat in data_2017:\n",
    "    if stat != 'Robot':\n",
    "        data_2017[stat] = data_2017[stat].astype('float64')\n",
    "data_2017"
   ]
  },
  {
   "cell_type": "code",
   "execution_count": null,
   "metadata": {},
   "outputs": [],
   "source": [
    "grouped_2017 = data_2017.groupby(by = 'Robot').mean()\n",
    "for stat in grouped_2017.columns:\n",
    "    grouped_2017[stat] = grouped_2017[stat]/3\n",
    "grouped_2017"
   ]
  },
  {
   "cell_type": "markdown",
   "metadata": {},
   "source": [
    "# 2018"
   ]
  },
  {
   "cell_type": "code",
   "execution_count": null,
   "metadata": {},
   "outputs": [],
   "source": [
    "with open('pulled_matches_2018_2018abca_2018abca_qm18.txt') as f:\n",
    "    data = f.read()\n",
    "d = ast.literal_eval(data)"
   ]
  },
  {
   "cell_type": "code",
   "execution_count": null,
   "metadata": {},
   "outputs": [],
   "source": [
    "b1s = []\n",
    "b2s = []\n",
    "b3s = []\n",
    "r1s = []\n",
    "r2s = []\n",
    "r3s = []\n",
    "bautoT = []\n",
    "rautoT = []\n",
    "bendG = []\n",
    "rendG = []\n",
    "bfoulsO = []\n",
    "rfoulsO = []\n",
    "bdefO = []\n",
    "rdefO = []\n",
    "bTradSH = []\n",
    "rTradSH = []\n",
    "bTradSL = []\n",
    "rTradSL = []\n",
    "bTechS = []\n",
    "rTechS = []\n",
    "\n",
    "b1s.append(d.get('alliances').get('blue').get('team_keys')[0])\n",
    "b2s.append(d.get('alliances').get('blue').get('team_keys')[1])\n",
    "b3s.append(d.get('alliances').get('blue').get('team_keys')[2])\n",
    "r1s.append(d.get('alliances').get('red').get('team_keys')[0])\n",
    "r2s.append(d.get('alliances').get('red').get('team_keys')[1])\n",
    "r3s.append(d.get('alliances').get('red').get('team_keys')[2])\n",
    "\n",
    "bautoT.append(d.get('score_breakdown').get('blue').get('autoPoints'))\n",
    "rautoT.append(d.get('score_breakdown').get('red').get('autoPoints'))\n",
    "\n",
    "end_dict = {'Parking': 5,'Climbing': 30, 'Levitate': 5, 'None': 0}\n",
    "bendG.append([end_dict.get(d.get('score_breakdown').get('blue').get('endgameRobot1')),  end_dict.get(d.get('score_breakdown').get('blue').get('endgameRobot2')), end_dict.get(d.get('score_breakdown').get('blue').get('endgameRobot3'))])\n",
    "rendG.append([end_dict.get(d.get('score_breakdown').get('red').get('endgameRobot1')),  end_dict.get(d.get('score_breakdown').get('red').get('endgameRobot2')), end_dict.get(d.get('score_breakdown').get('red').get('endgameRobot3'))])\n",
    "\n",
    "bfoulsO.append(-d.get('score_breakdown').get('red').get('foulPoints'))\n",
    "rfoulsO.append(-d.get('score_breakdown').get('blue').get('foulPoints'))\n",
    "\n",
    "bdefO.append(-d.get('score_breakdown').get('red').get('totalPoints'))\n",
    "rdefO.append(-d.get('score_breakdown').get('blue').get('totalPoints'))\n",
    "\n",
    "bTradSH.append(d.get('score_breakdown').get('blue').get('teleopScaleOwnershipSec') - d.get('score_breakdown').get('blue').get('teleopScaleForceSec'))\n",
    "rTradSH.append(d.get('score_breakdown').get('red').get('teleopScaleOwnershipSec') - d.get('score_breakdown').get('red').get('teleopScaleForceSec'))\n",
    "\n",
    "bTradSL.append(d.get('score_breakdown').get('blue').get('teleopSwitchOwnershipSec') - d.get('score_breakdown').get('blue').get('teleopSwitchForceSec'))\n",
    "rTradSL.append(d.get('score_breakdown').get('red').get('teleopSwitchOwnershipSec') - d.get('score_breakdown').get('red').get('teleopSwitchForceSec'))\n",
    "\n",
    "bTechS.append(d.get('score_breakdown').get('blue').get('teleopScaleBoostSec') + d.get('score_breakdown').get('blue').get('teleopSwitchBoostSec') + d.get('score_breakdown').get('blue').get('teleopScaleForceSec') + d.get('score_breakdown').get('blue').get('teleopSwitchForceSec') + d.get('score_breakdown').get('blue').get('vaultPoints') + d.get('score_breakdown').get('blue').get('vaultLevitatePlayed')*30)\n",
    "rTechS.append(d.get('score_breakdown').get('red').get('teleopScaleBoostSec') + d.get('score_breakdown').get('red').get('teleopSwitchBoostSec') + d.get('score_breakdown').get('red').get('teleopScaleForceSec') + d.get('score_breakdown').get('red').get('teleopSwitchForceSec') + d.get('score_breakdown').get('red').get('vaultPoints') + d.get('score_breakdown').get('red').get('vaultLevitatePlayed')*30)\n",
    "\n",
    "col_names = ['Robot','Traditional Scoring High','Traditional Scoring Low','Technical Scoring','Autonomous Scoring','Endgame','Fouls','Defense']\n",
    "data_2018 = pd.DataFrame(columns = col_names)\n",
    "for match in range(0,len(b1s)):\n",
    "    data = [b1s[match],bTradSH[match],bTradSL[match],bTechS[match],bautoT[match],bendG[match][0],bfoulsO[match],bdefO[match]]\n",
    "    data_2018 = data_2018.append(pd.DataFrame([data],columns = col_names), ignore_index = True)\n",
    "    data = [b2s[match],bTradSH[match],bTradSL[match],bTechS[match],bautoT[match],bendG[match][1],bfoulsO[match],bdefO[match]]\n",
    "    data_2018 = data_2018.append(pd.DataFrame([data],columns = col_names), ignore_index = True)\n",
    "    data = [b3s[match],bTradSH[match],bTradSL[match],bTechS[match],bautoT[match],bendG[match][2],bfoulsO[match],bdefO[match]]\n",
    "    data_2018 = data_2018.append(pd.DataFrame([data],columns = col_names), ignore_index = True)\n",
    "    data = [r1s[match],rTradSH[match],rTradSL[match],rTechS[match],rautoT[match],rendG[match][0],rfoulsO[match],rdefO[match]]\n",
    "    data_2018 = data_2018.append(pd.DataFrame([data],columns = col_names), ignore_index = True)\n",
    "    data = [r2s[match],rTradSH[match],rTradSL[match],rTechS[match],rautoT[match],rendG[match][1],rfoulsO[match],rdefO[match]]\n",
    "    data_2018 = data_2018.append(pd.DataFrame([data],columns = col_names), ignore_index = True)\n",
    "    data = [r3s[match],rTradSH[match],rTradSL[match],rTechS[match],rautoT[match],rendG[match][2],rfoulsO[match],rdefO[match]]\n",
    "    data_2018 = data_2018.append(pd.DataFrame([data],columns = col_names), ignore_index = True)"
   ]
  },
  {
   "cell_type": "code",
   "execution_count": null,
   "metadata": {},
   "outputs": [],
   "source": [
    "for stat in data_2018:\n",
    "    if stat != 'Robot':\n",
    "        data_2018[stat] = data_2018[stat].astype('float64')\n",
    "data_2018"
   ]
  },
  {
   "cell_type": "code",
   "execution_count": null,
   "metadata": {},
   "outputs": [],
   "source": [
    "grouped_2018 = data_2018.groupby(by = 'Robot').mean()\n",
    "for stat in grouped_2018.columns:\n",
    "    if stat != 'Endgame':\n",
    "        grouped_2018[stat] = grouped_2018[stat]/3\n",
    "grouped_2018"
   ]
  },
  {
   "cell_type": "markdown",
   "metadata": {},
   "source": [
    "# 2019"
   ]
  },
  {
   "cell_type": "code",
   "execution_count": null,
   "metadata": {},
   "outputs": [],
   "source": [
    "with open('pulled_matches_2019_2019abca_2019abca_qm11.txt') as f:\n",
    "    data = f.read()\n",
    "d = ast.literal_eval(data)"
   ]
  },
  {
   "cell_type": "code",
   "execution_count": null,
   "metadata": {},
   "outputs": [],
   "source": [
    "b1s = []\n",
    "b2s = []\n",
    "b3s = []\n",
    "r1s = []\n",
    "r2s = []\n",
    "r3s = []\n",
    "bautoT = []\n",
    "rautoT = []\n",
    "bendG = []\n",
    "rendG = []\n",
    "bfoulsO = []\n",
    "rfoulsO = []\n",
    "bdefO = []\n",
    "rdefO = []\n",
    "bTradSH = []\n",
    "rTradSH = []\n",
    "bTradSL = []\n",
    "rTradSL = []\n",
    "bTechS = []\n",
    "rTechS = []\n",
    "\n",
    "b1s.append(d.get('alliances').get('blue').get('team_keys')[0])\n",
    "b2s.append(d.get('alliances').get('blue').get('team_keys')[1])\n",
    "b3s.append(d.get('alliances').get('blue').get('team_keys')[2])\n",
    "r1s.append(d.get('alliances').get('red').get('team_keys')[0])\n",
    "r2s.append(d.get('alliances').get('red').get('team_keys')[1])\n",
    "r3s.append(d.get('alliances').get('red').get('team_keys')[2])\n",
    "\n",
    "bautoT.append(d.get('score_breakdown').get('blue').get('autoPoints'))\n",
    "rautoT.append(d.get('score_breakdown').get('red').get('autoPoints'))\n",
    "\n",
    "end_dict = {'HabLevel3': 12,'HabLevel2': 6, 'HabLevel1': 3, 'None': 0}\n",
    "bendG.append([end_dict.get(d.get('score_breakdown').get('blue').get('endgameRobot1')),  end_dict.get(d.get('score_breakdown').get('blue').get('endgameRobot2')), end_dict.get(d.get('score_breakdown').get('blue').get('endgameRobot3'))])\n",
    "rendG.append([end_dict.get(d.get('score_breakdown').get('red').get('endgameRobot1')),  end_dict.get(d.get('score_breakdown').get('red').get('endgameRobot2')), end_dict.get(d.get('score_breakdown').get('red').get('endgameRobot3'))])\n",
    "\n",
    "bfoulsO.append(-d.get('score_breakdown').get('red').get('foulPoints'))\n",
    "rfoulsO.append(-d.get('score_breakdown').get('blue').get('foulPoints'))\n",
    "\n",
    "bdefO.append(-d.get('score_breakdown').get('red').get('totalPoints'))\n",
    "rdefO.append(-d.get('score_breakdown').get('blue').get('totalPoints'))\n",
    "\n",
    "panel_dict = {'PanelAndCargo': 2, 'Panel': 2, 'None': 0}\n",
    "cargo_dict = {'PanelAndCargo': 3, 'Panel': 0, 'None': 0}\n",
    "\n",
    "bTradSH.append(cargo_dict.get(d.get('score_breakdown').get('blue').get('lowLeftRocketFar')) + cargo_dict.get(d.get('score_breakdown').get('blue').get('lowRightRocketFar')) + cargo_dict.get(d.get('score_breakdown').get('blue').get('lowLeftRocketNear')) + cargo_dict.get(d.get('score_breakdown').get('blue').get('lowRightRocketNear')) + cargo_dict.get(d.get('score_breakdown').get('blue').get('midLeftRocketFar')) + cargo_dict.get(d.get('score_breakdown').get('blue').get('midLeftRocketNear')) + cargo_dict.get(d.get('score_breakdown').get('blue').get('midRightRocketFar')) + cargo_dict.get(d.get('score_breakdown').get('blue').get('midRightRocketNear')) + cargo_dict.get(d.get('score_breakdown').get('blue').get('topLeftRocketFar')) + cargo_dict.get(d.get('score_breakdown').get('blue').get('topLeftRocketNear')) + cargo_dict.get(d.get('score_breakdown').get('blue').get('topRightRocketFar')) + cargo_dict.get(d.get('score_breakdown').get('blue').get('topRightRocketNear')))\n",
    "rTradSH.append(cargo_dict.get(d.get('score_breakdown').get('red').get('lowLeftRocketFar')) + cargo_dict.get(d.get('score_breakdown').get('red').get('lowRightRocketFar')) + cargo_dict.get(d.get('score_breakdown').get('red').get('lowLeftRocketNear')) + cargo_dict.get(d.get('score_breakdown').get('red').get('lowRightRocketNear')) + cargo_dict.get(d.get('score_breakdown').get('red').get('midLeftRocketFar')) + cargo_dict.get(d.get('score_breakdown').get('red').get('midLeftRocketNear')) + cargo_dict.get(d.get('score_breakdown').get('red').get('midRightRocketFar')) + cargo_dict.get(d.get('score_breakdown').get('red').get('midRightRocketNear')) + cargo_dict.get(d.get('score_breakdown').get('red').get('topLeftRocketFar')) + cargo_dict.get(d.get('score_breakdown').get('red').get('topLeftRocketNear')) + cargo_dict.get(d.get('score_breakdown').get('red').get('topRightRocketFar')) + cargo_dict.get(d.get('score_breakdown').get('red').get('topRightRocketNear')))\n",
    "\n",
    "bTradSL.append(cargo_dict.get(d.get('score_breakdown').get('blue').get('bay1')) + cargo_dict.get(d.get('score_breakdown').get('blue').get('bay2')) + cargo_dict.get(d.get('score_breakdown').get('blue').get('bay3')) + cargo_dict.get(d.get('score_breakdown').get('blue').get('bay4')) + cargo_dict.get(d.get('score_breakdown').get('blue').get('bay5')) + cargo_dict.get(d.get('score_breakdown').get('blue').get('bay6')) + cargo_dict.get(d.get('score_breakdown').get('blue').get('bay7')) + cargo_dict.get(d.get('score_breakdown').get('blue').get('bay8')))\n",
    "rTradSL.append(cargo_dict.get(d.get('score_breakdown').get('red').get('bay1')) + cargo_dict.get(d.get('score_breakdown').get('red').get('bay2')) + cargo_dict.get(d.get('score_breakdown').get('red').get('bay3')) + cargo_dict.get(d.get('score_breakdown').get('red').get('bay4')) + cargo_dict.get(d.get('score_breakdown').get('red').get('bay5')) + cargo_dict.get(d.get('score_breakdown').get('red').get('bay6')) + cargo_dict.get(d.get('score_breakdown').get('red').get('bay7')) + cargo_dict.get(d.get('score_breakdown').get('red').get('bay8')))\n",
    "\n",
    "bTechS.append(panel_dict.get(d.get('score_breakdown').get('blue').get('bay1')) + panel_dict.get(d.get('score_breakdown').get('blue').get('bay2')) + panel_dict.get(d.get('score_breakdown').get('blue').get('bay3')) + panel_dict.get(d.get('score_breakdown').get('blue').get('bay4')) + panel_dict.get(d.get('score_breakdown').get('blue').get('bay5')) + panel_dict.get(d.get('score_breakdown').get('blue').get('bay6')) + panel_dict.get(d.get('score_breakdown').get('blue').get('bay7')) + panel_dict.get(d.get('score_breakdown').get('blue').get('bay8')) + panel_dict.get(d.get('score_breakdown').get('blue').get('lowLeftRocketFar')) + panel_dict.get(d.get('score_breakdown').get('blue').get('lowRightRocketFar')) + panel_dict.get(d.get('score_breakdown').get('blue').get('lowLeftRocketNear')) + panel_dict.get(d.get('score_breakdown').get('blue').get('lowRightRocketNear')) + panel_dict.get(d.get('score_breakdown').get('blue').get('midLeftRocketFar')) + panel_dict.get(d.get('score_breakdown').get('blue').get('midLeftRocketNear')) + panel_dict.get(d.get('score_breakdown').get('blue').get('midRightRocketFar')) + panel_dict.get(d.get('score_breakdown').get('blue').get('midRightRocketNear')) + panel_dict.get(d.get('score_breakdown').get('blue').get('topLeftRocketFar')) + panel_dict.get(d.get('score_breakdown').get('blue').get('topLeftRocketNear')) + panel_dict.get(d.get('score_breakdown').get('blue').get('topRightRocketFar')) + panel_dict.get(d.get('score_breakdown').get('blue').get('topRightRocketNear'))  - (int(panel_dict.get(d.get('score_breakdown').get('blue').get('preMatchBay1')) or 0) + int(panel_dict.get(d.get('score_breakdown').get('blue').get('preMatchBay2')) or 0) + int(panel_dict.get(d.get('score_breakdown').get('blue').get('preMatchBay3')) or 0) + int(panel_dict.get(d.get('score_breakdown').get('blue').get('preMatchBay4')) or 0) + int(panel_dict.get(d.get('score_breakdown').get('blue').get('preMatchBay5')) or 0) + int(panel_dict.get(d.get('score_breakdown').get('blue').get('preMatchBay6')) or 0) + int(panel_dict.get(d.get('score_breakdown').get('blue').get('preMatchBay7')) or 0) + int(panel_dict.get(d.get('score_breakdown').get('blue').get('preMatchBay8')) or 0)))\n",
    "rTechS.append(panel_dict.get(d.get('score_breakdown').get('red').get('bay1')) + panel_dict.get(d.get('score_breakdown').get('red').get('bay2')) + panel_dict.get(d.get('score_breakdown').get('red').get('bay3')) + panel_dict.get(d.get('score_breakdown').get('red').get('bay4')) + panel_dict.get(d.get('score_breakdown').get('red').get('bay5')) + panel_dict.get(d.get('score_breakdown').get('red').get('bay6')) + panel_dict.get(d.get('score_breakdown').get('red').get('bay7')) + panel_dict.get(d.get('score_breakdown').get('red').get('bay8')) + panel_dict.get(d.get('score_breakdown').get('red').get('lowLeftRocketFar')) + panel_dict.get(d.get('score_breakdown').get('red').get('lowRightRocketFar')) + panel_dict.get(d.get('score_breakdown').get('red').get('lowLeftRocketNear')) + panel_dict.get(d.get('score_breakdown').get('red').get('lowRightRocketNear')) + panel_dict.get(d.get('score_breakdown').get('red').get('midLeftRocketFar')) + panel_dict.get(d.get('score_breakdown').get('red').get('midLeftRocketNear')) + panel_dict.get(d.get('score_breakdown').get('red').get('midRightRocketFar')) + panel_dict.get(d.get('score_breakdown').get('red').get('midRightRocketNear')) + panel_dict.get(d.get('score_breakdown').get('red').get('topLeftRocketFar')) + panel_dict.get(d.get('score_breakdown').get('red').get('topLeftRocketNear')) + panel_dict.get(d.get('score_breakdown').get('red').get('topRightRocketFar')) + panel_dict.get(d.get('score_breakdown').get('red').get('topRightRocketNear'))  - (int(panel_dict.get(d.get('score_breakdown').get('red').get('preMatchBay1')) or 0) + int(panel_dict.get(d.get('score_breakdown').get('red').get('preMatchBay2')) or 0) + int(panel_dict.get(d.get('score_breakdown').get('red').get('preMatchBay3')) or 0) + int(panel_dict.get(d.get('score_breakdown').get('red').get('preMatchBay4')) or 0) + int(panel_dict.get(d.get('score_breakdown').get('red').get('preMatchBay5')) or 0) + int(panel_dict.get(d.get('score_breakdown').get('red').get('preMatchBay6')) or 0) + int(panel_dict.get(d.get('score_breakdown').get('red').get('preMatchBay7')) or 0) + int(panel_dict.get(d.get('score_breakdown').get('red').get('preMatchBay8')) or 0)))\n",
    "\n",
    "col_names = ['Robot','Traditional Scoring High','Traditional Scoring Low','Technical Scoring','Autonomous Scoring','Endgame','Fouls','Defense']\n",
    "data_2019 = pd.DataFrame(columns = col_names)\n",
    "for match in range(0,len(b1s)):\n",
    "    data = [b1s[match],bTradSH[match],bTradSL[match],bTechS[match],bautoT[match],bendG[match][0],bfoulsO[match],bdefO[match]]\n",
    "    data_2019 = data_2019.append(pd.DataFrame([data],columns = col_names), ignore_index = True)\n",
    "    data = [b2s[match],bTradSH[match],bTradSL[match],bTechS[match],bautoT[match],bendG[match][1],bfoulsO[match],bdefO[match]]\n",
    "    data_2019 = data_2019.append(pd.DataFrame([data],columns = col_names), ignore_index = True)\n",
    "    data = [b3s[match],bTradSH[match],bTradSL[match],bTechS[match],bautoT[match],bendG[match][2],bfoulsO[match],bdefO[match]]\n",
    "    data_2019 = data_2019.append(pd.DataFrame([data],columns = col_names), ignore_index = True)\n",
    "    data = [r1s[match],rTradSH[match],rTradSL[match],rTechS[match],rautoT[match],rendG[match][0],rfoulsO[match],rdefO[match]]\n",
    "    data_2019 = data_2019.append(pd.DataFrame([data],columns = col_names), ignore_index = True)\n",
    "    data = [r2s[match],rTradSH[match],rTradSL[match],rTechS[match],rautoT[match],rendG[match][1],rfoulsO[match],rdefO[match]]\n",
    "    data_2019 = data_2019.append(pd.DataFrame([data],columns = col_names), ignore_index = True)\n",
    "    data = [r3s[match],rTradSH[match],rTradSL[match],rTechS[match],rautoT[match],rendG[match][2],rfoulsO[match],rdefO[match]]\n",
    "    data_2019 = data_2019.append(pd.DataFrame([data],columns = col_names), ignore_index = True)"
   ]
  },
  {
   "cell_type": "code",
   "execution_count": null,
   "metadata": {},
   "outputs": [],
   "source": [
    "for stat in data_2019:\n",
    "    if stat != 'Robot':\n",
    "        data_2019[stat] = data_2019[stat].astype('float64')\n",
    "data_2019"
   ]
  },
  {
   "cell_type": "code",
   "execution_count": null,
   "metadata": {},
   "outputs": [],
   "source": [
    "grouped_2019 = data_2019.groupby(by = 'Robot').mean()\n",
    "for stat in grouped_2019.columns:\n",
    "    if stat != 'Endgame':\n",
    "        grouped_2019[stat] = grouped_2019[stat]/3\n",
    "grouped_2019"
   ]
  },
  {
   "cell_type": "code",
   "execution_count": null,
   "metadata": {},
   "outputs": [],
   "source": [
    "from EventProcessor2017 import process_2017\n",
    "from EventProcessor2018 import process_2018\n",
    "from EventProcessor2019 import process_2019\n"
   ]
  },
  {
   "cell_type": "code",
   "execution_count": null,
   "metadata": {},
   "outputs": [],
   "source": []
  },
  {
   "cell_type": "code",
   "execution_count": null,
   "metadata": {},
   "outputs": [],
   "source": [
    "competition = '2019paphi'\n",
    "paphi2019 = pd.DataFrame(process_2019(competition))"
   ]
  },
  {
   "cell_type": "code",
   "execution_count": null,
   "metadata": {},
   "outputs": [],
   "source": [
    "paphi2019"
   ]
  },
  {
   "cell_type": "code",
   "execution_count": null,
   "metadata": {},
   "outputs": [],
   "source": [
    "for col in paphi2019.columns:\n",
    "    if col not in ['Fouls','Defense']:\n",
    "        paphi2019[col] = paphi2019[col]/max(paphi2019[col])\n",
    "    else:\n",
    "        paphi2019[col] = 1- paphi2019[col]/min(paphi2019[col])\n",
    "paphi2019"
   ]
  },
  {
   "cell_type": "code",
   "execution_count": null,
   "metadata": {
    "scrolled": true
   },
   "outputs": [],
   "source": [
    "for col in paphi2019.columns:\n",
    "    if col in ['Fouls','Defense']:\n",
    "        paphi2019[col] = paphi2019[col]/max(paphi2019[col])\n",
    "paphi2019"
   ]
  },
  {
   "cell_type": "code",
   "execution_count": null,
   "metadata": {},
   "outputs": [],
   "source": []
  },
  {
   "cell_type": "code",
   "execution_count": null,
   "metadata": {},
   "outputs": [],
   "source": [
    "teams = ['frc5404','frc2168', 'frc1495']"
   ]
  },
  {
   "cell_type": "code",
   "execution_count": null,
   "metadata": {
    "scrolled": true
   },
   "outputs": [],
   "source": [
    "\n",
    "alliance = pd.DataFrame([[0,0,0,0,0,0,0]], columns = paphi2019.columns)\n",
    "alliance['alliance'] = 'alliance'\n",
    "for team in teams:\n",
    "    df = pd.DataFrame(paphi2019.loc[team].T)\n",
    "    df['theta'] = df.index\n",
    "    fig = px.line_polar(df, r=team, theta='theta', line_close=True, title = competition + ': ' + df.columns[0])\n",
    "    fig.update_traces(fill='toself')\n",
    "    fig.update_layout(title_x=0.5)\n",
    "    fig.show()\n",
    "    \n",
    "    for col in paphi2019.columns:\n",
    "        alliance[col] += paphi2019.loc[team][col]\n",
    "for col in alliance.columns:\n",
    "    if col != 'alliance':\n",
    "        alliance[col] = alliance[col]/3\n",
    "\n",
    "alliance = alliance.set_index('alliance')\n",
    "df = pd.DataFrame(alliance.loc['alliance'].T)\n",
    "df['theta'] = df.index\n",
    "fig = px.line_polar(df, r='alliance', theta='theta', line_close=True, title = competition + ': ' + df.columns[0])\n",
    "fig.update_traces(fill='toself')\n",
    "fig.update_layout(title_x=0.5)\n",
    "fig.show()"
   ]
  },
  {
   "cell_type": "code",
   "execution_count": null,
   "metadata": {
    "scrolled": true
   },
   "outputs": [],
   "source": [
    "# 2539\t225\t2095\n",
    "teams = ['frc2539','frc225', 'frc2095']\n",
    "alliance = pd.DataFrame([[0,0,0,0,0,0,0]], columns = paphi2019.columns)\n",
    "alliance['alliance'] = 'alliance'\n",
    "for team in teams:\n",
    "    df = pd.DataFrame(paphi2019.loc[team].T)\n",
    "    df['theta'] = df.index\n",
    "    fig = px.line_polar(df, r=team, theta='theta', line_close=True, title = competition + ': ' + df.columns[0])\n",
    "    fig.update_traces(fill='toself')\n",
    "    fig.update_layout(title_x=0.5)\n",
    "    fig.show()\n",
    "    \n",
    "    for col in paphi2019.columns:\n",
    "        alliance[col] += paphi2019.loc[team][col]\n",
    "for col in alliance.columns:\n",
    "    if col != 'alliance':\n",
    "        alliance[col] = alliance[col]/3\n",
    "\n",
    "alliance = alliance.set_index('alliance')\n",
    "df = pd.DataFrame(alliance.loc['alliance'].T)\n",
    "df['theta'] = df.index\n",
    "fig = px.line_polar(df, r='alliance', theta='theta', line_close=True, title = competition + ': ' + df.columns[0])\n",
    "fig.update_traces(fill='toself')\n",
    "fig.update_layout(title_x=0.5)\n",
    "fig.show()"
   ]
  },
  {
   "cell_type": "code",
   "execution_count": null,
   "metadata": {
    "scrolled": true
   },
   "outputs": [],
   "source": [
    "# 1218\t2016\t486\n",
    "teams = ['frc1218','frc2016', 'frc486']\n",
    "alliance = pd.DataFrame([[0,0,0,0,0,0,0]], columns = paphi2019.columns)\n",
    "alliance['alliance'] = 'alliance'\n",
    "for team in teams:\n",
    "    df = pd.DataFrame(paphi2019.loc[team].T)\n",
    "    df['theta'] = df.index\n",
    "    fig = px.line_polar(df, r=team, theta='theta', line_close=True, title = competition + ': ' + df.columns[0])\n",
    "    fig.update_traces(fill='toself')\n",
    "    fig.update_layout(title_x=0.5)\n",
    "    fig.show()\n",
    "    \n",
    "    for col in paphi2019.columns:\n",
    "        alliance[col] += paphi2019.loc[team][col]\n",
    "for col in alliance.columns:\n",
    "    if col != 'alliance':\n",
    "        alliance[col] = alliance[col]/3\n",
    "\n",
    "alliance = alliance.set_index('alliance')\n",
    "df = pd.DataFrame(alliance.loc['alliance'].T)\n",
    "df['theta'] = df.index\n",
    "fig = px.line_polar(df, r='alliance', theta='theta', line_close=True, title = competition + ': ' + df.columns[0])\n",
    "fig.update_traces(fill='toself')\n",
    "fig.update_layout(title_x=0.5)\n",
    "fig.show()"
   ]
  },
  {
   "cell_type": "code",
   "execution_count": null,
   "metadata": {
    "scrolled": false
   },
   "outputs": [],
   "source": [
    "teams = ['frc1218','frc2016', 'frc486']\n",
    "alliance = pd.DataFrame([[0,0,0,0,0,0,0]], columns = paphi2019.columns)\n",
    "alliance['alliance'] = 'alliance'\n",
    "for team in teams:\n",
    "    df = pd.DataFrame(paphi2019.loc[team].T)\n",
    "    df['theta'] = df.index\n",
    "    fig = px.line_polar(df, r=team, theta='theta', line_close=True, title = competition + ': ' + df.columns[0])\n",
    "    fig.update_traces(fill='toself')\n",
    "    fig.update_layout(title_x=0.5)\n",
    "    fig.show()\n",
    "    \n",
    "    for col in paphi2019.columns:\n",
    "        alliance[col] += paphi2019.loc[team][col]\n",
    "for col in alliance.columns:\n",
    "    if col != 'alliance':\n",
    "        alliance[col] = alliance[col]/3\n",
    "\n",
    "alliance = alliance.set_index('alliance')\n",
    "df = pd.DataFrame(alliance.loc['alliance'].T)\n",
    "df['theta'] = df.index\n",
    "fig = px.line_polar(df, r='alliance', theta='theta', line_close=True, title = competition + ': ' + df.columns[0])\n",
    "fig.update_traces(fill='toself')\n",
    "fig.update_layout(title_x=0.5)\n",
    "fig.show()"
   ]
  },
  {
   "cell_type": "code",
   "execution_count": null,
   "metadata": {},
   "outputs": [],
   "source": [
    "import plotly.graph_objects as go\n",
    "\n",
    "teams1 = ['frc1218','frc2016', 'frc486']\n",
    "alliance1 = pd.DataFrame([[0,0,0,0,0,0,0]], columns = paphi2019.columns)\n",
    "alliance1['alliance'] = 'alliance'\n",
    "for team in teams1:\n",
    "    df = pd.DataFrame(paphi2019.loc[team].T)\n",
    "    df['theta'] = df.index\n",
    "    \n",
    "    for col in paphi2019.columns:\n",
    "        alliance1[col] += paphi2019.loc[team][col]\n",
    "for col in alliance1.columns:\n",
    "    if col != 'alliance':\n",
    "        alliance1[col] = alliance1[col]/3\n",
    "\n",
    "alliance1 = alliance1.set_index('alliance')\n",
    "df1 = pd.DataFrame(alliance1.loc['alliance'].T)\n",
    "df1['theta'] = df1.index\n",
    "\n",
    "teams2 = ['frc5404','frc2168', 'frc1495']\n",
    "alliance2 = pd.DataFrame([[0,0,0,0,0,0,0]], columns = paphi2019.columns)\n",
    "alliance2['alliance'] = 'alliance'\n",
    "for team in teams2:\n",
    "    df = pd.DataFrame(paphi2019.loc[team].T)\n",
    "    df['theta'] = df.index\n",
    "    \n",
    "    for col in paphi2019.columns:\n",
    "        alliance2[col] += paphi2019.loc[team][col]\n",
    "for col in alliance2.columns:\n",
    "    if col != 'alliance':\n",
    "        alliance2[col] = alliance2[col]/3\n",
    "\n",
    "alliance2 = alliance2.set_index('alliance')\n",
    "df2 = pd.DataFrame(alliance2.loc['alliance'].T)\n",
    "df2['theta'] = df2.index\n",
    "\n",
    "\n",
    "\n",
    "categories = list(paphi2019.columns)\n",
    "\n",
    "fig = go.Figure()\n",
    "\n",
    "fig.add_trace(go.Scatterpolar(\n",
    "      r=df1['alliance'],\n",
    "      theta=categories,\n",
    "      fill='toself',\n",
    "      name='Alliance 1'\n",
    "))\n",
    "fig.add_trace(go.Scatterpolar(\n",
    "      r=df2['alliance'],\n",
    "      theta=categories,\n",
    "      fill='toself',\n",
    "      name='Alliance 2'\n",
    "))\n",
    "\n",
    "fig.update_layout(\n",
    "  polar=dict(\n",
    "    radialaxis=dict(\n",
    "      visible=True,\n",
    "      range=[0, 1]\n",
    "    )),\n",
    "  showlegend=False\n",
    ")\n",
    "\n",
    "fig.show()"
   ]
  },
  {
   "cell_type": "code",
   "execution_count": null,
   "metadata": {},
   "outputs": [],
   "source": [
    "df1"
   ]
  },
  {
   "cell_type": "code",
   "execution_count": null,
   "metadata": {},
   "outputs": [],
   "source": [
    "df2"
   ]
  },
  {
   "cell_type": "code",
   "execution_count": 3,
   "metadata": {},
   "outputs": [],
   "source": [
    "competitions = pd.read_csv('competitions.csv')"
   ]
  },
  {
   "cell_type": "code",
   "execution_count": 2,
   "metadata": {},
   "outputs": [
    {
     "ename": "NameError",
     "evalue": "name 'competitions' is not defined",
     "output_type": "error",
     "traceback": [
      "\u001b[1;31m---------------------------------------------------------------------------\u001b[0m",
      "\u001b[1;31mNameError\u001b[0m                                 Traceback (most recent call last)",
      "\u001b[1;32m~\\AppData\\Local\\Temp/ipykernel_27696/4192524121.py\u001b[0m in \u001b[0;36m<module>\u001b[1;34m\u001b[0m\n\u001b[1;32m----> 1\u001b[1;33m \u001b[0mcompetitions\u001b[0m\u001b[1;33m\u001b[0m\u001b[1;33m\u001b[0m\u001b[0m\n\u001b[0m",
      "\u001b[1;31mNameError\u001b[0m: name 'competitions' is not defined"
     ]
    }
   ],
   "source": [
    "competitions"
   ]
  },
  {
   "cell_type": "code",
   "execution_count": 4,
   "metadata": {},
   "outputs": [
    {
     "data": {
      "text/html": [
       "<div>\n",
       "<style scoped>\n",
       "    .dataframe tbody tr th:only-of-type {\n",
       "        vertical-align: middle;\n",
       "    }\n",
       "\n",
       "    .dataframe tbody tr th {\n",
       "        vertical-align: top;\n",
       "    }\n",
       "\n",
       "    .dataframe thead th {\n",
       "        text-align: right;\n",
       "    }\n",
       "</style>\n",
       "<table border=\"1\" class=\"dataframe\">\n",
       "  <thead>\n",
       "    <tr style=\"text-align: right;\">\n",
       "      <th></th>\n",
       "      <th>Unnamed: 0</th>\n",
       "      <th>Robot</th>\n",
       "      <th>Traditional_Scoring_High</th>\n",
       "      <th>Traditional_Scoring_Low</th>\n",
       "      <th>Technical_Scoring</th>\n",
       "      <th>Autonomous_Scoring</th>\n",
       "      <th>Endgame</th>\n",
       "      <th>Fouls</th>\n",
       "      <th>Defense</th>\n",
       "      <th>Competition</th>\n",
       "      <th>Year</th>\n",
       "    </tr>\n",
       "  </thead>\n",
       "  <tbody>\n",
       "    <tr>\n",
       "      <th>2319</th>\n",
       "      <td>2319</td>\n",
       "      <td>frc2168</td>\n",
       "      <td>1.000000</td>\n",
       "      <td>0.836066</td>\n",
       "      <td>1.000000</td>\n",
       "      <td>1.000000</td>\n",
       "      <td>0.378788</td>\n",
       "      <td>0.624242</td>\n",
       "      <td>0.854111</td>\n",
       "      <td>2019paphi</td>\n",
       "      <td>2019</td>\n",
       "    </tr>\n",
       "    <tr>\n",
       "      <th>2320</th>\n",
       "      <td>2320</td>\n",
       "      <td>frc316</td>\n",
       "      <td>0.331169</td>\n",
       "      <td>0.790398</td>\n",
       "      <td>0.820197</td>\n",
       "      <td>0.968067</td>\n",
       "      <td>0.214286</td>\n",
       "      <td>0.423377</td>\n",
       "      <td>0.341796</td>\n",
       "      <td>2019paphi</td>\n",
       "      <td>2019</td>\n",
       "    </tr>\n",
       "    <tr>\n",
       "      <th>2321</th>\n",
       "      <td>2321</td>\n",
       "      <td>frc103</td>\n",
       "      <td>0.389610</td>\n",
       "      <td>0.906323</td>\n",
       "      <td>0.820197</td>\n",
       "      <td>0.771429</td>\n",
       "      <td>0.759740</td>\n",
       "      <td>0.781818</td>\n",
       "      <td>0.619174</td>\n",
       "      <td>2019paphi</td>\n",
       "      <td>2019</td>\n",
       "    </tr>\n",
       "    <tr>\n",
       "      <th>2322</th>\n",
       "      <td>2322</td>\n",
       "      <td>frc4342</td>\n",
       "      <td>0.448052</td>\n",
       "      <td>0.906323</td>\n",
       "      <td>0.631773</td>\n",
       "      <td>0.831933</td>\n",
       "      <td>0.701299</td>\n",
       "      <td>0.283117</td>\n",
       "      <td>0.332702</td>\n",
       "      <td>2019paphi</td>\n",
       "      <td>2019</td>\n",
       "    </tr>\n",
       "    <tr>\n",
       "      <th>2323</th>\n",
       "      <td>2323</td>\n",
       "      <td>frc2016</td>\n",
       "      <td>0.363636</td>\n",
       "      <td>0.844262</td>\n",
       "      <td>0.612069</td>\n",
       "      <td>0.941176</td>\n",
       "      <td>0.469697</td>\n",
       "      <td>0.600000</td>\n",
       "      <td>0.358974</td>\n",
       "      <td>2019paphi</td>\n",
       "      <td>2019</td>\n",
       "    </tr>\n",
       "    <tr>\n",
       "      <th>2324</th>\n",
       "      <td>2324</td>\n",
       "      <td>frc4373</td>\n",
       "      <td>0.090909</td>\n",
       "      <td>0.823770</td>\n",
       "      <td>0.491379</td>\n",
       "      <td>0.864706</td>\n",
       "      <td>0.295455</td>\n",
       "      <td>0.509091</td>\n",
       "      <td>0.795756</td>\n",
       "      <td>2019paphi</td>\n",
       "      <td>2019</td>\n",
       "    </tr>\n",
       "    <tr>\n",
       "      <th>2325</th>\n",
       "      <td>2325</td>\n",
       "      <td>frc486</td>\n",
       "      <td>0.090909</td>\n",
       "      <td>0.877049</td>\n",
       "      <td>0.491379</td>\n",
       "      <td>0.964706</td>\n",
       "      <td>0.333333</td>\n",
       "      <td>0.175758</td>\n",
       "      <td>0.440318</td>\n",
       "      <td>2019paphi</td>\n",
       "      <td>2019</td>\n",
       "    </tr>\n",
       "    <tr>\n",
       "      <th>2326</th>\n",
       "      <td>2326</td>\n",
       "      <td>frc7599</td>\n",
       "      <td>0.159091</td>\n",
       "      <td>0.676230</td>\n",
       "      <td>0.426724</td>\n",
       "      <td>0.758824</td>\n",
       "      <td>0.159091</td>\n",
       "      <td>0.000000</td>\n",
       "      <td>0.000000</td>\n",
       "      <td>2019paphi</td>\n",
       "      <td>2019</td>\n",
       "    </tr>\n",
       "    <tr>\n",
       "      <th>2327</th>\n",
       "      <td>2327</td>\n",
       "      <td>frc1218</td>\n",
       "      <td>0.121212</td>\n",
       "      <td>0.967213</td>\n",
       "      <td>0.603448</td>\n",
       "      <td>0.976471</td>\n",
       "      <td>0.742424</td>\n",
       "      <td>0.600000</td>\n",
       "      <td>0.419098</td>\n",
       "      <td>2019paphi</td>\n",
       "      <td>2019</td>\n",
       "    </tr>\n",
       "    <tr>\n",
       "      <th>2328</th>\n",
       "      <td>2328</td>\n",
       "      <td>frc2180</td>\n",
       "      <td>0.272727</td>\n",
       "      <td>0.937939</td>\n",
       "      <td>0.653941</td>\n",
       "      <td>0.816807</td>\n",
       "      <td>0.214286</td>\n",
       "      <td>0.438961</td>\n",
       "      <td>0.355438</td>\n",
       "      <td>2019paphi</td>\n",
       "      <td>2019</td>\n",
       "    </tr>\n",
       "    <tr>\n",
       "      <th>2329</th>\n",
       "      <td>2329</td>\n",
       "      <td>frc5181</td>\n",
       "      <td>0.255682</td>\n",
       "      <td>0.876025</td>\n",
       "      <td>0.630388</td>\n",
       "      <td>0.952941</td>\n",
       "      <td>0.562500</td>\n",
       "      <td>0.454545</td>\n",
       "      <td>0.458886</td>\n",
       "      <td>2019paphi</td>\n",
       "      <td>2019</td>\n",
       "    </tr>\n",
       "    <tr>\n",
       "      <th>2330</th>\n",
       "      <td>2330</td>\n",
       "      <td>frc5404</td>\n",
       "      <td>0.696970</td>\n",
       "      <td>1.000000</td>\n",
       "      <td>0.844828</td>\n",
       "      <td>0.988235</td>\n",
       "      <td>1.000000</td>\n",
       "      <td>0.600000</td>\n",
       "      <td>0.723254</td>\n",
       "      <td>2019paphi</td>\n",
       "      <td>2019</td>\n",
       "    </tr>\n",
       "    <tr>\n",
       "      <th>2331</th>\n",
       "      <td>2331</td>\n",
       "      <td>frc7414</td>\n",
       "      <td>0.370130</td>\n",
       "      <td>0.748244</td>\n",
       "      <td>0.908867</td>\n",
       "      <td>0.726050</td>\n",
       "      <td>0.253247</td>\n",
       "      <td>0.438961</td>\n",
       "      <td>0.801061</td>\n",
       "      <td>2019paphi</td>\n",
       "      <td>2019</td>\n",
       "    </tr>\n",
       "    <tr>\n",
       "      <th>2332</th>\n",
       "      <td>2332</td>\n",
       "      <td>frc708</td>\n",
       "      <td>0.170455</td>\n",
       "      <td>0.802254</td>\n",
       "      <td>0.756466</td>\n",
       "      <td>0.939706</td>\n",
       "      <td>0.715909</td>\n",
       "      <td>0.713636</td>\n",
       "      <td>0.423077</td>\n",
       "      <td>2019paphi</td>\n",
       "      <td>2019</td>\n",
       "    </tr>\n",
       "    <tr>\n",
       "      <th>2333</th>\n",
       "      <td>2333</td>\n",
       "      <td>frc5407</td>\n",
       "      <td>0.102273</td>\n",
       "      <td>0.802254</td>\n",
       "      <td>0.814655</td>\n",
       "      <td>0.913235</td>\n",
       "      <td>0.801136</td>\n",
       "      <td>0.536364</td>\n",
       "      <td>0.076923</td>\n",
       "      <td>2019paphi</td>\n",
       "      <td>2019</td>\n",
       "    </tr>\n",
       "    <tr>\n",
       "      <th>2334</th>\n",
       "      <td>2334</td>\n",
       "      <td>frc225</td>\n",
       "      <td>0.835227</td>\n",
       "      <td>0.728484</td>\n",
       "      <td>0.814655</td>\n",
       "      <td>0.741176</td>\n",
       "      <td>0.426136</td>\n",
       "      <td>0.195455</td>\n",
       "      <td>0.562334</td>\n",
       "      <td>2019paphi</td>\n",
       "      <td>2019</td>\n",
       "    </tr>\n",
       "    <tr>\n",
       "      <th>2335</th>\n",
       "      <td>2335</td>\n",
       "      <td>frc752</td>\n",
       "      <td>0.022727</td>\n",
       "      <td>0.725410</td>\n",
       "      <td>0.465517</td>\n",
       "      <td>0.847059</td>\n",
       "      <td>0.227273</td>\n",
       "      <td>1.000000</td>\n",
       "      <td>0.063660</td>\n",
       "      <td>2019paphi</td>\n",
       "      <td>2019</td>\n",
       "    </tr>\n",
       "    <tr>\n",
       "      <th>2336</th>\n",
       "      <td>2336</td>\n",
       "      <td>frc321</td>\n",
       "      <td>0.318182</td>\n",
       "      <td>0.909836</td>\n",
       "      <td>0.672414</td>\n",
       "      <td>0.829412</td>\n",
       "      <td>0.454545</td>\n",
       "      <td>0.036364</td>\n",
       "      <td>0.344828</td>\n",
       "      <td>2019paphi</td>\n",
       "      <td>2019</td>\n",
       "    </tr>\n",
       "    <tr>\n",
       "      <th>2337</th>\n",
       "      <td>2337</td>\n",
       "      <td>frc293</td>\n",
       "      <td>0.311688</td>\n",
       "      <td>0.822014</td>\n",
       "      <td>0.543103</td>\n",
       "      <td>0.937815</td>\n",
       "      <td>0.233766</td>\n",
       "      <td>0.392208</td>\n",
       "      <td>0.573702</td>\n",
       "      <td>2019paphi</td>\n",
       "      <td>2019</td>\n",
       "    </tr>\n",
       "    <tr>\n",
       "      <th>2338</th>\n",
       "      <td>2338</td>\n",
       "      <td>frc709</td>\n",
       "      <td>0.214286</td>\n",
       "      <td>0.811475</td>\n",
       "      <td>0.543103</td>\n",
       "      <td>0.998319</td>\n",
       "      <td>0.818182</td>\n",
       "      <td>0.548052</td>\n",
       "      <td>0.118984</td>\n",
       "      <td>2019paphi</td>\n",
       "      <td>2019</td>\n",
       "    </tr>\n",
       "    <tr>\n",
       "      <th>2339</th>\n",
       "      <td>2339</td>\n",
       "      <td>frc747</td>\n",
       "      <td>0.253247</td>\n",
       "      <td>0.758782</td>\n",
       "      <td>0.753695</td>\n",
       "      <td>0.862185</td>\n",
       "      <td>0.740260</td>\n",
       "      <td>0.625974</td>\n",
       "      <td>0.828344</td>\n",
       "      <td>2019paphi</td>\n",
       "      <td>2019</td>\n",
       "    </tr>\n",
       "    <tr>\n",
       "      <th>2340</th>\n",
       "      <td>2340</td>\n",
       "      <td>frc2095</td>\n",
       "      <td>0.255682</td>\n",
       "      <td>0.876025</td>\n",
       "      <td>0.601293</td>\n",
       "      <td>0.926471</td>\n",
       "      <td>0.340909</td>\n",
       "      <td>0.400000</td>\n",
       "      <td>0.665782</td>\n",
       "      <td>2019paphi</td>\n",
       "      <td>2019</td>\n",
       "    </tr>\n",
       "    <tr>\n",
       "      <th>2341</th>\n",
       "      <td>2341</td>\n",
       "      <td>frc1495</td>\n",
       "      <td>0.515152</td>\n",
       "      <td>0.983607</td>\n",
       "      <td>0.784483</td>\n",
       "      <td>0.941176</td>\n",
       "      <td>0.242424</td>\n",
       "      <td>0.321212</td>\n",
       "      <td>0.507515</td>\n",
       "      <td>2019paphi</td>\n",
       "      <td>2019</td>\n",
       "    </tr>\n",
       "    <tr>\n",
       "      <th>2342</th>\n",
       "      <td>2342</td>\n",
       "      <td>frc7877</td>\n",
       "      <td>0.250000</td>\n",
       "      <td>0.688525</td>\n",
       "      <td>0.530172</td>\n",
       "      <td>0.864706</td>\n",
       "      <td>0.204545</td>\n",
       "      <td>0.327273</td>\n",
       "      <td>0.615385</td>\n",
       "      <td>2019paphi</td>\n",
       "      <td>2019</td>\n",
       "    </tr>\n",
       "    <tr>\n",
       "      <th>2343</th>\n",
       "      <td>2343</td>\n",
       "      <td>frc4637</td>\n",
       "      <td>0.181818</td>\n",
       "      <td>0.774590</td>\n",
       "      <td>0.530172</td>\n",
       "      <td>0.758824</td>\n",
       "      <td>0.181818</td>\n",
       "      <td>0.636364</td>\n",
       "      <td>0.779841</td>\n",
       "      <td>2019paphi</td>\n",
       "      <td>2019</td>\n",
       "    </tr>\n",
       "    <tr>\n",
       "      <th>2344</th>\n",
       "      <td>2344</td>\n",
       "      <td>frc3974</td>\n",
       "      <td>0.097403</td>\n",
       "      <td>0.822014</td>\n",
       "      <td>0.487685</td>\n",
       "      <td>0.831933</td>\n",
       "      <td>0.954545</td>\n",
       "      <td>0.392208</td>\n",
       "      <td>0.841986</td>\n",
       "      <td>2019paphi</td>\n",
       "      <td>2019</td>\n",
       "    </tr>\n",
       "    <tr>\n",
       "      <th>2345</th>\n",
       "      <td>2345</td>\n",
       "      <td>frc1168</td>\n",
       "      <td>0.233766</td>\n",
       "      <td>0.980094</td>\n",
       "      <td>0.775862</td>\n",
       "      <td>0.831933</td>\n",
       "      <td>0.233766</td>\n",
       "      <td>0.033766</td>\n",
       "      <td>0.228117</td>\n",
       "      <td>2019paphi</td>\n",
       "      <td>2019</td>\n",
       "    </tr>\n",
       "    <tr>\n",
       "      <th>2346</th>\n",
       "      <td>2346</td>\n",
       "      <td>frc433</td>\n",
       "      <td>0.331169</td>\n",
       "      <td>0.864169</td>\n",
       "      <td>0.576355</td>\n",
       "      <td>0.786555</td>\n",
       "      <td>0.506494</td>\n",
       "      <td>0.641558</td>\n",
       "      <td>0.514589</td>\n",
       "      <td>2019paphi</td>\n",
       "      <td>2019</td>\n",
       "    </tr>\n",
       "    <tr>\n",
       "      <th>2347</th>\n",
       "      <td>2347</td>\n",
       "      <td>frc2729</td>\n",
       "      <td>0.253247</td>\n",
       "      <td>0.948478</td>\n",
       "      <td>0.576355</td>\n",
       "      <td>0.937815</td>\n",
       "      <td>0.448052</td>\n",
       "      <td>0.641558</td>\n",
       "      <td>0.532778</td>\n",
       "      <td>2019paphi</td>\n",
       "      <td>2019</td>\n",
       "    </tr>\n",
       "    <tr>\n",
       "      <th>2348</th>\n",
       "      <td>2348</td>\n",
       "      <td>frc2234</td>\n",
       "      <td>0.159091</td>\n",
       "      <td>0.750000</td>\n",
       "      <td>0.517241</td>\n",
       "      <td>0.811765</td>\n",
       "      <td>0.340909</td>\n",
       "      <td>0.727273</td>\n",
       "      <td>0.488064</td>\n",
       "      <td>2019paphi</td>\n",
       "      <td>2019</td>\n",
       "    </tr>\n",
       "    <tr>\n",
       "      <th>2349</th>\n",
       "      <td>2349</td>\n",
       "      <td>frc2539</td>\n",
       "      <td>0.545455</td>\n",
       "      <td>0.986680</td>\n",
       "      <td>0.727371</td>\n",
       "      <td>0.847059</td>\n",
       "      <td>0.818182</td>\n",
       "      <td>0.372727</td>\n",
       "      <td>1.000000</td>\n",
       "      <td>2019paphi</td>\n",
       "      <td>2019</td>\n",
       "    </tr>\n",
       "  </tbody>\n",
       "</table>\n",
       "</div>"
      ],
      "text/plain": [
       "      Unnamed: 0    Robot  Traditional_Scoring_High  Traditional_Scoring_Low  \\\n",
       "2319        2319  frc2168                  1.000000                 0.836066   \n",
       "2320        2320   frc316                  0.331169                 0.790398   \n",
       "2321        2321   frc103                  0.389610                 0.906323   \n",
       "2322        2322  frc4342                  0.448052                 0.906323   \n",
       "2323        2323  frc2016                  0.363636                 0.844262   \n",
       "2324        2324  frc4373                  0.090909                 0.823770   \n",
       "2325        2325   frc486                  0.090909                 0.877049   \n",
       "2326        2326  frc7599                  0.159091                 0.676230   \n",
       "2327        2327  frc1218                  0.121212                 0.967213   \n",
       "2328        2328  frc2180                  0.272727                 0.937939   \n",
       "2329        2329  frc5181                  0.255682                 0.876025   \n",
       "2330        2330  frc5404                  0.696970                 1.000000   \n",
       "2331        2331  frc7414                  0.370130                 0.748244   \n",
       "2332        2332   frc708                  0.170455                 0.802254   \n",
       "2333        2333  frc5407                  0.102273                 0.802254   \n",
       "2334        2334   frc225                  0.835227                 0.728484   \n",
       "2335        2335   frc752                  0.022727                 0.725410   \n",
       "2336        2336   frc321                  0.318182                 0.909836   \n",
       "2337        2337   frc293                  0.311688                 0.822014   \n",
       "2338        2338   frc709                  0.214286                 0.811475   \n",
       "2339        2339   frc747                  0.253247                 0.758782   \n",
       "2340        2340  frc2095                  0.255682                 0.876025   \n",
       "2341        2341  frc1495                  0.515152                 0.983607   \n",
       "2342        2342  frc7877                  0.250000                 0.688525   \n",
       "2343        2343  frc4637                  0.181818                 0.774590   \n",
       "2344        2344  frc3974                  0.097403                 0.822014   \n",
       "2345        2345  frc1168                  0.233766                 0.980094   \n",
       "2346        2346   frc433                  0.331169                 0.864169   \n",
       "2347        2347  frc2729                  0.253247                 0.948478   \n",
       "2348        2348  frc2234                  0.159091                 0.750000   \n",
       "2349        2349  frc2539                  0.545455                 0.986680   \n",
       "\n",
       "      Technical_Scoring  Autonomous_Scoring   Endgame     Fouls   Defense  \\\n",
       "2319           1.000000            1.000000  0.378788  0.624242  0.854111   \n",
       "2320           0.820197            0.968067  0.214286  0.423377  0.341796   \n",
       "2321           0.820197            0.771429  0.759740  0.781818  0.619174   \n",
       "2322           0.631773            0.831933  0.701299  0.283117  0.332702   \n",
       "2323           0.612069            0.941176  0.469697  0.600000  0.358974   \n",
       "2324           0.491379            0.864706  0.295455  0.509091  0.795756   \n",
       "2325           0.491379            0.964706  0.333333  0.175758  0.440318   \n",
       "2326           0.426724            0.758824  0.159091  0.000000  0.000000   \n",
       "2327           0.603448            0.976471  0.742424  0.600000  0.419098   \n",
       "2328           0.653941            0.816807  0.214286  0.438961  0.355438   \n",
       "2329           0.630388            0.952941  0.562500  0.454545  0.458886   \n",
       "2330           0.844828            0.988235  1.000000  0.600000  0.723254   \n",
       "2331           0.908867            0.726050  0.253247  0.438961  0.801061   \n",
       "2332           0.756466            0.939706  0.715909  0.713636  0.423077   \n",
       "2333           0.814655            0.913235  0.801136  0.536364  0.076923   \n",
       "2334           0.814655            0.741176  0.426136  0.195455  0.562334   \n",
       "2335           0.465517            0.847059  0.227273  1.000000  0.063660   \n",
       "2336           0.672414            0.829412  0.454545  0.036364  0.344828   \n",
       "2337           0.543103            0.937815  0.233766  0.392208  0.573702   \n",
       "2338           0.543103            0.998319  0.818182  0.548052  0.118984   \n",
       "2339           0.753695            0.862185  0.740260  0.625974  0.828344   \n",
       "2340           0.601293            0.926471  0.340909  0.400000  0.665782   \n",
       "2341           0.784483            0.941176  0.242424  0.321212  0.507515   \n",
       "2342           0.530172            0.864706  0.204545  0.327273  0.615385   \n",
       "2343           0.530172            0.758824  0.181818  0.636364  0.779841   \n",
       "2344           0.487685            0.831933  0.954545  0.392208  0.841986   \n",
       "2345           0.775862            0.831933  0.233766  0.033766  0.228117   \n",
       "2346           0.576355            0.786555  0.506494  0.641558  0.514589   \n",
       "2347           0.576355            0.937815  0.448052  0.641558  0.532778   \n",
       "2348           0.517241            0.811765  0.340909  0.727273  0.488064   \n",
       "2349           0.727371            0.847059  0.818182  0.372727  1.000000   \n",
       "\n",
       "     Competition  Year  \n",
       "2319   2019paphi  2019  \n",
       "2320   2019paphi  2019  \n",
       "2321   2019paphi  2019  \n",
       "2322   2019paphi  2019  \n",
       "2323   2019paphi  2019  \n",
       "2324   2019paphi  2019  \n",
       "2325   2019paphi  2019  \n",
       "2326   2019paphi  2019  \n",
       "2327   2019paphi  2019  \n",
       "2328   2019paphi  2019  \n",
       "2329   2019paphi  2019  \n",
       "2330   2019paphi  2019  \n",
       "2331   2019paphi  2019  \n",
       "2332   2019paphi  2019  \n",
       "2333   2019paphi  2019  \n",
       "2334   2019paphi  2019  \n",
       "2335   2019paphi  2019  \n",
       "2336   2019paphi  2019  \n",
       "2337   2019paphi  2019  \n",
       "2338   2019paphi  2019  \n",
       "2339   2019paphi  2019  \n",
       "2340   2019paphi  2019  \n",
       "2341   2019paphi  2019  \n",
       "2342   2019paphi  2019  \n",
       "2343   2019paphi  2019  \n",
       "2344   2019paphi  2019  \n",
       "2345   2019paphi  2019  \n",
       "2346   2019paphi  2019  \n",
       "2347   2019paphi  2019  \n",
       "2348   2019paphi  2019  \n",
       "2349   2019paphi  2019  "
      ]
     },
     "execution_count": 4,
     "metadata": {},
     "output_type": "execute_result"
    }
   ],
   "source": [
    "competition = '2019paphi'\n",
    "comp = competitions[competitions['Competition'] == competition]\n",
    "robot1 = 'frc2539'\n",
    "robot2 = 'frc5404'\n",
    "robot3 = 'frc103'\n",
    "robot4 = 'frc2168'\n",
    "robot5 = 'frc747'\n",
    "robot6 = 'frc3974'\n",
    "robot7 = 'frc1218'\n",
    "robot8 = 'frc708'\n",
    "just_outside = ['frc4342','frc433','frc293','frc2729','frc2016','frc2095','frc709','frc225'] \n",
    "top_8 = [robot1,robot2,robot3,robot4,robot5,robot6,robot7,robot8]\n",
    "all_robots = list(comp['Robot'])\n",
    "comp"
   ]
  },
  {
   "cell_type": "code",
   "execution_count": 5,
   "metadata": {},
   "outputs": [],
   "source": [
    "scoring_cols = list(comp.columns)[2:-2]"
   ]
  },
  {
   "cell_type": "code",
   "execution_count": 6,
   "metadata": {},
   "outputs": [],
   "source": [
    "def calc_alliance_area(teams, comp):\n",
    "    robots = comp[comp['Robot'].isin(teams)]\n",
    "    area = 0\n",
    "    for i, col in enumerate(scoring_cols):\n",
    "        a_col = col\n",
    "        if i == len(scoring_cols)-1:\n",
    "            b_col = scoring_cols[0]\n",
    "        else:\n",
    "            b_col = scoring_cols[i+1]\n",
    "        a = np.mean(robots[a_col].values)\n",
    "        b = np.mean(robots[b_col].values)\n",
    "        c = math.radians(360/7)\n",
    "        triangle = 0.5*a*b*math.sin(c)\n",
    "        area+= triangle\n",
    "    return area"
   ]
  },
  {
   "cell_type": "code",
   "execution_count": 7,
   "metadata": {},
   "outputs": [
    {
     "data": {
      "text/plain": [
       "1.5828780691432907"
      ]
     },
     "execution_count": 7,
     "metadata": {},
     "output_type": "execute_result"
    }
   ],
   "source": [
    "teams1 = ['frc1218','frc2016', 'frc486']\n",
    "teams2 = ['frc5404','frc2168', 'frc1495']\n",
    "calc_alliance_area(teams2, comp)"
   ]
  },
  {
   "cell_type": "code",
   "execution_count": 8,
   "metadata": {},
   "outputs": [],
   "source": [
    "def optimize_all(top_8, just_outside, comp):\n",
    "    alliances = []\n",
    "    all_robots = list(comp['Robot'])\n",
    "    for robot in top_8:\n",
    "        teams = [robot]\n",
    "        all_robots.remove(robot)\n",
    "        best_area = 0\n",
    "        best_robot = ''\n",
    "        for robot_add in all_robots:\n",
    "            teams.append(robot_add)\n",
    "            area = calc_alliance_area(teams,comp)\n",
    "            if area > best_area:\n",
    "                best_area = area\n",
    "                best_robot = robot_add\n",
    "            teams.remove(robot_add)\n",
    "        teams.append(best_robot)\n",
    "        all_robots.remove(best_robot)\n",
    "        if best_robot in top_8:\n",
    "            top_8.remove(best_robot)\n",
    "            top_8.append(just_outside[0])\n",
    "            just_outside.remove(just_outside[0])\n",
    "        if best_robot in just_outside:\n",
    "            just_outside.remove(best_robot)\n",
    "        alliances.append(teams)\n",
    "        \n",
    "        \n",
    "    alliances_r = alliances[::-1]\n",
    "    for alliance in alliances_r:\n",
    "        best_area = 0\n",
    "        best_robot = ''\n",
    "        for robot_add in all_robots:\n",
    "            alliance.append(robot_add)\n",
    "            area = calc_alliance_area(alliance,comp)\n",
    "            if area > best_area:\n",
    "                best_area = area\n",
    "                best_robot = robot_add\n",
    "            alliance.remove(robot_add)\n",
    "        alliance.append(best_robot)\n",
    "        all_robots.remove(best_robot)\n",
    "            \n",
    "    alliances = alliances_r[::-1]\n",
    "        \n",
    "    return alliances"
   ]
  },
  {
   "cell_type": "code",
   "execution_count": 9,
   "metadata": {},
   "outputs": [],
   "source": [
    "optimized_alliances = optimize_all(top_8, just_outside, comp)"
   ]
  },
  {
   "cell_type": "code",
   "execution_count": 10,
   "metadata": {},
   "outputs": [
    {
     "data": {
      "text/html": [
       "<div>\n",
       "<style scoped>\n",
       "    .dataframe tbody tr th:only-of-type {\n",
       "        vertical-align: middle;\n",
       "    }\n",
       "\n",
       "    .dataframe tbody tr th {\n",
       "        vertical-align: top;\n",
       "    }\n",
       "\n",
       "    .dataframe thead th {\n",
       "        text-align: right;\n",
       "    }\n",
       "</style>\n",
       "<table border=\"1\" class=\"dataframe\">\n",
       "  <thead>\n",
       "    <tr style=\"text-align: right;\">\n",
       "      <th></th>\n",
       "      <th>Traditional_Scoring_High</th>\n",
       "      <th>Traditional_Scoring_Low</th>\n",
       "      <th>Technical_Scoring</th>\n",
       "      <th>Autonomous_Scoring</th>\n",
       "      <th>Endgame</th>\n",
       "      <th>Fouls</th>\n",
       "      <th>Defense</th>\n",
       "    </tr>\n",
       "    <tr>\n",
       "      <th>Robot</th>\n",
       "      <th></th>\n",
       "      <th></th>\n",
       "      <th></th>\n",
       "      <th></th>\n",
       "      <th></th>\n",
       "      <th></th>\n",
       "      <th></th>\n",
       "    </tr>\n",
       "  </thead>\n",
       "  <tbody>\n",
       "    <tr>\n",
       "      <th>frc2168</th>\n",
       "      <td>1.000000</td>\n",
       "      <td>0.836066</td>\n",
       "      <td>1.000000</td>\n",
       "      <td>1.000000</td>\n",
       "      <td>0.378788</td>\n",
       "      <td>0.624242</td>\n",
       "      <td>0.854111</td>\n",
       "    </tr>\n",
       "    <tr>\n",
       "      <th>frc316</th>\n",
       "      <td>0.331169</td>\n",
       "      <td>0.790398</td>\n",
       "      <td>0.820197</td>\n",
       "      <td>0.968067</td>\n",
       "      <td>0.214286</td>\n",
       "      <td>0.423377</td>\n",
       "      <td>0.341796</td>\n",
       "    </tr>\n",
       "    <tr>\n",
       "      <th>frc103</th>\n",
       "      <td>0.389610</td>\n",
       "      <td>0.906323</td>\n",
       "      <td>0.820197</td>\n",
       "      <td>0.771429</td>\n",
       "      <td>0.759740</td>\n",
       "      <td>0.781818</td>\n",
       "      <td>0.619174</td>\n",
       "    </tr>\n",
       "    <tr>\n",
       "      <th>frc4342</th>\n",
       "      <td>0.448052</td>\n",
       "      <td>0.906323</td>\n",
       "      <td>0.631773</td>\n",
       "      <td>0.831933</td>\n",
       "      <td>0.701299</td>\n",
       "      <td>0.283117</td>\n",
       "      <td>0.332702</td>\n",
       "    </tr>\n",
       "    <tr>\n",
       "      <th>frc2016</th>\n",
       "      <td>0.363636</td>\n",
       "      <td>0.844262</td>\n",
       "      <td>0.612069</td>\n",
       "      <td>0.941176</td>\n",
       "      <td>0.469697</td>\n",
       "      <td>0.600000</td>\n",
       "      <td>0.358974</td>\n",
       "    </tr>\n",
       "    <tr>\n",
       "      <th>frc4373</th>\n",
       "      <td>0.090909</td>\n",
       "      <td>0.823770</td>\n",
       "      <td>0.491379</td>\n",
       "      <td>0.864706</td>\n",
       "      <td>0.295455</td>\n",
       "      <td>0.509091</td>\n",
       "      <td>0.795756</td>\n",
       "    </tr>\n",
       "    <tr>\n",
       "      <th>frc486</th>\n",
       "      <td>0.090909</td>\n",
       "      <td>0.877049</td>\n",
       "      <td>0.491379</td>\n",
       "      <td>0.964706</td>\n",
       "      <td>0.333333</td>\n",
       "      <td>0.175758</td>\n",
       "      <td>0.440318</td>\n",
       "    </tr>\n",
       "    <tr>\n",
       "      <th>frc7599</th>\n",
       "      <td>0.159091</td>\n",
       "      <td>0.676230</td>\n",
       "      <td>0.426724</td>\n",
       "      <td>0.758824</td>\n",
       "      <td>0.159091</td>\n",
       "      <td>0.000000</td>\n",
       "      <td>0.000000</td>\n",
       "    </tr>\n",
       "    <tr>\n",
       "      <th>frc1218</th>\n",
       "      <td>0.121212</td>\n",
       "      <td>0.967213</td>\n",
       "      <td>0.603448</td>\n",
       "      <td>0.976471</td>\n",
       "      <td>0.742424</td>\n",
       "      <td>0.600000</td>\n",
       "      <td>0.419098</td>\n",
       "    </tr>\n",
       "    <tr>\n",
       "      <th>frc2180</th>\n",
       "      <td>0.272727</td>\n",
       "      <td>0.937939</td>\n",
       "      <td>0.653941</td>\n",
       "      <td>0.816807</td>\n",
       "      <td>0.214286</td>\n",
       "      <td>0.438961</td>\n",
       "      <td>0.355438</td>\n",
       "    </tr>\n",
       "    <tr>\n",
       "      <th>frc5181</th>\n",
       "      <td>0.255682</td>\n",
       "      <td>0.876025</td>\n",
       "      <td>0.630388</td>\n",
       "      <td>0.952941</td>\n",
       "      <td>0.562500</td>\n",
       "      <td>0.454545</td>\n",
       "      <td>0.458886</td>\n",
       "    </tr>\n",
       "    <tr>\n",
       "      <th>frc5404</th>\n",
       "      <td>0.696970</td>\n",
       "      <td>1.000000</td>\n",
       "      <td>0.844828</td>\n",
       "      <td>0.988235</td>\n",
       "      <td>1.000000</td>\n",
       "      <td>0.600000</td>\n",
       "      <td>0.723254</td>\n",
       "    </tr>\n",
       "    <tr>\n",
       "      <th>frc7414</th>\n",
       "      <td>0.370130</td>\n",
       "      <td>0.748244</td>\n",
       "      <td>0.908867</td>\n",
       "      <td>0.726050</td>\n",
       "      <td>0.253247</td>\n",
       "      <td>0.438961</td>\n",
       "      <td>0.801061</td>\n",
       "    </tr>\n",
       "    <tr>\n",
       "      <th>frc708</th>\n",
       "      <td>0.170455</td>\n",
       "      <td>0.802254</td>\n",
       "      <td>0.756466</td>\n",
       "      <td>0.939706</td>\n",
       "      <td>0.715909</td>\n",
       "      <td>0.713636</td>\n",
       "      <td>0.423077</td>\n",
       "    </tr>\n",
       "    <tr>\n",
       "      <th>frc5407</th>\n",
       "      <td>0.102273</td>\n",
       "      <td>0.802254</td>\n",
       "      <td>0.814655</td>\n",
       "      <td>0.913235</td>\n",
       "      <td>0.801136</td>\n",
       "      <td>0.536364</td>\n",
       "      <td>0.076923</td>\n",
       "    </tr>\n",
       "    <tr>\n",
       "      <th>frc225</th>\n",
       "      <td>0.835227</td>\n",
       "      <td>0.728484</td>\n",
       "      <td>0.814655</td>\n",
       "      <td>0.741176</td>\n",
       "      <td>0.426136</td>\n",
       "      <td>0.195455</td>\n",
       "      <td>0.562334</td>\n",
       "    </tr>\n",
       "    <tr>\n",
       "      <th>frc752</th>\n",
       "      <td>0.022727</td>\n",
       "      <td>0.725410</td>\n",
       "      <td>0.465517</td>\n",
       "      <td>0.847059</td>\n",
       "      <td>0.227273</td>\n",
       "      <td>1.000000</td>\n",
       "      <td>0.063660</td>\n",
       "    </tr>\n",
       "    <tr>\n",
       "      <th>frc321</th>\n",
       "      <td>0.318182</td>\n",
       "      <td>0.909836</td>\n",
       "      <td>0.672414</td>\n",
       "      <td>0.829412</td>\n",
       "      <td>0.454545</td>\n",
       "      <td>0.036364</td>\n",
       "      <td>0.344828</td>\n",
       "    </tr>\n",
       "    <tr>\n",
       "      <th>frc293</th>\n",
       "      <td>0.311688</td>\n",
       "      <td>0.822014</td>\n",
       "      <td>0.543103</td>\n",
       "      <td>0.937815</td>\n",
       "      <td>0.233766</td>\n",
       "      <td>0.392208</td>\n",
       "      <td>0.573702</td>\n",
       "    </tr>\n",
       "    <tr>\n",
       "      <th>frc709</th>\n",
       "      <td>0.214286</td>\n",
       "      <td>0.811475</td>\n",
       "      <td>0.543103</td>\n",
       "      <td>0.998319</td>\n",
       "      <td>0.818182</td>\n",
       "      <td>0.548052</td>\n",
       "      <td>0.118984</td>\n",
       "    </tr>\n",
       "    <tr>\n",
       "      <th>frc747</th>\n",
       "      <td>0.253247</td>\n",
       "      <td>0.758782</td>\n",
       "      <td>0.753695</td>\n",
       "      <td>0.862185</td>\n",
       "      <td>0.740260</td>\n",
       "      <td>0.625974</td>\n",
       "      <td>0.828344</td>\n",
       "    </tr>\n",
       "    <tr>\n",
       "      <th>frc2095</th>\n",
       "      <td>0.255682</td>\n",
       "      <td>0.876025</td>\n",
       "      <td>0.601293</td>\n",
       "      <td>0.926471</td>\n",
       "      <td>0.340909</td>\n",
       "      <td>0.400000</td>\n",
       "      <td>0.665782</td>\n",
       "    </tr>\n",
       "    <tr>\n",
       "      <th>frc1495</th>\n",
       "      <td>0.515152</td>\n",
       "      <td>0.983607</td>\n",
       "      <td>0.784483</td>\n",
       "      <td>0.941176</td>\n",
       "      <td>0.242424</td>\n",
       "      <td>0.321212</td>\n",
       "      <td>0.507515</td>\n",
       "    </tr>\n",
       "    <tr>\n",
       "      <th>frc7877</th>\n",
       "      <td>0.250000</td>\n",
       "      <td>0.688525</td>\n",
       "      <td>0.530172</td>\n",
       "      <td>0.864706</td>\n",
       "      <td>0.204545</td>\n",
       "      <td>0.327273</td>\n",
       "      <td>0.615385</td>\n",
       "    </tr>\n",
       "    <tr>\n",
       "      <th>frc4637</th>\n",
       "      <td>0.181818</td>\n",
       "      <td>0.774590</td>\n",
       "      <td>0.530172</td>\n",
       "      <td>0.758824</td>\n",
       "      <td>0.181818</td>\n",
       "      <td>0.636364</td>\n",
       "      <td>0.779841</td>\n",
       "    </tr>\n",
       "    <tr>\n",
       "      <th>frc3974</th>\n",
       "      <td>0.097403</td>\n",
       "      <td>0.822014</td>\n",
       "      <td>0.487685</td>\n",
       "      <td>0.831933</td>\n",
       "      <td>0.954545</td>\n",
       "      <td>0.392208</td>\n",
       "      <td>0.841986</td>\n",
       "    </tr>\n",
       "    <tr>\n",
       "      <th>frc1168</th>\n",
       "      <td>0.233766</td>\n",
       "      <td>0.980094</td>\n",
       "      <td>0.775862</td>\n",
       "      <td>0.831933</td>\n",
       "      <td>0.233766</td>\n",
       "      <td>0.033766</td>\n",
       "      <td>0.228117</td>\n",
       "    </tr>\n",
       "    <tr>\n",
       "      <th>frc433</th>\n",
       "      <td>0.331169</td>\n",
       "      <td>0.864169</td>\n",
       "      <td>0.576355</td>\n",
       "      <td>0.786555</td>\n",
       "      <td>0.506494</td>\n",
       "      <td>0.641558</td>\n",
       "      <td>0.514589</td>\n",
       "    </tr>\n",
       "    <tr>\n",
       "      <th>frc2729</th>\n",
       "      <td>0.253247</td>\n",
       "      <td>0.948478</td>\n",
       "      <td>0.576355</td>\n",
       "      <td>0.937815</td>\n",
       "      <td>0.448052</td>\n",
       "      <td>0.641558</td>\n",
       "      <td>0.532778</td>\n",
       "    </tr>\n",
       "    <tr>\n",
       "      <th>frc2234</th>\n",
       "      <td>0.159091</td>\n",
       "      <td>0.750000</td>\n",
       "      <td>0.517241</td>\n",
       "      <td>0.811765</td>\n",
       "      <td>0.340909</td>\n",
       "      <td>0.727273</td>\n",
       "      <td>0.488064</td>\n",
       "    </tr>\n",
       "    <tr>\n",
       "      <th>frc2539</th>\n",
       "      <td>0.545455</td>\n",
       "      <td>0.986680</td>\n",
       "      <td>0.727371</td>\n",
       "      <td>0.847059</td>\n",
       "      <td>0.818182</td>\n",
       "      <td>0.372727</td>\n",
       "      <td>1.000000</td>\n",
       "    </tr>\n",
       "  </tbody>\n",
       "</table>\n",
       "</div>"
      ],
      "text/plain": [
       "         Traditional_Scoring_High  Traditional_Scoring_Low  Technical_Scoring  \\\n",
       "Robot                                                                           \n",
       "frc2168                  1.000000                 0.836066           1.000000   \n",
       "frc316                   0.331169                 0.790398           0.820197   \n",
       "frc103                   0.389610                 0.906323           0.820197   \n",
       "frc4342                  0.448052                 0.906323           0.631773   \n",
       "frc2016                  0.363636                 0.844262           0.612069   \n",
       "frc4373                  0.090909                 0.823770           0.491379   \n",
       "frc486                   0.090909                 0.877049           0.491379   \n",
       "frc7599                  0.159091                 0.676230           0.426724   \n",
       "frc1218                  0.121212                 0.967213           0.603448   \n",
       "frc2180                  0.272727                 0.937939           0.653941   \n",
       "frc5181                  0.255682                 0.876025           0.630388   \n",
       "frc5404                  0.696970                 1.000000           0.844828   \n",
       "frc7414                  0.370130                 0.748244           0.908867   \n",
       "frc708                   0.170455                 0.802254           0.756466   \n",
       "frc5407                  0.102273                 0.802254           0.814655   \n",
       "frc225                   0.835227                 0.728484           0.814655   \n",
       "frc752                   0.022727                 0.725410           0.465517   \n",
       "frc321                   0.318182                 0.909836           0.672414   \n",
       "frc293                   0.311688                 0.822014           0.543103   \n",
       "frc709                   0.214286                 0.811475           0.543103   \n",
       "frc747                   0.253247                 0.758782           0.753695   \n",
       "frc2095                  0.255682                 0.876025           0.601293   \n",
       "frc1495                  0.515152                 0.983607           0.784483   \n",
       "frc7877                  0.250000                 0.688525           0.530172   \n",
       "frc4637                  0.181818                 0.774590           0.530172   \n",
       "frc3974                  0.097403                 0.822014           0.487685   \n",
       "frc1168                  0.233766                 0.980094           0.775862   \n",
       "frc433                   0.331169                 0.864169           0.576355   \n",
       "frc2729                  0.253247                 0.948478           0.576355   \n",
       "frc2234                  0.159091                 0.750000           0.517241   \n",
       "frc2539                  0.545455                 0.986680           0.727371   \n",
       "\n",
       "         Autonomous_Scoring   Endgame     Fouls   Defense  \n",
       "Robot                                                      \n",
       "frc2168            1.000000  0.378788  0.624242  0.854111  \n",
       "frc316             0.968067  0.214286  0.423377  0.341796  \n",
       "frc103             0.771429  0.759740  0.781818  0.619174  \n",
       "frc4342            0.831933  0.701299  0.283117  0.332702  \n",
       "frc2016            0.941176  0.469697  0.600000  0.358974  \n",
       "frc4373            0.864706  0.295455  0.509091  0.795756  \n",
       "frc486             0.964706  0.333333  0.175758  0.440318  \n",
       "frc7599            0.758824  0.159091  0.000000  0.000000  \n",
       "frc1218            0.976471  0.742424  0.600000  0.419098  \n",
       "frc2180            0.816807  0.214286  0.438961  0.355438  \n",
       "frc5181            0.952941  0.562500  0.454545  0.458886  \n",
       "frc5404            0.988235  1.000000  0.600000  0.723254  \n",
       "frc7414            0.726050  0.253247  0.438961  0.801061  \n",
       "frc708             0.939706  0.715909  0.713636  0.423077  \n",
       "frc5407            0.913235  0.801136  0.536364  0.076923  \n",
       "frc225             0.741176  0.426136  0.195455  0.562334  \n",
       "frc752             0.847059  0.227273  1.000000  0.063660  \n",
       "frc321             0.829412  0.454545  0.036364  0.344828  \n",
       "frc293             0.937815  0.233766  0.392208  0.573702  \n",
       "frc709             0.998319  0.818182  0.548052  0.118984  \n",
       "frc747             0.862185  0.740260  0.625974  0.828344  \n",
       "frc2095            0.926471  0.340909  0.400000  0.665782  \n",
       "frc1495            0.941176  0.242424  0.321212  0.507515  \n",
       "frc7877            0.864706  0.204545  0.327273  0.615385  \n",
       "frc4637            0.758824  0.181818  0.636364  0.779841  \n",
       "frc3974            0.831933  0.954545  0.392208  0.841986  \n",
       "frc1168            0.831933  0.233766  0.033766  0.228117  \n",
       "frc433             0.786555  0.506494  0.641558  0.514589  \n",
       "frc2729            0.937815  0.448052  0.641558  0.532778  \n",
       "frc2234            0.811765  0.340909  0.727273  0.488064  \n",
       "frc2539            0.847059  0.818182  0.372727  1.000000  "
      ]
     },
     "execution_count": 10,
     "metadata": {},
     "output_type": "execute_result"
    }
   ],
   "source": [
    "comp_plot = comp.drop(['Unnamed: 0', 'Competition','Year'], axis = 1)\n",
    "comp_plot = comp_plot.set_index('Robot')\n",
    "comp_plot"
   ]
  },
  {
   "cell_type": "code",
   "execution_count": 11,
   "metadata": {
    "scrolled": false
   },
   "outputs": [
    {
     "data": {
      "application/vnd.plotly.v1+json": {
       "config": {
        "plotlyServerURL": "https://plot.ly"
       },
       "data": [
        {
         "fill": "toself",
         "hovertemplate": "frc2539=%{r}<br>theta=%{theta}<extra></extra>",
         "legendgroup": "",
         "line": {
          "color": "#636efa",
          "dash": "solid"
         },
         "marker": {
          "symbol": "circle"
         },
         "mode": "lines",
         "name": "",
         "r": [
          0.5454545454545455,
          0.9866803278688524,
          0.7273706896551724,
          0.8470588235294118,
          0.8181818181818182,
          0.3727272727272728,
          1,
          0.5454545454545455
         ],
         "showlegend": false,
         "subplot": "polar",
         "theta": [
          "Traditional_Scoring_High",
          "Traditional_Scoring_Low",
          "Technical_Scoring",
          "Autonomous_Scoring",
          "Endgame",
          "Fouls",
          "Defense",
          "Traditional_Scoring_High"
         ],
         "type": "scatterpolar"
        }
       ],
       "layout": {
        "legend": {
         "tracegroupgap": 0
        },
        "polar": {
         "angularaxis": {
          "direction": "clockwise",
          "rotation": 90
         },
         "domain": {
          "x": [
           0,
           1
          ],
          "y": [
           0,
           1
          ]
         }
        },
        "template": {
         "data": {
          "bar": [
           {
            "error_x": {
             "color": "#2a3f5f"
            },
            "error_y": {
             "color": "#2a3f5f"
            },
            "marker": {
             "line": {
              "color": "#E5ECF6",
              "width": 0.5
             },
             "pattern": {
              "fillmode": "overlay",
              "size": 10,
              "solidity": 0.2
             }
            },
            "type": "bar"
           }
          ],
          "barpolar": [
           {
            "marker": {
             "line": {
              "color": "#E5ECF6",
              "width": 0.5
             },
             "pattern": {
              "fillmode": "overlay",
              "size": 10,
              "solidity": 0.2
             }
            },
            "type": "barpolar"
           }
          ],
          "carpet": [
           {
            "aaxis": {
             "endlinecolor": "#2a3f5f",
             "gridcolor": "white",
             "linecolor": "white",
             "minorgridcolor": "white",
             "startlinecolor": "#2a3f5f"
            },
            "baxis": {
             "endlinecolor": "#2a3f5f",
             "gridcolor": "white",
             "linecolor": "white",
             "minorgridcolor": "white",
             "startlinecolor": "#2a3f5f"
            },
            "type": "carpet"
           }
          ],
          "choropleth": [
           {
            "colorbar": {
             "outlinewidth": 0,
             "ticks": ""
            },
            "type": "choropleth"
           }
          ],
          "contour": [
           {
            "colorbar": {
             "outlinewidth": 0,
             "ticks": ""
            },
            "colorscale": [
             [
              0,
              "#0d0887"
             ],
             [
              0.1111111111111111,
              "#46039f"
             ],
             [
              0.2222222222222222,
              "#7201a8"
             ],
             [
              0.3333333333333333,
              "#9c179e"
             ],
             [
              0.4444444444444444,
              "#bd3786"
             ],
             [
              0.5555555555555556,
              "#d8576b"
             ],
             [
              0.6666666666666666,
              "#ed7953"
             ],
             [
              0.7777777777777778,
              "#fb9f3a"
             ],
             [
              0.8888888888888888,
              "#fdca26"
             ],
             [
              1,
              "#f0f921"
             ]
            ],
            "type": "contour"
           }
          ],
          "contourcarpet": [
           {
            "colorbar": {
             "outlinewidth": 0,
             "ticks": ""
            },
            "type": "contourcarpet"
           }
          ],
          "heatmap": [
           {
            "colorbar": {
             "outlinewidth": 0,
             "ticks": ""
            },
            "colorscale": [
             [
              0,
              "#0d0887"
             ],
             [
              0.1111111111111111,
              "#46039f"
             ],
             [
              0.2222222222222222,
              "#7201a8"
             ],
             [
              0.3333333333333333,
              "#9c179e"
             ],
             [
              0.4444444444444444,
              "#bd3786"
             ],
             [
              0.5555555555555556,
              "#d8576b"
             ],
             [
              0.6666666666666666,
              "#ed7953"
             ],
             [
              0.7777777777777778,
              "#fb9f3a"
             ],
             [
              0.8888888888888888,
              "#fdca26"
             ],
             [
              1,
              "#f0f921"
             ]
            ],
            "type": "heatmap"
           }
          ],
          "heatmapgl": [
           {
            "colorbar": {
             "outlinewidth": 0,
             "ticks": ""
            },
            "colorscale": [
             [
              0,
              "#0d0887"
             ],
             [
              0.1111111111111111,
              "#46039f"
             ],
             [
              0.2222222222222222,
              "#7201a8"
             ],
             [
              0.3333333333333333,
              "#9c179e"
             ],
             [
              0.4444444444444444,
              "#bd3786"
             ],
             [
              0.5555555555555556,
              "#d8576b"
             ],
             [
              0.6666666666666666,
              "#ed7953"
             ],
             [
              0.7777777777777778,
              "#fb9f3a"
             ],
             [
              0.8888888888888888,
              "#fdca26"
             ],
             [
              1,
              "#f0f921"
             ]
            ],
            "type": "heatmapgl"
           }
          ],
          "histogram": [
           {
            "marker": {
             "pattern": {
              "fillmode": "overlay",
              "size": 10,
              "solidity": 0.2
             }
            },
            "type": "histogram"
           }
          ],
          "histogram2d": [
           {
            "colorbar": {
             "outlinewidth": 0,
             "ticks": ""
            },
            "colorscale": [
             [
              0,
              "#0d0887"
             ],
             [
              0.1111111111111111,
              "#46039f"
             ],
             [
              0.2222222222222222,
              "#7201a8"
             ],
             [
              0.3333333333333333,
              "#9c179e"
             ],
             [
              0.4444444444444444,
              "#bd3786"
             ],
             [
              0.5555555555555556,
              "#d8576b"
             ],
             [
              0.6666666666666666,
              "#ed7953"
             ],
             [
              0.7777777777777778,
              "#fb9f3a"
             ],
             [
              0.8888888888888888,
              "#fdca26"
             ],
             [
              1,
              "#f0f921"
             ]
            ],
            "type": "histogram2d"
           }
          ],
          "histogram2dcontour": [
           {
            "colorbar": {
             "outlinewidth": 0,
             "ticks": ""
            },
            "colorscale": [
             [
              0,
              "#0d0887"
             ],
             [
              0.1111111111111111,
              "#46039f"
             ],
             [
              0.2222222222222222,
              "#7201a8"
             ],
             [
              0.3333333333333333,
              "#9c179e"
             ],
             [
              0.4444444444444444,
              "#bd3786"
             ],
             [
              0.5555555555555556,
              "#d8576b"
             ],
             [
              0.6666666666666666,
              "#ed7953"
             ],
             [
              0.7777777777777778,
              "#fb9f3a"
             ],
             [
              0.8888888888888888,
              "#fdca26"
             ],
             [
              1,
              "#f0f921"
             ]
            ],
            "type": "histogram2dcontour"
           }
          ],
          "mesh3d": [
           {
            "colorbar": {
             "outlinewidth": 0,
             "ticks": ""
            },
            "type": "mesh3d"
           }
          ],
          "parcoords": [
           {
            "line": {
             "colorbar": {
              "outlinewidth": 0,
              "ticks": ""
             }
            },
            "type": "parcoords"
           }
          ],
          "pie": [
           {
            "automargin": true,
            "type": "pie"
           }
          ],
          "scatter": [
           {
            "fillpattern": {
             "fillmode": "overlay",
             "size": 10,
             "solidity": 0.2
            },
            "type": "scatter"
           }
          ],
          "scatter3d": [
           {
            "line": {
             "colorbar": {
              "outlinewidth": 0,
              "ticks": ""
             }
            },
            "marker": {
             "colorbar": {
              "outlinewidth": 0,
              "ticks": ""
             }
            },
            "type": "scatter3d"
           }
          ],
          "scattercarpet": [
           {
            "marker": {
             "colorbar": {
              "outlinewidth": 0,
              "ticks": ""
             }
            },
            "type": "scattercarpet"
           }
          ],
          "scattergeo": [
           {
            "marker": {
             "colorbar": {
              "outlinewidth": 0,
              "ticks": ""
             }
            },
            "type": "scattergeo"
           }
          ],
          "scattergl": [
           {
            "marker": {
             "colorbar": {
              "outlinewidth": 0,
              "ticks": ""
             }
            },
            "type": "scattergl"
           }
          ],
          "scattermapbox": [
           {
            "marker": {
             "colorbar": {
              "outlinewidth": 0,
              "ticks": ""
             }
            },
            "type": "scattermapbox"
           }
          ],
          "scatterpolar": [
           {
            "marker": {
             "colorbar": {
              "outlinewidth": 0,
              "ticks": ""
             }
            },
            "type": "scatterpolar"
           }
          ],
          "scatterpolargl": [
           {
            "marker": {
             "colorbar": {
              "outlinewidth": 0,
              "ticks": ""
             }
            },
            "type": "scatterpolargl"
           }
          ],
          "scatterternary": [
           {
            "marker": {
             "colorbar": {
              "outlinewidth": 0,
              "ticks": ""
             }
            },
            "type": "scatterternary"
           }
          ],
          "surface": [
           {
            "colorbar": {
             "outlinewidth": 0,
             "ticks": ""
            },
            "colorscale": [
             [
              0,
              "#0d0887"
             ],
             [
              0.1111111111111111,
              "#46039f"
             ],
             [
              0.2222222222222222,
              "#7201a8"
             ],
             [
              0.3333333333333333,
              "#9c179e"
             ],
             [
              0.4444444444444444,
              "#bd3786"
             ],
             [
              0.5555555555555556,
              "#d8576b"
             ],
             [
              0.6666666666666666,
              "#ed7953"
             ],
             [
              0.7777777777777778,
              "#fb9f3a"
             ],
             [
              0.8888888888888888,
              "#fdca26"
             ],
             [
              1,
              "#f0f921"
             ]
            ],
            "type": "surface"
           }
          ],
          "table": [
           {
            "cells": {
             "fill": {
              "color": "#EBF0F8"
             },
             "line": {
              "color": "white"
             }
            },
            "header": {
             "fill": {
              "color": "#C8D4E3"
             },
             "line": {
              "color": "white"
             }
            },
            "type": "table"
           }
          ]
         },
         "layout": {
          "annotationdefaults": {
           "arrowcolor": "#2a3f5f",
           "arrowhead": 0,
           "arrowwidth": 1
          },
          "autotypenumbers": "strict",
          "coloraxis": {
           "colorbar": {
            "outlinewidth": 0,
            "ticks": ""
           }
          },
          "colorscale": {
           "diverging": [
            [
             0,
             "#8e0152"
            ],
            [
             0.1,
             "#c51b7d"
            ],
            [
             0.2,
             "#de77ae"
            ],
            [
             0.3,
             "#f1b6da"
            ],
            [
             0.4,
             "#fde0ef"
            ],
            [
             0.5,
             "#f7f7f7"
            ],
            [
             0.6,
             "#e6f5d0"
            ],
            [
             0.7,
             "#b8e186"
            ],
            [
             0.8,
             "#7fbc41"
            ],
            [
             0.9,
             "#4d9221"
            ],
            [
             1,
             "#276419"
            ]
           ],
           "sequential": [
            [
             0,
             "#0d0887"
            ],
            [
             0.1111111111111111,
             "#46039f"
            ],
            [
             0.2222222222222222,
             "#7201a8"
            ],
            [
             0.3333333333333333,
             "#9c179e"
            ],
            [
             0.4444444444444444,
             "#bd3786"
            ],
            [
             0.5555555555555556,
             "#d8576b"
            ],
            [
             0.6666666666666666,
             "#ed7953"
            ],
            [
             0.7777777777777778,
             "#fb9f3a"
            ],
            [
             0.8888888888888888,
             "#fdca26"
            ],
            [
             1,
             "#f0f921"
            ]
           ],
           "sequentialminus": [
            [
             0,
             "#0d0887"
            ],
            [
             0.1111111111111111,
             "#46039f"
            ],
            [
             0.2222222222222222,
             "#7201a8"
            ],
            [
             0.3333333333333333,
             "#9c179e"
            ],
            [
             0.4444444444444444,
             "#bd3786"
            ],
            [
             0.5555555555555556,
             "#d8576b"
            ],
            [
             0.6666666666666666,
             "#ed7953"
            ],
            [
             0.7777777777777778,
             "#fb9f3a"
            ],
            [
             0.8888888888888888,
             "#fdca26"
            ],
            [
             1,
             "#f0f921"
            ]
           ]
          },
          "colorway": [
           "#636efa",
           "#EF553B",
           "#00cc96",
           "#ab63fa",
           "#FFA15A",
           "#19d3f3",
           "#FF6692",
           "#B6E880",
           "#FF97FF",
           "#FECB52"
          ],
          "font": {
           "color": "#2a3f5f"
          },
          "geo": {
           "bgcolor": "white",
           "lakecolor": "white",
           "landcolor": "#E5ECF6",
           "showlakes": true,
           "showland": true,
           "subunitcolor": "white"
          },
          "hoverlabel": {
           "align": "left"
          },
          "hovermode": "closest",
          "mapbox": {
           "style": "light"
          },
          "paper_bgcolor": "white",
          "plot_bgcolor": "#E5ECF6",
          "polar": {
           "angularaxis": {
            "gridcolor": "white",
            "linecolor": "white",
            "ticks": ""
           },
           "bgcolor": "#E5ECF6",
           "radialaxis": {
            "gridcolor": "white",
            "linecolor": "white",
            "ticks": ""
           }
          },
          "scene": {
           "xaxis": {
            "backgroundcolor": "#E5ECF6",
            "gridcolor": "white",
            "gridwidth": 2,
            "linecolor": "white",
            "showbackground": true,
            "ticks": "",
            "zerolinecolor": "white"
           },
           "yaxis": {
            "backgroundcolor": "#E5ECF6",
            "gridcolor": "white",
            "gridwidth": 2,
            "linecolor": "white",
            "showbackground": true,
            "ticks": "",
            "zerolinecolor": "white"
           },
           "zaxis": {
            "backgroundcolor": "#E5ECF6",
            "gridcolor": "white",
            "gridwidth": 2,
            "linecolor": "white",
            "showbackground": true,
            "ticks": "",
            "zerolinecolor": "white"
           }
          },
          "shapedefaults": {
           "line": {
            "color": "#2a3f5f"
           }
          },
          "ternary": {
           "aaxis": {
            "gridcolor": "white",
            "linecolor": "white",
            "ticks": ""
           },
           "baxis": {
            "gridcolor": "white",
            "linecolor": "white",
            "ticks": ""
           },
           "bgcolor": "#E5ECF6",
           "caxis": {
            "gridcolor": "white",
            "linecolor": "white",
            "ticks": ""
           }
          },
          "title": {
           "x": 0.05
          },
          "xaxis": {
           "automargin": true,
           "gridcolor": "white",
           "linecolor": "white",
           "ticks": "",
           "title": {
            "standoff": 15
           },
           "zerolinecolor": "white",
           "zerolinewidth": 2
          },
          "yaxis": {
           "automargin": true,
           "gridcolor": "white",
           "linecolor": "white",
           "ticks": "",
           "title": {
            "standoff": 15
           },
           "zerolinecolor": "white",
           "zerolinewidth": 2
          }
         }
        },
        "title": {
         "text": "2019paphi: frc2539",
         "x": 0.5
        }
       }
      }
     },
     "metadata": {},
     "output_type": "display_data"
    },
    {
     "data": {
      "application/vnd.plotly.v1+json": {
       "config": {
        "plotlyServerURL": "https://plot.ly"
       },
       "data": [
        {
         "fill": "toself",
         "hovertemplate": "frc5404=%{r}<br>theta=%{theta}<extra></extra>",
         "legendgroup": "",
         "line": {
          "color": "#636efa",
          "dash": "solid"
         },
         "marker": {
          "symbol": "circle"
         },
         "mode": "lines",
         "name": "",
         "r": [
          0.696969696969697,
          1,
          0.8448275862068965,
          0.9882352941176472,
          1,
          0.6,
          0.7232537577365162,
          0.696969696969697
         ],
         "showlegend": false,
         "subplot": "polar",
         "theta": [
          "Traditional_Scoring_High",
          "Traditional_Scoring_Low",
          "Technical_Scoring",
          "Autonomous_Scoring",
          "Endgame",
          "Fouls",
          "Defense",
          "Traditional_Scoring_High"
         ],
         "type": "scatterpolar"
        }
       ],
       "layout": {
        "legend": {
         "tracegroupgap": 0
        },
        "polar": {
         "angularaxis": {
          "direction": "clockwise",
          "rotation": 90
         },
         "domain": {
          "x": [
           0,
           1
          ],
          "y": [
           0,
           1
          ]
         }
        },
        "template": {
         "data": {
          "bar": [
           {
            "error_x": {
             "color": "#2a3f5f"
            },
            "error_y": {
             "color": "#2a3f5f"
            },
            "marker": {
             "line": {
              "color": "#E5ECF6",
              "width": 0.5
             },
             "pattern": {
              "fillmode": "overlay",
              "size": 10,
              "solidity": 0.2
             }
            },
            "type": "bar"
           }
          ],
          "barpolar": [
           {
            "marker": {
             "line": {
              "color": "#E5ECF6",
              "width": 0.5
             },
             "pattern": {
              "fillmode": "overlay",
              "size": 10,
              "solidity": 0.2
             }
            },
            "type": "barpolar"
           }
          ],
          "carpet": [
           {
            "aaxis": {
             "endlinecolor": "#2a3f5f",
             "gridcolor": "white",
             "linecolor": "white",
             "minorgridcolor": "white",
             "startlinecolor": "#2a3f5f"
            },
            "baxis": {
             "endlinecolor": "#2a3f5f",
             "gridcolor": "white",
             "linecolor": "white",
             "minorgridcolor": "white",
             "startlinecolor": "#2a3f5f"
            },
            "type": "carpet"
           }
          ],
          "choropleth": [
           {
            "colorbar": {
             "outlinewidth": 0,
             "ticks": ""
            },
            "type": "choropleth"
           }
          ],
          "contour": [
           {
            "colorbar": {
             "outlinewidth": 0,
             "ticks": ""
            },
            "colorscale": [
             [
              0,
              "#0d0887"
             ],
             [
              0.1111111111111111,
              "#46039f"
             ],
             [
              0.2222222222222222,
              "#7201a8"
             ],
             [
              0.3333333333333333,
              "#9c179e"
             ],
             [
              0.4444444444444444,
              "#bd3786"
             ],
             [
              0.5555555555555556,
              "#d8576b"
             ],
             [
              0.6666666666666666,
              "#ed7953"
             ],
             [
              0.7777777777777778,
              "#fb9f3a"
             ],
             [
              0.8888888888888888,
              "#fdca26"
             ],
             [
              1,
              "#f0f921"
             ]
            ],
            "type": "contour"
           }
          ],
          "contourcarpet": [
           {
            "colorbar": {
             "outlinewidth": 0,
             "ticks": ""
            },
            "type": "contourcarpet"
           }
          ],
          "heatmap": [
           {
            "colorbar": {
             "outlinewidth": 0,
             "ticks": ""
            },
            "colorscale": [
             [
              0,
              "#0d0887"
             ],
             [
              0.1111111111111111,
              "#46039f"
             ],
             [
              0.2222222222222222,
              "#7201a8"
             ],
             [
              0.3333333333333333,
              "#9c179e"
             ],
             [
              0.4444444444444444,
              "#bd3786"
             ],
             [
              0.5555555555555556,
              "#d8576b"
             ],
             [
              0.6666666666666666,
              "#ed7953"
             ],
             [
              0.7777777777777778,
              "#fb9f3a"
             ],
             [
              0.8888888888888888,
              "#fdca26"
             ],
             [
              1,
              "#f0f921"
             ]
            ],
            "type": "heatmap"
           }
          ],
          "heatmapgl": [
           {
            "colorbar": {
             "outlinewidth": 0,
             "ticks": ""
            },
            "colorscale": [
             [
              0,
              "#0d0887"
             ],
             [
              0.1111111111111111,
              "#46039f"
             ],
             [
              0.2222222222222222,
              "#7201a8"
             ],
             [
              0.3333333333333333,
              "#9c179e"
             ],
             [
              0.4444444444444444,
              "#bd3786"
             ],
             [
              0.5555555555555556,
              "#d8576b"
             ],
             [
              0.6666666666666666,
              "#ed7953"
             ],
             [
              0.7777777777777778,
              "#fb9f3a"
             ],
             [
              0.8888888888888888,
              "#fdca26"
             ],
             [
              1,
              "#f0f921"
             ]
            ],
            "type": "heatmapgl"
           }
          ],
          "histogram": [
           {
            "marker": {
             "pattern": {
              "fillmode": "overlay",
              "size": 10,
              "solidity": 0.2
             }
            },
            "type": "histogram"
           }
          ],
          "histogram2d": [
           {
            "colorbar": {
             "outlinewidth": 0,
             "ticks": ""
            },
            "colorscale": [
             [
              0,
              "#0d0887"
             ],
             [
              0.1111111111111111,
              "#46039f"
             ],
             [
              0.2222222222222222,
              "#7201a8"
             ],
             [
              0.3333333333333333,
              "#9c179e"
             ],
             [
              0.4444444444444444,
              "#bd3786"
             ],
             [
              0.5555555555555556,
              "#d8576b"
             ],
             [
              0.6666666666666666,
              "#ed7953"
             ],
             [
              0.7777777777777778,
              "#fb9f3a"
             ],
             [
              0.8888888888888888,
              "#fdca26"
             ],
             [
              1,
              "#f0f921"
             ]
            ],
            "type": "histogram2d"
           }
          ],
          "histogram2dcontour": [
           {
            "colorbar": {
             "outlinewidth": 0,
             "ticks": ""
            },
            "colorscale": [
             [
              0,
              "#0d0887"
             ],
             [
              0.1111111111111111,
              "#46039f"
             ],
             [
              0.2222222222222222,
              "#7201a8"
             ],
             [
              0.3333333333333333,
              "#9c179e"
             ],
             [
              0.4444444444444444,
              "#bd3786"
             ],
             [
              0.5555555555555556,
              "#d8576b"
             ],
             [
              0.6666666666666666,
              "#ed7953"
             ],
             [
              0.7777777777777778,
              "#fb9f3a"
             ],
             [
              0.8888888888888888,
              "#fdca26"
             ],
             [
              1,
              "#f0f921"
             ]
            ],
            "type": "histogram2dcontour"
           }
          ],
          "mesh3d": [
           {
            "colorbar": {
             "outlinewidth": 0,
             "ticks": ""
            },
            "type": "mesh3d"
           }
          ],
          "parcoords": [
           {
            "line": {
             "colorbar": {
              "outlinewidth": 0,
              "ticks": ""
             }
            },
            "type": "parcoords"
           }
          ],
          "pie": [
           {
            "automargin": true,
            "type": "pie"
           }
          ],
          "scatter": [
           {
            "fillpattern": {
             "fillmode": "overlay",
             "size": 10,
             "solidity": 0.2
            },
            "type": "scatter"
           }
          ],
          "scatter3d": [
           {
            "line": {
             "colorbar": {
              "outlinewidth": 0,
              "ticks": ""
             }
            },
            "marker": {
             "colorbar": {
              "outlinewidth": 0,
              "ticks": ""
             }
            },
            "type": "scatter3d"
           }
          ],
          "scattercarpet": [
           {
            "marker": {
             "colorbar": {
              "outlinewidth": 0,
              "ticks": ""
             }
            },
            "type": "scattercarpet"
           }
          ],
          "scattergeo": [
           {
            "marker": {
             "colorbar": {
              "outlinewidth": 0,
              "ticks": ""
             }
            },
            "type": "scattergeo"
           }
          ],
          "scattergl": [
           {
            "marker": {
             "colorbar": {
              "outlinewidth": 0,
              "ticks": ""
             }
            },
            "type": "scattergl"
           }
          ],
          "scattermapbox": [
           {
            "marker": {
             "colorbar": {
              "outlinewidth": 0,
              "ticks": ""
             }
            },
            "type": "scattermapbox"
           }
          ],
          "scatterpolar": [
           {
            "marker": {
             "colorbar": {
              "outlinewidth": 0,
              "ticks": ""
             }
            },
            "type": "scatterpolar"
           }
          ],
          "scatterpolargl": [
           {
            "marker": {
             "colorbar": {
              "outlinewidth": 0,
              "ticks": ""
             }
            },
            "type": "scatterpolargl"
           }
          ],
          "scatterternary": [
           {
            "marker": {
             "colorbar": {
              "outlinewidth": 0,
              "ticks": ""
             }
            },
            "type": "scatterternary"
           }
          ],
          "surface": [
           {
            "colorbar": {
             "outlinewidth": 0,
             "ticks": ""
            },
            "colorscale": [
             [
              0,
              "#0d0887"
             ],
             [
              0.1111111111111111,
              "#46039f"
             ],
             [
              0.2222222222222222,
              "#7201a8"
             ],
             [
              0.3333333333333333,
              "#9c179e"
             ],
             [
              0.4444444444444444,
              "#bd3786"
             ],
             [
              0.5555555555555556,
              "#d8576b"
             ],
             [
              0.6666666666666666,
              "#ed7953"
             ],
             [
              0.7777777777777778,
              "#fb9f3a"
             ],
             [
              0.8888888888888888,
              "#fdca26"
             ],
             [
              1,
              "#f0f921"
             ]
            ],
            "type": "surface"
           }
          ],
          "table": [
           {
            "cells": {
             "fill": {
              "color": "#EBF0F8"
             },
             "line": {
              "color": "white"
             }
            },
            "header": {
             "fill": {
              "color": "#C8D4E3"
             },
             "line": {
              "color": "white"
             }
            },
            "type": "table"
           }
          ]
         },
         "layout": {
          "annotationdefaults": {
           "arrowcolor": "#2a3f5f",
           "arrowhead": 0,
           "arrowwidth": 1
          },
          "autotypenumbers": "strict",
          "coloraxis": {
           "colorbar": {
            "outlinewidth": 0,
            "ticks": ""
           }
          },
          "colorscale": {
           "diverging": [
            [
             0,
             "#8e0152"
            ],
            [
             0.1,
             "#c51b7d"
            ],
            [
             0.2,
             "#de77ae"
            ],
            [
             0.3,
             "#f1b6da"
            ],
            [
             0.4,
             "#fde0ef"
            ],
            [
             0.5,
             "#f7f7f7"
            ],
            [
             0.6,
             "#e6f5d0"
            ],
            [
             0.7,
             "#b8e186"
            ],
            [
             0.8,
             "#7fbc41"
            ],
            [
             0.9,
             "#4d9221"
            ],
            [
             1,
             "#276419"
            ]
           ],
           "sequential": [
            [
             0,
             "#0d0887"
            ],
            [
             0.1111111111111111,
             "#46039f"
            ],
            [
             0.2222222222222222,
             "#7201a8"
            ],
            [
             0.3333333333333333,
             "#9c179e"
            ],
            [
             0.4444444444444444,
             "#bd3786"
            ],
            [
             0.5555555555555556,
             "#d8576b"
            ],
            [
             0.6666666666666666,
             "#ed7953"
            ],
            [
             0.7777777777777778,
             "#fb9f3a"
            ],
            [
             0.8888888888888888,
             "#fdca26"
            ],
            [
             1,
             "#f0f921"
            ]
           ],
           "sequentialminus": [
            [
             0,
             "#0d0887"
            ],
            [
             0.1111111111111111,
             "#46039f"
            ],
            [
             0.2222222222222222,
             "#7201a8"
            ],
            [
             0.3333333333333333,
             "#9c179e"
            ],
            [
             0.4444444444444444,
             "#bd3786"
            ],
            [
             0.5555555555555556,
             "#d8576b"
            ],
            [
             0.6666666666666666,
             "#ed7953"
            ],
            [
             0.7777777777777778,
             "#fb9f3a"
            ],
            [
             0.8888888888888888,
             "#fdca26"
            ],
            [
             1,
             "#f0f921"
            ]
           ]
          },
          "colorway": [
           "#636efa",
           "#EF553B",
           "#00cc96",
           "#ab63fa",
           "#FFA15A",
           "#19d3f3",
           "#FF6692",
           "#B6E880",
           "#FF97FF",
           "#FECB52"
          ],
          "font": {
           "color": "#2a3f5f"
          },
          "geo": {
           "bgcolor": "white",
           "lakecolor": "white",
           "landcolor": "#E5ECF6",
           "showlakes": true,
           "showland": true,
           "subunitcolor": "white"
          },
          "hoverlabel": {
           "align": "left"
          },
          "hovermode": "closest",
          "mapbox": {
           "style": "light"
          },
          "paper_bgcolor": "white",
          "plot_bgcolor": "#E5ECF6",
          "polar": {
           "angularaxis": {
            "gridcolor": "white",
            "linecolor": "white",
            "ticks": ""
           },
           "bgcolor": "#E5ECF6",
           "radialaxis": {
            "gridcolor": "white",
            "linecolor": "white",
            "ticks": ""
           }
          },
          "scene": {
           "xaxis": {
            "backgroundcolor": "#E5ECF6",
            "gridcolor": "white",
            "gridwidth": 2,
            "linecolor": "white",
            "showbackground": true,
            "ticks": "",
            "zerolinecolor": "white"
           },
           "yaxis": {
            "backgroundcolor": "#E5ECF6",
            "gridcolor": "white",
            "gridwidth": 2,
            "linecolor": "white",
            "showbackground": true,
            "ticks": "",
            "zerolinecolor": "white"
           },
           "zaxis": {
            "backgroundcolor": "#E5ECF6",
            "gridcolor": "white",
            "gridwidth": 2,
            "linecolor": "white",
            "showbackground": true,
            "ticks": "",
            "zerolinecolor": "white"
           }
          },
          "shapedefaults": {
           "line": {
            "color": "#2a3f5f"
           }
          },
          "ternary": {
           "aaxis": {
            "gridcolor": "white",
            "linecolor": "white",
            "ticks": ""
           },
           "baxis": {
            "gridcolor": "white",
            "linecolor": "white",
            "ticks": ""
           },
           "bgcolor": "#E5ECF6",
           "caxis": {
            "gridcolor": "white",
            "linecolor": "white",
            "ticks": ""
           }
          },
          "title": {
           "x": 0.05
          },
          "xaxis": {
           "automargin": true,
           "gridcolor": "white",
           "linecolor": "white",
           "ticks": "",
           "title": {
            "standoff": 15
           },
           "zerolinecolor": "white",
           "zerolinewidth": 2
          },
          "yaxis": {
           "automargin": true,
           "gridcolor": "white",
           "linecolor": "white",
           "ticks": "",
           "title": {
            "standoff": 15
           },
           "zerolinecolor": "white",
           "zerolinewidth": 2
          }
         }
        },
        "title": {
         "text": "2019paphi: frc5404",
         "x": 0.5
        }
       }
      }
     },
     "metadata": {},
     "output_type": "display_data"
    },
    {
     "data": {
      "application/vnd.plotly.v1+json": {
       "config": {
        "plotlyServerURL": "https://plot.ly"
       },
       "data": [
        {
         "fill": "toself",
         "hovertemplate": "frc4637=%{r}<br>theta=%{theta}<extra></extra>",
         "legendgroup": "",
         "line": {
          "color": "#636efa",
          "dash": "solid"
         },
         "marker": {
          "symbol": "circle"
         },
         "mode": "lines",
         "name": "",
         "r": [
          0.1818181818181818,
          0.7745901639344263,
          0.5301724137931034,
          0.7588235294117647,
          0.1818181818181818,
          0.6363636363636364,
          0.7798408488063658,
          0.1818181818181818
         ],
         "showlegend": false,
         "subplot": "polar",
         "theta": [
          "Traditional_Scoring_High",
          "Traditional_Scoring_Low",
          "Technical_Scoring",
          "Autonomous_Scoring",
          "Endgame",
          "Fouls",
          "Defense",
          "Traditional_Scoring_High"
         ],
         "type": "scatterpolar"
        }
       ],
       "layout": {
        "legend": {
         "tracegroupgap": 0
        },
        "polar": {
         "angularaxis": {
          "direction": "clockwise",
          "rotation": 90
         },
         "domain": {
          "x": [
           0,
           1
          ],
          "y": [
           0,
           1
          ]
         }
        },
        "template": {
         "data": {
          "bar": [
           {
            "error_x": {
             "color": "#2a3f5f"
            },
            "error_y": {
             "color": "#2a3f5f"
            },
            "marker": {
             "line": {
              "color": "#E5ECF6",
              "width": 0.5
             },
             "pattern": {
              "fillmode": "overlay",
              "size": 10,
              "solidity": 0.2
             }
            },
            "type": "bar"
           }
          ],
          "barpolar": [
           {
            "marker": {
             "line": {
              "color": "#E5ECF6",
              "width": 0.5
             },
             "pattern": {
              "fillmode": "overlay",
              "size": 10,
              "solidity": 0.2
             }
            },
            "type": "barpolar"
           }
          ],
          "carpet": [
           {
            "aaxis": {
             "endlinecolor": "#2a3f5f",
             "gridcolor": "white",
             "linecolor": "white",
             "minorgridcolor": "white",
             "startlinecolor": "#2a3f5f"
            },
            "baxis": {
             "endlinecolor": "#2a3f5f",
             "gridcolor": "white",
             "linecolor": "white",
             "minorgridcolor": "white",
             "startlinecolor": "#2a3f5f"
            },
            "type": "carpet"
           }
          ],
          "choropleth": [
           {
            "colorbar": {
             "outlinewidth": 0,
             "ticks": ""
            },
            "type": "choropleth"
           }
          ],
          "contour": [
           {
            "colorbar": {
             "outlinewidth": 0,
             "ticks": ""
            },
            "colorscale": [
             [
              0,
              "#0d0887"
             ],
             [
              0.1111111111111111,
              "#46039f"
             ],
             [
              0.2222222222222222,
              "#7201a8"
             ],
             [
              0.3333333333333333,
              "#9c179e"
             ],
             [
              0.4444444444444444,
              "#bd3786"
             ],
             [
              0.5555555555555556,
              "#d8576b"
             ],
             [
              0.6666666666666666,
              "#ed7953"
             ],
             [
              0.7777777777777778,
              "#fb9f3a"
             ],
             [
              0.8888888888888888,
              "#fdca26"
             ],
             [
              1,
              "#f0f921"
             ]
            ],
            "type": "contour"
           }
          ],
          "contourcarpet": [
           {
            "colorbar": {
             "outlinewidth": 0,
             "ticks": ""
            },
            "type": "contourcarpet"
           }
          ],
          "heatmap": [
           {
            "colorbar": {
             "outlinewidth": 0,
             "ticks": ""
            },
            "colorscale": [
             [
              0,
              "#0d0887"
             ],
             [
              0.1111111111111111,
              "#46039f"
             ],
             [
              0.2222222222222222,
              "#7201a8"
             ],
             [
              0.3333333333333333,
              "#9c179e"
             ],
             [
              0.4444444444444444,
              "#bd3786"
             ],
             [
              0.5555555555555556,
              "#d8576b"
             ],
             [
              0.6666666666666666,
              "#ed7953"
             ],
             [
              0.7777777777777778,
              "#fb9f3a"
             ],
             [
              0.8888888888888888,
              "#fdca26"
             ],
             [
              1,
              "#f0f921"
             ]
            ],
            "type": "heatmap"
           }
          ],
          "heatmapgl": [
           {
            "colorbar": {
             "outlinewidth": 0,
             "ticks": ""
            },
            "colorscale": [
             [
              0,
              "#0d0887"
             ],
             [
              0.1111111111111111,
              "#46039f"
             ],
             [
              0.2222222222222222,
              "#7201a8"
             ],
             [
              0.3333333333333333,
              "#9c179e"
             ],
             [
              0.4444444444444444,
              "#bd3786"
             ],
             [
              0.5555555555555556,
              "#d8576b"
             ],
             [
              0.6666666666666666,
              "#ed7953"
             ],
             [
              0.7777777777777778,
              "#fb9f3a"
             ],
             [
              0.8888888888888888,
              "#fdca26"
             ],
             [
              1,
              "#f0f921"
             ]
            ],
            "type": "heatmapgl"
           }
          ],
          "histogram": [
           {
            "marker": {
             "pattern": {
              "fillmode": "overlay",
              "size": 10,
              "solidity": 0.2
             }
            },
            "type": "histogram"
           }
          ],
          "histogram2d": [
           {
            "colorbar": {
             "outlinewidth": 0,
             "ticks": ""
            },
            "colorscale": [
             [
              0,
              "#0d0887"
             ],
             [
              0.1111111111111111,
              "#46039f"
             ],
             [
              0.2222222222222222,
              "#7201a8"
             ],
             [
              0.3333333333333333,
              "#9c179e"
             ],
             [
              0.4444444444444444,
              "#bd3786"
             ],
             [
              0.5555555555555556,
              "#d8576b"
             ],
             [
              0.6666666666666666,
              "#ed7953"
             ],
             [
              0.7777777777777778,
              "#fb9f3a"
             ],
             [
              0.8888888888888888,
              "#fdca26"
             ],
             [
              1,
              "#f0f921"
             ]
            ],
            "type": "histogram2d"
           }
          ],
          "histogram2dcontour": [
           {
            "colorbar": {
             "outlinewidth": 0,
             "ticks": ""
            },
            "colorscale": [
             [
              0,
              "#0d0887"
             ],
             [
              0.1111111111111111,
              "#46039f"
             ],
             [
              0.2222222222222222,
              "#7201a8"
             ],
             [
              0.3333333333333333,
              "#9c179e"
             ],
             [
              0.4444444444444444,
              "#bd3786"
             ],
             [
              0.5555555555555556,
              "#d8576b"
             ],
             [
              0.6666666666666666,
              "#ed7953"
             ],
             [
              0.7777777777777778,
              "#fb9f3a"
             ],
             [
              0.8888888888888888,
              "#fdca26"
             ],
             [
              1,
              "#f0f921"
             ]
            ],
            "type": "histogram2dcontour"
           }
          ],
          "mesh3d": [
           {
            "colorbar": {
             "outlinewidth": 0,
             "ticks": ""
            },
            "type": "mesh3d"
           }
          ],
          "parcoords": [
           {
            "line": {
             "colorbar": {
              "outlinewidth": 0,
              "ticks": ""
             }
            },
            "type": "parcoords"
           }
          ],
          "pie": [
           {
            "automargin": true,
            "type": "pie"
           }
          ],
          "scatter": [
           {
            "fillpattern": {
             "fillmode": "overlay",
             "size": 10,
             "solidity": 0.2
            },
            "type": "scatter"
           }
          ],
          "scatter3d": [
           {
            "line": {
             "colorbar": {
              "outlinewidth": 0,
              "ticks": ""
             }
            },
            "marker": {
             "colorbar": {
              "outlinewidth": 0,
              "ticks": ""
             }
            },
            "type": "scatter3d"
           }
          ],
          "scattercarpet": [
           {
            "marker": {
             "colorbar": {
              "outlinewidth": 0,
              "ticks": ""
             }
            },
            "type": "scattercarpet"
           }
          ],
          "scattergeo": [
           {
            "marker": {
             "colorbar": {
              "outlinewidth": 0,
              "ticks": ""
             }
            },
            "type": "scattergeo"
           }
          ],
          "scattergl": [
           {
            "marker": {
             "colorbar": {
              "outlinewidth": 0,
              "ticks": ""
             }
            },
            "type": "scattergl"
           }
          ],
          "scattermapbox": [
           {
            "marker": {
             "colorbar": {
              "outlinewidth": 0,
              "ticks": ""
             }
            },
            "type": "scattermapbox"
           }
          ],
          "scatterpolar": [
           {
            "marker": {
             "colorbar": {
              "outlinewidth": 0,
              "ticks": ""
             }
            },
            "type": "scatterpolar"
           }
          ],
          "scatterpolargl": [
           {
            "marker": {
             "colorbar": {
              "outlinewidth": 0,
              "ticks": ""
             }
            },
            "type": "scatterpolargl"
           }
          ],
          "scatterternary": [
           {
            "marker": {
             "colorbar": {
              "outlinewidth": 0,
              "ticks": ""
             }
            },
            "type": "scatterternary"
           }
          ],
          "surface": [
           {
            "colorbar": {
             "outlinewidth": 0,
             "ticks": ""
            },
            "colorscale": [
             [
              0,
              "#0d0887"
             ],
             [
              0.1111111111111111,
              "#46039f"
             ],
             [
              0.2222222222222222,
              "#7201a8"
             ],
             [
              0.3333333333333333,
              "#9c179e"
             ],
             [
              0.4444444444444444,
              "#bd3786"
             ],
             [
              0.5555555555555556,
              "#d8576b"
             ],
             [
              0.6666666666666666,
              "#ed7953"
             ],
             [
              0.7777777777777778,
              "#fb9f3a"
             ],
             [
              0.8888888888888888,
              "#fdca26"
             ],
             [
              1,
              "#f0f921"
             ]
            ],
            "type": "surface"
           }
          ],
          "table": [
           {
            "cells": {
             "fill": {
              "color": "#EBF0F8"
             },
             "line": {
              "color": "white"
             }
            },
            "header": {
             "fill": {
              "color": "#C8D4E3"
             },
             "line": {
              "color": "white"
             }
            },
            "type": "table"
           }
          ]
         },
         "layout": {
          "annotationdefaults": {
           "arrowcolor": "#2a3f5f",
           "arrowhead": 0,
           "arrowwidth": 1
          },
          "autotypenumbers": "strict",
          "coloraxis": {
           "colorbar": {
            "outlinewidth": 0,
            "ticks": ""
           }
          },
          "colorscale": {
           "diverging": [
            [
             0,
             "#8e0152"
            ],
            [
             0.1,
             "#c51b7d"
            ],
            [
             0.2,
             "#de77ae"
            ],
            [
             0.3,
             "#f1b6da"
            ],
            [
             0.4,
             "#fde0ef"
            ],
            [
             0.5,
             "#f7f7f7"
            ],
            [
             0.6,
             "#e6f5d0"
            ],
            [
             0.7,
             "#b8e186"
            ],
            [
             0.8,
             "#7fbc41"
            ],
            [
             0.9,
             "#4d9221"
            ],
            [
             1,
             "#276419"
            ]
           ],
           "sequential": [
            [
             0,
             "#0d0887"
            ],
            [
             0.1111111111111111,
             "#46039f"
            ],
            [
             0.2222222222222222,
             "#7201a8"
            ],
            [
             0.3333333333333333,
             "#9c179e"
            ],
            [
             0.4444444444444444,
             "#bd3786"
            ],
            [
             0.5555555555555556,
             "#d8576b"
            ],
            [
             0.6666666666666666,
             "#ed7953"
            ],
            [
             0.7777777777777778,
             "#fb9f3a"
            ],
            [
             0.8888888888888888,
             "#fdca26"
            ],
            [
             1,
             "#f0f921"
            ]
           ],
           "sequentialminus": [
            [
             0,
             "#0d0887"
            ],
            [
             0.1111111111111111,
             "#46039f"
            ],
            [
             0.2222222222222222,
             "#7201a8"
            ],
            [
             0.3333333333333333,
             "#9c179e"
            ],
            [
             0.4444444444444444,
             "#bd3786"
            ],
            [
             0.5555555555555556,
             "#d8576b"
            ],
            [
             0.6666666666666666,
             "#ed7953"
            ],
            [
             0.7777777777777778,
             "#fb9f3a"
            ],
            [
             0.8888888888888888,
             "#fdca26"
            ],
            [
             1,
             "#f0f921"
            ]
           ]
          },
          "colorway": [
           "#636efa",
           "#EF553B",
           "#00cc96",
           "#ab63fa",
           "#FFA15A",
           "#19d3f3",
           "#FF6692",
           "#B6E880",
           "#FF97FF",
           "#FECB52"
          ],
          "font": {
           "color": "#2a3f5f"
          },
          "geo": {
           "bgcolor": "white",
           "lakecolor": "white",
           "landcolor": "#E5ECF6",
           "showlakes": true,
           "showland": true,
           "subunitcolor": "white"
          },
          "hoverlabel": {
           "align": "left"
          },
          "hovermode": "closest",
          "mapbox": {
           "style": "light"
          },
          "paper_bgcolor": "white",
          "plot_bgcolor": "#E5ECF6",
          "polar": {
           "angularaxis": {
            "gridcolor": "white",
            "linecolor": "white",
            "ticks": ""
           },
           "bgcolor": "#E5ECF6",
           "radialaxis": {
            "gridcolor": "white",
            "linecolor": "white",
            "ticks": ""
           }
          },
          "scene": {
           "xaxis": {
            "backgroundcolor": "#E5ECF6",
            "gridcolor": "white",
            "gridwidth": 2,
            "linecolor": "white",
            "showbackground": true,
            "ticks": "",
            "zerolinecolor": "white"
           },
           "yaxis": {
            "backgroundcolor": "#E5ECF6",
            "gridcolor": "white",
            "gridwidth": 2,
            "linecolor": "white",
            "showbackground": true,
            "ticks": "",
            "zerolinecolor": "white"
           },
           "zaxis": {
            "backgroundcolor": "#E5ECF6",
            "gridcolor": "white",
            "gridwidth": 2,
            "linecolor": "white",
            "showbackground": true,
            "ticks": "",
            "zerolinecolor": "white"
           }
          },
          "shapedefaults": {
           "line": {
            "color": "#2a3f5f"
           }
          },
          "ternary": {
           "aaxis": {
            "gridcolor": "white",
            "linecolor": "white",
            "ticks": ""
           },
           "baxis": {
            "gridcolor": "white",
            "linecolor": "white",
            "ticks": ""
           },
           "bgcolor": "#E5ECF6",
           "caxis": {
            "gridcolor": "white",
            "linecolor": "white",
            "ticks": ""
           }
          },
          "title": {
           "x": 0.05
          },
          "xaxis": {
           "automargin": true,
           "gridcolor": "white",
           "linecolor": "white",
           "ticks": "",
           "title": {
            "standoff": 15
           },
           "zerolinecolor": "white",
           "zerolinewidth": 2
          },
          "yaxis": {
           "automargin": true,
           "gridcolor": "white",
           "linecolor": "white",
           "ticks": "",
           "title": {
            "standoff": 15
           },
           "zerolinecolor": "white",
           "zerolinewidth": 2
          }
         }
        },
        "title": {
         "text": "2019paphi: frc4637",
         "x": 0.5
        }
       }
      }
     },
     "metadata": {},
     "output_type": "display_data"
    },
    {
     "data": {
      "application/vnd.plotly.v1+json": {
       "config": {
        "plotlyServerURL": "https://plot.ly"
       },
       "data": [
        {
         "fill": "toself",
         "hovertemplate": "alliance=%{r}<br>theta=%{theta}<extra></extra>",
         "legendgroup": "",
         "line": {
          "color": "#636efa",
          "dash": "solid"
         },
         "marker": {
          "symbol": "circle"
         },
         "mode": "lines",
         "name": "",
         "r": [
          0.47474747474747486,
          0.9204234972677595,
          0.7007902298850576,
          0.8647058823529412,
          0.6666666666666666,
          0.5363636363636364,
          0.8343648688476274,
          0.47474747474747486
         ],
         "showlegend": false,
         "subplot": "polar",
         "theta": [
          "Traditional_Scoring_High",
          "Traditional_Scoring_Low",
          "Technical_Scoring",
          "Autonomous_Scoring",
          "Endgame",
          "Fouls",
          "Defense",
          "Traditional_Scoring_High"
         ],
         "type": "scatterpolar"
        }
       ],
       "layout": {
        "legend": {
         "tracegroupgap": 0
        },
        "polar": {
         "angularaxis": {
          "direction": "clockwise",
          "rotation": 90
         },
         "domain": {
          "x": [
           0,
           1
          ],
          "y": [
           0,
           1
          ]
         }
        },
        "template": {
         "data": {
          "bar": [
           {
            "error_x": {
             "color": "#2a3f5f"
            },
            "error_y": {
             "color": "#2a3f5f"
            },
            "marker": {
             "line": {
              "color": "#E5ECF6",
              "width": 0.5
             },
             "pattern": {
              "fillmode": "overlay",
              "size": 10,
              "solidity": 0.2
             }
            },
            "type": "bar"
           }
          ],
          "barpolar": [
           {
            "marker": {
             "line": {
              "color": "#E5ECF6",
              "width": 0.5
             },
             "pattern": {
              "fillmode": "overlay",
              "size": 10,
              "solidity": 0.2
             }
            },
            "type": "barpolar"
           }
          ],
          "carpet": [
           {
            "aaxis": {
             "endlinecolor": "#2a3f5f",
             "gridcolor": "white",
             "linecolor": "white",
             "minorgridcolor": "white",
             "startlinecolor": "#2a3f5f"
            },
            "baxis": {
             "endlinecolor": "#2a3f5f",
             "gridcolor": "white",
             "linecolor": "white",
             "minorgridcolor": "white",
             "startlinecolor": "#2a3f5f"
            },
            "type": "carpet"
           }
          ],
          "choropleth": [
           {
            "colorbar": {
             "outlinewidth": 0,
             "ticks": ""
            },
            "type": "choropleth"
           }
          ],
          "contour": [
           {
            "colorbar": {
             "outlinewidth": 0,
             "ticks": ""
            },
            "colorscale": [
             [
              0,
              "#0d0887"
             ],
             [
              0.1111111111111111,
              "#46039f"
             ],
             [
              0.2222222222222222,
              "#7201a8"
             ],
             [
              0.3333333333333333,
              "#9c179e"
             ],
             [
              0.4444444444444444,
              "#bd3786"
             ],
             [
              0.5555555555555556,
              "#d8576b"
             ],
             [
              0.6666666666666666,
              "#ed7953"
             ],
             [
              0.7777777777777778,
              "#fb9f3a"
             ],
             [
              0.8888888888888888,
              "#fdca26"
             ],
             [
              1,
              "#f0f921"
             ]
            ],
            "type": "contour"
           }
          ],
          "contourcarpet": [
           {
            "colorbar": {
             "outlinewidth": 0,
             "ticks": ""
            },
            "type": "contourcarpet"
           }
          ],
          "heatmap": [
           {
            "colorbar": {
             "outlinewidth": 0,
             "ticks": ""
            },
            "colorscale": [
             [
              0,
              "#0d0887"
             ],
             [
              0.1111111111111111,
              "#46039f"
             ],
             [
              0.2222222222222222,
              "#7201a8"
             ],
             [
              0.3333333333333333,
              "#9c179e"
             ],
             [
              0.4444444444444444,
              "#bd3786"
             ],
             [
              0.5555555555555556,
              "#d8576b"
             ],
             [
              0.6666666666666666,
              "#ed7953"
             ],
             [
              0.7777777777777778,
              "#fb9f3a"
             ],
             [
              0.8888888888888888,
              "#fdca26"
             ],
             [
              1,
              "#f0f921"
             ]
            ],
            "type": "heatmap"
           }
          ],
          "heatmapgl": [
           {
            "colorbar": {
             "outlinewidth": 0,
             "ticks": ""
            },
            "colorscale": [
             [
              0,
              "#0d0887"
             ],
             [
              0.1111111111111111,
              "#46039f"
             ],
             [
              0.2222222222222222,
              "#7201a8"
             ],
             [
              0.3333333333333333,
              "#9c179e"
             ],
             [
              0.4444444444444444,
              "#bd3786"
             ],
             [
              0.5555555555555556,
              "#d8576b"
             ],
             [
              0.6666666666666666,
              "#ed7953"
             ],
             [
              0.7777777777777778,
              "#fb9f3a"
             ],
             [
              0.8888888888888888,
              "#fdca26"
             ],
             [
              1,
              "#f0f921"
             ]
            ],
            "type": "heatmapgl"
           }
          ],
          "histogram": [
           {
            "marker": {
             "pattern": {
              "fillmode": "overlay",
              "size": 10,
              "solidity": 0.2
             }
            },
            "type": "histogram"
           }
          ],
          "histogram2d": [
           {
            "colorbar": {
             "outlinewidth": 0,
             "ticks": ""
            },
            "colorscale": [
             [
              0,
              "#0d0887"
             ],
             [
              0.1111111111111111,
              "#46039f"
             ],
             [
              0.2222222222222222,
              "#7201a8"
             ],
             [
              0.3333333333333333,
              "#9c179e"
             ],
             [
              0.4444444444444444,
              "#bd3786"
             ],
             [
              0.5555555555555556,
              "#d8576b"
             ],
             [
              0.6666666666666666,
              "#ed7953"
             ],
             [
              0.7777777777777778,
              "#fb9f3a"
             ],
             [
              0.8888888888888888,
              "#fdca26"
             ],
             [
              1,
              "#f0f921"
             ]
            ],
            "type": "histogram2d"
           }
          ],
          "histogram2dcontour": [
           {
            "colorbar": {
             "outlinewidth": 0,
             "ticks": ""
            },
            "colorscale": [
             [
              0,
              "#0d0887"
             ],
             [
              0.1111111111111111,
              "#46039f"
             ],
             [
              0.2222222222222222,
              "#7201a8"
             ],
             [
              0.3333333333333333,
              "#9c179e"
             ],
             [
              0.4444444444444444,
              "#bd3786"
             ],
             [
              0.5555555555555556,
              "#d8576b"
             ],
             [
              0.6666666666666666,
              "#ed7953"
             ],
             [
              0.7777777777777778,
              "#fb9f3a"
             ],
             [
              0.8888888888888888,
              "#fdca26"
             ],
             [
              1,
              "#f0f921"
             ]
            ],
            "type": "histogram2dcontour"
           }
          ],
          "mesh3d": [
           {
            "colorbar": {
             "outlinewidth": 0,
             "ticks": ""
            },
            "type": "mesh3d"
           }
          ],
          "parcoords": [
           {
            "line": {
             "colorbar": {
              "outlinewidth": 0,
              "ticks": ""
             }
            },
            "type": "parcoords"
           }
          ],
          "pie": [
           {
            "automargin": true,
            "type": "pie"
           }
          ],
          "scatter": [
           {
            "fillpattern": {
             "fillmode": "overlay",
             "size": 10,
             "solidity": 0.2
            },
            "type": "scatter"
           }
          ],
          "scatter3d": [
           {
            "line": {
             "colorbar": {
              "outlinewidth": 0,
              "ticks": ""
             }
            },
            "marker": {
             "colorbar": {
              "outlinewidth": 0,
              "ticks": ""
             }
            },
            "type": "scatter3d"
           }
          ],
          "scattercarpet": [
           {
            "marker": {
             "colorbar": {
              "outlinewidth": 0,
              "ticks": ""
             }
            },
            "type": "scattercarpet"
           }
          ],
          "scattergeo": [
           {
            "marker": {
             "colorbar": {
              "outlinewidth": 0,
              "ticks": ""
             }
            },
            "type": "scattergeo"
           }
          ],
          "scattergl": [
           {
            "marker": {
             "colorbar": {
              "outlinewidth": 0,
              "ticks": ""
             }
            },
            "type": "scattergl"
           }
          ],
          "scattermapbox": [
           {
            "marker": {
             "colorbar": {
              "outlinewidth": 0,
              "ticks": ""
             }
            },
            "type": "scattermapbox"
           }
          ],
          "scatterpolar": [
           {
            "marker": {
             "colorbar": {
              "outlinewidth": 0,
              "ticks": ""
             }
            },
            "type": "scatterpolar"
           }
          ],
          "scatterpolargl": [
           {
            "marker": {
             "colorbar": {
              "outlinewidth": 0,
              "ticks": ""
             }
            },
            "type": "scatterpolargl"
           }
          ],
          "scatterternary": [
           {
            "marker": {
             "colorbar": {
              "outlinewidth": 0,
              "ticks": ""
             }
            },
            "type": "scatterternary"
           }
          ],
          "surface": [
           {
            "colorbar": {
             "outlinewidth": 0,
             "ticks": ""
            },
            "colorscale": [
             [
              0,
              "#0d0887"
             ],
             [
              0.1111111111111111,
              "#46039f"
             ],
             [
              0.2222222222222222,
              "#7201a8"
             ],
             [
              0.3333333333333333,
              "#9c179e"
             ],
             [
              0.4444444444444444,
              "#bd3786"
             ],
             [
              0.5555555555555556,
              "#d8576b"
             ],
             [
              0.6666666666666666,
              "#ed7953"
             ],
             [
              0.7777777777777778,
              "#fb9f3a"
             ],
             [
              0.8888888888888888,
              "#fdca26"
             ],
             [
              1,
              "#f0f921"
             ]
            ],
            "type": "surface"
           }
          ],
          "table": [
           {
            "cells": {
             "fill": {
              "color": "#EBF0F8"
             },
             "line": {
              "color": "white"
             }
            },
            "header": {
             "fill": {
              "color": "#C8D4E3"
             },
             "line": {
              "color": "white"
             }
            },
            "type": "table"
           }
          ]
         },
         "layout": {
          "annotationdefaults": {
           "arrowcolor": "#2a3f5f",
           "arrowhead": 0,
           "arrowwidth": 1
          },
          "autotypenumbers": "strict",
          "coloraxis": {
           "colorbar": {
            "outlinewidth": 0,
            "ticks": ""
           }
          },
          "colorscale": {
           "diverging": [
            [
             0,
             "#8e0152"
            ],
            [
             0.1,
             "#c51b7d"
            ],
            [
             0.2,
             "#de77ae"
            ],
            [
             0.3,
             "#f1b6da"
            ],
            [
             0.4,
             "#fde0ef"
            ],
            [
             0.5,
             "#f7f7f7"
            ],
            [
             0.6,
             "#e6f5d0"
            ],
            [
             0.7,
             "#b8e186"
            ],
            [
             0.8,
             "#7fbc41"
            ],
            [
             0.9,
             "#4d9221"
            ],
            [
             1,
             "#276419"
            ]
           ],
           "sequential": [
            [
             0,
             "#0d0887"
            ],
            [
             0.1111111111111111,
             "#46039f"
            ],
            [
             0.2222222222222222,
             "#7201a8"
            ],
            [
             0.3333333333333333,
             "#9c179e"
            ],
            [
             0.4444444444444444,
             "#bd3786"
            ],
            [
             0.5555555555555556,
             "#d8576b"
            ],
            [
             0.6666666666666666,
             "#ed7953"
            ],
            [
             0.7777777777777778,
             "#fb9f3a"
            ],
            [
             0.8888888888888888,
             "#fdca26"
            ],
            [
             1,
             "#f0f921"
            ]
           ],
           "sequentialminus": [
            [
             0,
             "#0d0887"
            ],
            [
             0.1111111111111111,
             "#46039f"
            ],
            [
             0.2222222222222222,
             "#7201a8"
            ],
            [
             0.3333333333333333,
             "#9c179e"
            ],
            [
             0.4444444444444444,
             "#bd3786"
            ],
            [
             0.5555555555555556,
             "#d8576b"
            ],
            [
             0.6666666666666666,
             "#ed7953"
            ],
            [
             0.7777777777777778,
             "#fb9f3a"
            ],
            [
             0.8888888888888888,
             "#fdca26"
            ],
            [
             1,
             "#f0f921"
            ]
           ]
          },
          "colorway": [
           "#636efa",
           "#EF553B",
           "#00cc96",
           "#ab63fa",
           "#FFA15A",
           "#19d3f3",
           "#FF6692",
           "#B6E880",
           "#FF97FF",
           "#FECB52"
          ],
          "font": {
           "color": "#2a3f5f"
          },
          "geo": {
           "bgcolor": "white",
           "lakecolor": "white",
           "landcolor": "#E5ECF6",
           "showlakes": true,
           "showland": true,
           "subunitcolor": "white"
          },
          "hoverlabel": {
           "align": "left"
          },
          "hovermode": "closest",
          "mapbox": {
           "style": "light"
          },
          "paper_bgcolor": "white",
          "plot_bgcolor": "#E5ECF6",
          "polar": {
           "angularaxis": {
            "gridcolor": "white",
            "linecolor": "white",
            "ticks": ""
           },
           "bgcolor": "#E5ECF6",
           "radialaxis": {
            "gridcolor": "white",
            "linecolor": "white",
            "ticks": ""
           }
          },
          "scene": {
           "xaxis": {
            "backgroundcolor": "#E5ECF6",
            "gridcolor": "white",
            "gridwidth": 2,
            "linecolor": "white",
            "showbackground": true,
            "ticks": "",
            "zerolinecolor": "white"
           },
           "yaxis": {
            "backgroundcolor": "#E5ECF6",
            "gridcolor": "white",
            "gridwidth": 2,
            "linecolor": "white",
            "showbackground": true,
            "ticks": "",
            "zerolinecolor": "white"
           },
           "zaxis": {
            "backgroundcolor": "#E5ECF6",
            "gridcolor": "white",
            "gridwidth": 2,
            "linecolor": "white",
            "showbackground": true,
            "ticks": "",
            "zerolinecolor": "white"
           }
          },
          "shapedefaults": {
           "line": {
            "color": "#2a3f5f"
           }
          },
          "ternary": {
           "aaxis": {
            "gridcolor": "white",
            "linecolor": "white",
            "ticks": ""
           },
           "baxis": {
            "gridcolor": "white",
            "linecolor": "white",
            "ticks": ""
           },
           "bgcolor": "#E5ECF6",
           "caxis": {
            "gridcolor": "white",
            "linecolor": "white",
            "ticks": ""
           }
          },
          "title": {
           "x": 0.05
          },
          "xaxis": {
           "automargin": true,
           "gridcolor": "white",
           "linecolor": "white",
           "ticks": "",
           "title": {
            "standoff": 15
           },
           "zerolinecolor": "white",
           "zerolinewidth": 2
          },
          "yaxis": {
           "automargin": true,
           "gridcolor": "white",
           "linecolor": "white",
           "ticks": "",
           "title": {
            "standoff": 15
           },
           "zerolinecolor": "white",
           "zerolinewidth": 2
          }
         }
        },
        "title": {
         "text": "2019paphi: alliance",
         "x": 0.5
        }
       }
      }
     },
     "metadata": {},
     "output_type": "display_data"
    }
   ],
   "source": [
    "teams = optimized_alliances[0]\n",
    "alliance = pd.DataFrame([[0,0,0,0,0,0,0]], columns = comp_plot.columns)\n",
    "alliance['alliance'] = 'alliance'\n",
    "for team in teams:\n",
    "    df = pd.DataFrame(comp_plot.loc[team].T)\n",
    "    df['theta'] = df.index\n",
    "    fig = px.line_polar(df, r=team, theta='theta', line_close=True, title = competition + ': ' + df.columns[0])\n",
    "    fig.update_traces(fill='toself')\n",
    "    fig.update_layout(title_x=0.5)\n",
    "    fig.show()\n",
    "    \n",
    "    for col in comp_plot.columns:\n",
    "        alliance[col] += comp_plot.loc[team][col]\n",
    "for col in alliance.columns:\n",
    "    if col != 'alliance':\n",
    "        alliance[col] = alliance[col]/3\n",
    "\n",
    "alliance = alliance.set_index('alliance')\n",
    "df = pd.DataFrame(alliance.loc['alliance'].T)\n",
    "df['theta'] = df.index\n",
    "fig = px.line_polar(df, r='alliance', theta='theta', line_close=True, title = competition + ': ' + df.columns[0])\n",
    "fig.update_traces(fill='toself')\n",
    "fig.update_layout(title_x=0.5)\n",
    "fig.show()"
   ]
  },
  {
   "cell_type": "code",
   "execution_count": 12,
   "metadata": {},
   "outputs": [],
   "source": [
    "def optimize(team, top_8, just_outside, comp):\n",
    "    alliances = []\n",
    "    all_robots = list(comp['Robot'])\n",
    "    my_alliance = []\n",
    "    for robot in top_8:\n",
    "        teams = [robot]\n",
    "        all_robots.remove(robot)\n",
    "        best_area = 0\n",
    "        best_robot = ''\n",
    "        if robot != team:\n",
    "            print(\"Alliance Drafting: \")\n",
    "            print(teams)\n",
    "            best_robot = input(\"Team Selected: \")\n",
    "            teams.append(best_robot)\n",
    "            all_robots.remove(best_robot)\n",
    "        else:\n",
    "            print(\"My alliance Drafting: \")\n",
    "            print(robot)\n",
    "            for robot_add in all_robots:\n",
    "                teams.append(robot_add)\n",
    "                area = calc_alliance_area(teams,comp)\n",
    "                if area > best_area:\n",
    "                    best_area = area\n",
    "                    best_robot = robot_add\n",
    "                teams.remove(robot_add)\n",
    "            teams.append(best_robot)\n",
    "            all_robots.remove(best_robot)\n",
    "            print(best_robot)\n",
    "            my_alliance = teams\n",
    "        if best_robot in top_8:\n",
    "            top_8.remove(best_robot)\n",
    "            top_8.append(just_outside[0])\n",
    "            just_outside.remove(just_outside[0])\n",
    "        if best_robot in just_outside:\n",
    "            just_outside.remove(best_robot)\n",
    "            \n",
    "        alliances.append(teams)\n",
    "           \n",
    "    alliances_r = alliances[::-1]\n",
    "    for alliance in alliances_r:\n",
    "        best_area = 0\n",
    "        best_robot = ''\n",
    "        if alliance != my_alliance:\n",
    "            print(\"Alliance Drafting: \")\n",
    "            print(alliance)\n",
    "            best_robot = input(\"Team Selected: \")\n",
    "            alliance.append(best_robot)\n",
    "            all_robots.remove(best_robot)\n",
    "        else:\n",
    "            print(\"My alliance Drafting: \")\n",
    "            print(alliance)\n",
    "            for robot_add in all_robots:\n",
    "                alliance.append(robot_add)\n",
    "                area = calc_alliance_area(alliance,comp)\n",
    "                if area > best_area:\n",
    "                    best_area = area\n",
    "                    best_robot = robot_add\n",
    "                alliance.remove(robot_add)\n",
    "            alliance.append(best_robot)\n",
    "            print(best_robot)\n",
    "            all_robots.remove(best_robot)\n",
    "            \n",
    "    alliances = alliances_r[::-1]\n",
    "        \n",
    "    return alliances"
   ]
  },
  {
   "cell_type": "code",
   "execution_count": 13,
   "metadata": {},
   "outputs": [],
   "source": [
    "competition = '2019paphi'\n",
    "comp = competitions[competitions['Competition'] == competition]\n",
    "robot1 = 'frc2539'\n",
    "robot2 = 'frc5404'\n",
    "robot3 = 'frc103'\n",
    "robot4 = 'frc2168'\n",
    "robot5 = 'frc747'\n",
    "robot6 = 'frc3974'\n",
    "robot7 = 'frc1218'\n",
    "robot8 = 'frc708'\n",
    "just_outside = ['frc4342','frc433','frc293','frc2729','frc2016','frc2095','frc709','frc225'] \n",
    "top_8 = [robot1,robot2,robot3,robot4,robot5,robot6,robot7,robot8]\n",
    "all_robots = list(comp['Robot'])"
   ]
  },
  {
   "cell_type": "code",
   "execution_count": 14,
   "metadata": {},
   "outputs": [
    {
     "name": "stdout",
     "output_type": "stream",
     "text": [
      "Alliance Drafting: \n",
      "['frc2539']\n"
     ]
    },
    {
     "ename": "ValueError",
     "evalue": "list.remove(x): x not in list",
     "output_type": "error",
     "traceback": [
      "\u001b[1;31m---------------------------------------------------------------------------\u001b[0m",
      "\u001b[1;31mValueError\u001b[0m                                Traceback (most recent call last)",
      "\u001b[1;32m~\\AppData\\Local\\Temp/ipykernel_27696/3134114924.py\u001b[0m in \u001b[0;36m<module>\u001b[1;34m\u001b[0m\n\u001b[1;32m----> 1\u001b[1;33m \u001b[0msingle_optimized_alliances\u001b[0m \u001b[1;33m=\u001b[0m \u001b[0moptimize\u001b[0m\u001b[1;33m(\u001b[0m\u001b[1;34m'frc1218'\u001b[0m\u001b[1;33m,\u001b[0m \u001b[0mtop_8\u001b[0m\u001b[1;33m,\u001b[0m \u001b[0mjust_outside\u001b[0m\u001b[1;33m,\u001b[0m \u001b[0mcomp\u001b[0m\u001b[1;33m)\u001b[0m\u001b[1;33m\u001b[0m\u001b[1;33m\u001b[0m\u001b[0m\n\u001b[0m",
      "\u001b[1;32m~\\AppData\\Local\\Temp/ipykernel_27696/2943921437.py\u001b[0m in \u001b[0;36moptimize\u001b[1;34m(team, top_8, just_outside, comp)\u001b[0m\n\u001b[0;32m     13\u001b[0m             \u001b[0mbest_robot\u001b[0m \u001b[1;33m=\u001b[0m \u001b[0minput\u001b[0m\u001b[1;33m(\u001b[0m\u001b[1;34m\"Team Selected: \"\u001b[0m\u001b[1;33m)\u001b[0m\u001b[1;33m\u001b[0m\u001b[1;33m\u001b[0m\u001b[0m\n\u001b[0;32m     14\u001b[0m             \u001b[0mteams\u001b[0m\u001b[1;33m.\u001b[0m\u001b[0mappend\u001b[0m\u001b[1;33m(\u001b[0m\u001b[0mbest_robot\u001b[0m\u001b[1;33m)\u001b[0m\u001b[1;33m\u001b[0m\u001b[1;33m\u001b[0m\u001b[0m\n\u001b[1;32m---> 15\u001b[1;33m             \u001b[0mall_robots\u001b[0m\u001b[1;33m.\u001b[0m\u001b[0mremove\u001b[0m\u001b[1;33m(\u001b[0m\u001b[0mbest_robot\u001b[0m\u001b[1;33m)\u001b[0m\u001b[1;33m\u001b[0m\u001b[1;33m\u001b[0m\u001b[0m\n\u001b[0m\u001b[0;32m     16\u001b[0m         \u001b[1;32melse\u001b[0m\u001b[1;33m:\u001b[0m\u001b[1;33m\u001b[0m\u001b[1;33m\u001b[0m\u001b[0m\n\u001b[0;32m     17\u001b[0m             \u001b[0mprint\u001b[0m\u001b[1;33m(\u001b[0m\u001b[1;34m\"My alliance Drafting: \"\u001b[0m\u001b[1;33m)\u001b[0m\u001b[1;33m\u001b[0m\u001b[1;33m\u001b[0m\u001b[0m\n",
      "\u001b[1;31mValueError\u001b[0m: list.remove(x): x not in list"
     ]
    }
   ],
   "source": [
    "single_optimized_alliances = optimize('frc1218', top_8, just_outside, comp)"
   ]
  },
  {
   "cell_type": "code",
   "execution_count": null,
   "metadata": {},
   "outputs": [],
   "source": [
    "single_optimized_alliances"
   ]
  },
  {
   "cell_type": "code",
   "execution_count": 15,
   "metadata": {},
   "outputs": [],
   "source": [
    "comp_plot = comp.drop(['Unnamed: 0', 'Competition','Year'], axis = 1)\n",
    "comp_plot = comp_plot.set_index('Robot')"
   ]
  },
  {
   "cell_type": "code",
   "execution_count": 16,
   "metadata": {
    "scrolled": false
   },
   "outputs": [
    {
     "ename": "NameError",
     "evalue": "name 'single_optimized_alliances' is not defined",
     "output_type": "error",
     "traceback": [
      "\u001b[1;31m---------------------------------------------------------------------------\u001b[0m",
      "\u001b[1;31mNameError\u001b[0m                                 Traceback (most recent call last)",
      "\u001b[1;32m~\\AppData\\Local\\Temp/ipykernel_27696/3952646818.py\u001b[0m in \u001b[0;36m<module>\u001b[1;34m\u001b[0m\n\u001b[1;32m----> 1\u001b[1;33m \u001b[0mteams\u001b[0m \u001b[1;33m=\u001b[0m \u001b[0msingle_optimized_alliances\u001b[0m\u001b[1;33m[\u001b[0m\u001b[1;36m4\u001b[0m\u001b[1;33m]\u001b[0m\u001b[1;33m\u001b[0m\u001b[1;33m\u001b[0m\u001b[0m\n\u001b[0m\u001b[0;32m      2\u001b[0m \u001b[0malliance\u001b[0m \u001b[1;33m=\u001b[0m \u001b[0mpd\u001b[0m\u001b[1;33m.\u001b[0m\u001b[0mDataFrame\u001b[0m\u001b[1;33m(\u001b[0m\u001b[1;33m[\u001b[0m\u001b[1;33m[\u001b[0m\u001b[1;36m0\u001b[0m\u001b[1;33m,\u001b[0m\u001b[1;36m0\u001b[0m\u001b[1;33m,\u001b[0m\u001b[1;36m0\u001b[0m\u001b[1;33m,\u001b[0m\u001b[1;36m0\u001b[0m\u001b[1;33m,\u001b[0m\u001b[1;36m0\u001b[0m\u001b[1;33m,\u001b[0m\u001b[1;36m0\u001b[0m\u001b[1;33m,\u001b[0m\u001b[1;36m0\u001b[0m\u001b[1;33m]\u001b[0m\u001b[1;33m]\u001b[0m\u001b[1;33m,\u001b[0m \u001b[0mcolumns\u001b[0m \u001b[1;33m=\u001b[0m \u001b[0mcomp_plot\u001b[0m\u001b[1;33m.\u001b[0m\u001b[0mcolumns\u001b[0m\u001b[1;33m)\u001b[0m\u001b[1;33m\u001b[0m\u001b[1;33m\u001b[0m\u001b[0m\n\u001b[0;32m      3\u001b[0m \u001b[0malliance\u001b[0m\u001b[1;33m[\u001b[0m\u001b[1;34m'alliance'\u001b[0m\u001b[1;33m]\u001b[0m \u001b[1;33m=\u001b[0m \u001b[1;34m'alliance'\u001b[0m\u001b[1;33m\u001b[0m\u001b[1;33m\u001b[0m\u001b[0m\n\u001b[0;32m      4\u001b[0m \u001b[1;32mfor\u001b[0m \u001b[0mteam\u001b[0m \u001b[1;32min\u001b[0m \u001b[0mteams\u001b[0m\u001b[1;33m:\u001b[0m\u001b[1;33m\u001b[0m\u001b[1;33m\u001b[0m\u001b[0m\n\u001b[0;32m      5\u001b[0m     \u001b[0mdf\u001b[0m \u001b[1;33m=\u001b[0m \u001b[0mpd\u001b[0m\u001b[1;33m.\u001b[0m\u001b[0mDataFrame\u001b[0m\u001b[1;33m(\u001b[0m\u001b[0mcomp_plot\u001b[0m\u001b[1;33m.\u001b[0m\u001b[0mloc\u001b[0m\u001b[1;33m[\u001b[0m\u001b[0mteam\u001b[0m\u001b[1;33m]\u001b[0m\u001b[1;33m.\u001b[0m\u001b[0mT\u001b[0m\u001b[1;33m)\u001b[0m\u001b[1;33m\u001b[0m\u001b[1;33m\u001b[0m\u001b[0m\n",
      "\u001b[1;31mNameError\u001b[0m: name 'single_optimized_alliances' is not defined"
     ]
    }
   ],
   "source": [
    "teams = single_optimized_alliances[4]\n",
    "alliance = pd.DataFrame([[0,0,0,0,0,0,0]], columns = comp_plot.columns)\n",
    "alliance['alliance'] = 'alliance'\n",
    "for team in teams:\n",
    "    df = pd.DataFrame(comp_plot.loc[team].T)\n",
    "    df['theta'] = df.index\n",
    "    fig = px.line_polar(df, r=team, theta='theta', line_close=True, title = competition + ': ' + df.columns[0])\n",
    "    fig.update_traces(fill='toself')\n",
    "    fig.update_layout(title_x=0.5)\n",
    "    fig.show()\n",
    "    \n",
    "    for col in comp_plot.columns:\n",
    "        alliance[col] += comp_plot.loc[team][col]\n",
    "for col in alliance.columns:\n",
    "    if col != 'alliance':\n",
    "        alliance[col] = alliance[col]/3\n",
    "\n",
    "alliance = alliance.set_index('alliance')\n",
    "df = pd.DataFrame(alliance.loc['alliance'].T)\n",
    "df['theta'] = df.index\n",
    "fig = px.line_polar(df, r='alliance', theta='theta', line_close=True, title = competition + ': ' + df.columns[0])\n",
    "fig.update_traces(fill='toself')\n",
    "fig.update_layout(title_x=0.5)\n",
    "fig.show()"
   ]
  },
  {
   "cell_type": "markdown",
   "metadata": {},
   "source": [
    "In order to implement a \"fair\" matchmaking system, the goal is to balance an alliance's scores in each area to be as close to the average of all possible alliances comprising those competing in the competition."
   ]
  },
  {
   "cell_type": "markdown",
   "metadata": {},
   "source": [
    "Quick check: what are the min, max, and average number of robots in a given competition?"
   ]
  },
  {
   "cell_type": "code",
   "execution_count": 17,
   "metadata": {},
   "outputs": [
    {
     "data": {
      "text/plain": [
       "2019iri      68\n",
       "2019cars     68\n",
       "2019cur      68\n",
       "2017iri      68\n",
       "2017cars     68\n",
       "             ..\n",
       "2019micmp    12\n",
       "2017micmp    12\n",
       "2019txntx    12\n",
       "2017nhfoc     7\n",
       "2019oncmp     6\n",
       "Name: Competition, Length: 437, dtype: int64"
      ]
     },
     "execution_count": 17,
     "metadata": {},
     "output_type": "execute_result"
    }
   ],
   "source": [
    "competitions[\"Competition\"].value_counts()"
   ]
  },
  {
   "cell_type": "code",
   "execution_count": 18,
   "metadata": {},
   "outputs": [
    {
     "data": {
      "text/html": [
       "<div>\n",
       "<style scoped>\n",
       "    .dataframe tbody tr th:only-of-type {\n",
       "        vertical-align: middle;\n",
       "    }\n",
       "\n",
       "    .dataframe tbody tr th {\n",
       "        vertical-align: top;\n",
       "    }\n",
       "\n",
       "    .dataframe thead th {\n",
       "        text-align: right;\n",
       "    }\n",
       "</style>\n",
       "<table border=\"1\" class=\"dataframe\">\n",
       "  <thead>\n",
       "    <tr style=\"text-align: right;\">\n",
       "      <th></th>\n",
       "      <th>Unnamed: 0</th>\n",
       "      <th>Robot</th>\n",
       "      <th>Traditional_Scoring_High</th>\n",
       "      <th>Traditional_Scoring_Low</th>\n",
       "      <th>Technical_Scoring</th>\n",
       "      <th>Autonomous_Scoring</th>\n",
       "      <th>Endgame</th>\n",
       "      <th>Fouls</th>\n",
       "      <th>Defense</th>\n",
       "      <th>Competition</th>\n",
       "      <th>Year</th>\n",
       "    </tr>\n",
       "  </thead>\n",
       "  <tbody>\n",
       "    <tr>\n",
       "      <th>2319</th>\n",
       "      <td>2319</td>\n",
       "      <td>frc2168</td>\n",
       "      <td>1.000000</td>\n",
       "      <td>0.836066</td>\n",
       "      <td>1.000000</td>\n",
       "      <td>1.000000</td>\n",
       "      <td>0.378788</td>\n",
       "      <td>0.624242</td>\n",
       "      <td>0.854111</td>\n",
       "      <td>2019paphi</td>\n",
       "      <td>2019</td>\n",
       "    </tr>\n",
       "    <tr>\n",
       "      <th>2320</th>\n",
       "      <td>2320</td>\n",
       "      <td>frc316</td>\n",
       "      <td>0.331169</td>\n",
       "      <td>0.790398</td>\n",
       "      <td>0.820197</td>\n",
       "      <td>0.968067</td>\n",
       "      <td>0.214286</td>\n",
       "      <td>0.423377</td>\n",
       "      <td>0.341796</td>\n",
       "      <td>2019paphi</td>\n",
       "      <td>2019</td>\n",
       "    </tr>\n",
       "    <tr>\n",
       "      <th>2321</th>\n",
       "      <td>2321</td>\n",
       "      <td>frc103</td>\n",
       "      <td>0.389610</td>\n",
       "      <td>0.906323</td>\n",
       "      <td>0.820197</td>\n",
       "      <td>0.771429</td>\n",
       "      <td>0.759740</td>\n",
       "      <td>0.781818</td>\n",
       "      <td>0.619174</td>\n",
       "      <td>2019paphi</td>\n",
       "      <td>2019</td>\n",
       "    </tr>\n",
       "    <tr>\n",
       "      <th>2322</th>\n",
       "      <td>2322</td>\n",
       "      <td>frc4342</td>\n",
       "      <td>0.448052</td>\n",
       "      <td>0.906323</td>\n",
       "      <td>0.631773</td>\n",
       "      <td>0.831933</td>\n",
       "      <td>0.701299</td>\n",
       "      <td>0.283117</td>\n",
       "      <td>0.332702</td>\n",
       "      <td>2019paphi</td>\n",
       "      <td>2019</td>\n",
       "    </tr>\n",
       "    <tr>\n",
       "      <th>2323</th>\n",
       "      <td>2323</td>\n",
       "      <td>frc2016</td>\n",
       "      <td>0.363636</td>\n",
       "      <td>0.844262</td>\n",
       "      <td>0.612069</td>\n",
       "      <td>0.941176</td>\n",
       "      <td>0.469697</td>\n",
       "      <td>0.600000</td>\n",
       "      <td>0.358974</td>\n",
       "      <td>2019paphi</td>\n",
       "      <td>2019</td>\n",
       "    </tr>\n",
       "    <tr>\n",
       "      <th>2324</th>\n",
       "      <td>2324</td>\n",
       "      <td>frc4373</td>\n",
       "      <td>0.090909</td>\n",
       "      <td>0.823770</td>\n",
       "      <td>0.491379</td>\n",
       "      <td>0.864706</td>\n",
       "      <td>0.295455</td>\n",
       "      <td>0.509091</td>\n",
       "      <td>0.795756</td>\n",
       "      <td>2019paphi</td>\n",
       "      <td>2019</td>\n",
       "    </tr>\n",
       "    <tr>\n",
       "      <th>2325</th>\n",
       "      <td>2325</td>\n",
       "      <td>frc486</td>\n",
       "      <td>0.090909</td>\n",
       "      <td>0.877049</td>\n",
       "      <td>0.491379</td>\n",
       "      <td>0.964706</td>\n",
       "      <td>0.333333</td>\n",
       "      <td>0.175758</td>\n",
       "      <td>0.440318</td>\n",
       "      <td>2019paphi</td>\n",
       "      <td>2019</td>\n",
       "    </tr>\n",
       "    <tr>\n",
       "      <th>2326</th>\n",
       "      <td>2326</td>\n",
       "      <td>frc7599</td>\n",
       "      <td>0.159091</td>\n",
       "      <td>0.676230</td>\n",
       "      <td>0.426724</td>\n",
       "      <td>0.758824</td>\n",
       "      <td>0.159091</td>\n",
       "      <td>0.000000</td>\n",
       "      <td>0.000000</td>\n",
       "      <td>2019paphi</td>\n",
       "      <td>2019</td>\n",
       "    </tr>\n",
       "    <tr>\n",
       "      <th>2327</th>\n",
       "      <td>2327</td>\n",
       "      <td>frc1218</td>\n",
       "      <td>0.121212</td>\n",
       "      <td>0.967213</td>\n",
       "      <td>0.603448</td>\n",
       "      <td>0.976471</td>\n",
       "      <td>0.742424</td>\n",
       "      <td>0.600000</td>\n",
       "      <td>0.419098</td>\n",
       "      <td>2019paphi</td>\n",
       "      <td>2019</td>\n",
       "    </tr>\n",
       "    <tr>\n",
       "      <th>2328</th>\n",
       "      <td>2328</td>\n",
       "      <td>frc2180</td>\n",
       "      <td>0.272727</td>\n",
       "      <td>0.937939</td>\n",
       "      <td>0.653941</td>\n",
       "      <td>0.816807</td>\n",
       "      <td>0.214286</td>\n",
       "      <td>0.438961</td>\n",
       "      <td>0.355438</td>\n",
       "      <td>2019paphi</td>\n",
       "      <td>2019</td>\n",
       "    </tr>\n",
       "    <tr>\n",
       "      <th>2329</th>\n",
       "      <td>2329</td>\n",
       "      <td>frc5181</td>\n",
       "      <td>0.255682</td>\n",
       "      <td>0.876025</td>\n",
       "      <td>0.630388</td>\n",
       "      <td>0.952941</td>\n",
       "      <td>0.562500</td>\n",
       "      <td>0.454545</td>\n",
       "      <td>0.458886</td>\n",
       "      <td>2019paphi</td>\n",
       "      <td>2019</td>\n",
       "    </tr>\n",
       "    <tr>\n",
       "      <th>2330</th>\n",
       "      <td>2330</td>\n",
       "      <td>frc5404</td>\n",
       "      <td>0.696970</td>\n",
       "      <td>1.000000</td>\n",
       "      <td>0.844828</td>\n",
       "      <td>0.988235</td>\n",
       "      <td>1.000000</td>\n",
       "      <td>0.600000</td>\n",
       "      <td>0.723254</td>\n",
       "      <td>2019paphi</td>\n",
       "      <td>2019</td>\n",
       "    </tr>\n",
       "    <tr>\n",
       "      <th>2331</th>\n",
       "      <td>2331</td>\n",
       "      <td>frc7414</td>\n",
       "      <td>0.370130</td>\n",
       "      <td>0.748244</td>\n",
       "      <td>0.908867</td>\n",
       "      <td>0.726050</td>\n",
       "      <td>0.253247</td>\n",
       "      <td>0.438961</td>\n",
       "      <td>0.801061</td>\n",
       "      <td>2019paphi</td>\n",
       "      <td>2019</td>\n",
       "    </tr>\n",
       "    <tr>\n",
       "      <th>2332</th>\n",
       "      <td>2332</td>\n",
       "      <td>frc708</td>\n",
       "      <td>0.170455</td>\n",
       "      <td>0.802254</td>\n",
       "      <td>0.756466</td>\n",
       "      <td>0.939706</td>\n",
       "      <td>0.715909</td>\n",
       "      <td>0.713636</td>\n",
       "      <td>0.423077</td>\n",
       "      <td>2019paphi</td>\n",
       "      <td>2019</td>\n",
       "    </tr>\n",
       "    <tr>\n",
       "      <th>2333</th>\n",
       "      <td>2333</td>\n",
       "      <td>frc5407</td>\n",
       "      <td>0.102273</td>\n",
       "      <td>0.802254</td>\n",
       "      <td>0.814655</td>\n",
       "      <td>0.913235</td>\n",
       "      <td>0.801136</td>\n",
       "      <td>0.536364</td>\n",
       "      <td>0.076923</td>\n",
       "      <td>2019paphi</td>\n",
       "      <td>2019</td>\n",
       "    </tr>\n",
       "    <tr>\n",
       "      <th>2334</th>\n",
       "      <td>2334</td>\n",
       "      <td>frc225</td>\n",
       "      <td>0.835227</td>\n",
       "      <td>0.728484</td>\n",
       "      <td>0.814655</td>\n",
       "      <td>0.741176</td>\n",
       "      <td>0.426136</td>\n",
       "      <td>0.195455</td>\n",
       "      <td>0.562334</td>\n",
       "      <td>2019paphi</td>\n",
       "      <td>2019</td>\n",
       "    </tr>\n",
       "    <tr>\n",
       "      <th>2335</th>\n",
       "      <td>2335</td>\n",
       "      <td>frc752</td>\n",
       "      <td>0.022727</td>\n",
       "      <td>0.725410</td>\n",
       "      <td>0.465517</td>\n",
       "      <td>0.847059</td>\n",
       "      <td>0.227273</td>\n",
       "      <td>1.000000</td>\n",
       "      <td>0.063660</td>\n",
       "      <td>2019paphi</td>\n",
       "      <td>2019</td>\n",
       "    </tr>\n",
       "    <tr>\n",
       "      <th>2336</th>\n",
       "      <td>2336</td>\n",
       "      <td>frc321</td>\n",
       "      <td>0.318182</td>\n",
       "      <td>0.909836</td>\n",
       "      <td>0.672414</td>\n",
       "      <td>0.829412</td>\n",
       "      <td>0.454545</td>\n",
       "      <td>0.036364</td>\n",
       "      <td>0.344828</td>\n",
       "      <td>2019paphi</td>\n",
       "      <td>2019</td>\n",
       "    </tr>\n",
       "    <tr>\n",
       "      <th>2337</th>\n",
       "      <td>2337</td>\n",
       "      <td>frc293</td>\n",
       "      <td>0.311688</td>\n",
       "      <td>0.822014</td>\n",
       "      <td>0.543103</td>\n",
       "      <td>0.937815</td>\n",
       "      <td>0.233766</td>\n",
       "      <td>0.392208</td>\n",
       "      <td>0.573702</td>\n",
       "      <td>2019paphi</td>\n",
       "      <td>2019</td>\n",
       "    </tr>\n",
       "    <tr>\n",
       "      <th>2338</th>\n",
       "      <td>2338</td>\n",
       "      <td>frc709</td>\n",
       "      <td>0.214286</td>\n",
       "      <td>0.811475</td>\n",
       "      <td>0.543103</td>\n",
       "      <td>0.998319</td>\n",
       "      <td>0.818182</td>\n",
       "      <td>0.548052</td>\n",
       "      <td>0.118984</td>\n",
       "      <td>2019paphi</td>\n",
       "      <td>2019</td>\n",
       "    </tr>\n",
       "    <tr>\n",
       "      <th>2339</th>\n",
       "      <td>2339</td>\n",
       "      <td>frc747</td>\n",
       "      <td>0.253247</td>\n",
       "      <td>0.758782</td>\n",
       "      <td>0.753695</td>\n",
       "      <td>0.862185</td>\n",
       "      <td>0.740260</td>\n",
       "      <td>0.625974</td>\n",
       "      <td>0.828344</td>\n",
       "      <td>2019paphi</td>\n",
       "      <td>2019</td>\n",
       "    </tr>\n",
       "    <tr>\n",
       "      <th>2340</th>\n",
       "      <td>2340</td>\n",
       "      <td>frc2095</td>\n",
       "      <td>0.255682</td>\n",
       "      <td>0.876025</td>\n",
       "      <td>0.601293</td>\n",
       "      <td>0.926471</td>\n",
       "      <td>0.340909</td>\n",
       "      <td>0.400000</td>\n",
       "      <td>0.665782</td>\n",
       "      <td>2019paphi</td>\n",
       "      <td>2019</td>\n",
       "    </tr>\n",
       "    <tr>\n",
       "      <th>2341</th>\n",
       "      <td>2341</td>\n",
       "      <td>frc1495</td>\n",
       "      <td>0.515152</td>\n",
       "      <td>0.983607</td>\n",
       "      <td>0.784483</td>\n",
       "      <td>0.941176</td>\n",
       "      <td>0.242424</td>\n",
       "      <td>0.321212</td>\n",
       "      <td>0.507515</td>\n",
       "      <td>2019paphi</td>\n",
       "      <td>2019</td>\n",
       "    </tr>\n",
       "    <tr>\n",
       "      <th>2342</th>\n",
       "      <td>2342</td>\n",
       "      <td>frc7877</td>\n",
       "      <td>0.250000</td>\n",
       "      <td>0.688525</td>\n",
       "      <td>0.530172</td>\n",
       "      <td>0.864706</td>\n",
       "      <td>0.204545</td>\n",
       "      <td>0.327273</td>\n",
       "      <td>0.615385</td>\n",
       "      <td>2019paphi</td>\n",
       "      <td>2019</td>\n",
       "    </tr>\n",
       "    <tr>\n",
       "      <th>2343</th>\n",
       "      <td>2343</td>\n",
       "      <td>frc4637</td>\n",
       "      <td>0.181818</td>\n",
       "      <td>0.774590</td>\n",
       "      <td>0.530172</td>\n",
       "      <td>0.758824</td>\n",
       "      <td>0.181818</td>\n",
       "      <td>0.636364</td>\n",
       "      <td>0.779841</td>\n",
       "      <td>2019paphi</td>\n",
       "      <td>2019</td>\n",
       "    </tr>\n",
       "    <tr>\n",
       "      <th>2344</th>\n",
       "      <td>2344</td>\n",
       "      <td>frc3974</td>\n",
       "      <td>0.097403</td>\n",
       "      <td>0.822014</td>\n",
       "      <td>0.487685</td>\n",
       "      <td>0.831933</td>\n",
       "      <td>0.954545</td>\n",
       "      <td>0.392208</td>\n",
       "      <td>0.841986</td>\n",
       "      <td>2019paphi</td>\n",
       "      <td>2019</td>\n",
       "    </tr>\n",
       "    <tr>\n",
       "      <th>2345</th>\n",
       "      <td>2345</td>\n",
       "      <td>frc1168</td>\n",
       "      <td>0.233766</td>\n",
       "      <td>0.980094</td>\n",
       "      <td>0.775862</td>\n",
       "      <td>0.831933</td>\n",
       "      <td>0.233766</td>\n",
       "      <td>0.033766</td>\n",
       "      <td>0.228117</td>\n",
       "      <td>2019paphi</td>\n",
       "      <td>2019</td>\n",
       "    </tr>\n",
       "    <tr>\n",
       "      <th>2346</th>\n",
       "      <td>2346</td>\n",
       "      <td>frc433</td>\n",
       "      <td>0.331169</td>\n",
       "      <td>0.864169</td>\n",
       "      <td>0.576355</td>\n",
       "      <td>0.786555</td>\n",
       "      <td>0.506494</td>\n",
       "      <td>0.641558</td>\n",
       "      <td>0.514589</td>\n",
       "      <td>2019paphi</td>\n",
       "      <td>2019</td>\n",
       "    </tr>\n",
       "    <tr>\n",
       "      <th>2347</th>\n",
       "      <td>2347</td>\n",
       "      <td>frc2729</td>\n",
       "      <td>0.253247</td>\n",
       "      <td>0.948478</td>\n",
       "      <td>0.576355</td>\n",
       "      <td>0.937815</td>\n",
       "      <td>0.448052</td>\n",
       "      <td>0.641558</td>\n",
       "      <td>0.532778</td>\n",
       "      <td>2019paphi</td>\n",
       "      <td>2019</td>\n",
       "    </tr>\n",
       "    <tr>\n",
       "      <th>2348</th>\n",
       "      <td>2348</td>\n",
       "      <td>frc2234</td>\n",
       "      <td>0.159091</td>\n",
       "      <td>0.750000</td>\n",
       "      <td>0.517241</td>\n",
       "      <td>0.811765</td>\n",
       "      <td>0.340909</td>\n",
       "      <td>0.727273</td>\n",
       "      <td>0.488064</td>\n",
       "      <td>2019paphi</td>\n",
       "      <td>2019</td>\n",
       "    </tr>\n",
       "    <tr>\n",
       "      <th>2349</th>\n",
       "      <td>2349</td>\n",
       "      <td>frc2539</td>\n",
       "      <td>0.545455</td>\n",
       "      <td>0.986680</td>\n",
       "      <td>0.727371</td>\n",
       "      <td>0.847059</td>\n",
       "      <td>0.818182</td>\n",
       "      <td>0.372727</td>\n",
       "      <td>1.000000</td>\n",
       "      <td>2019paphi</td>\n",
       "      <td>2019</td>\n",
       "    </tr>\n",
       "  </tbody>\n",
       "</table>\n",
       "</div>"
      ],
      "text/plain": [
       "      Unnamed: 0    Robot  Traditional_Scoring_High  Traditional_Scoring_Low  \\\n",
       "2319        2319  frc2168                  1.000000                 0.836066   \n",
       "2320        2320   frc316                  0.331169                 0.790398   \n",
       "2321        2321   frc103                  0.389610                 0.906323   \n",
       "2322        2322  frc4342                  0.448052                 0.906323   \n",
       "2323        2323  frc2016                  0.363636                 0.844262   \n",
       "2324        2324  frc4373                  0.090909                 0.823770   \n",
       "2325        2325   frc486                  0.090909                 0.877049   \n",
       "2326        2326  frc7599                  0.159091                 0.676230   \n",
       "2327        2327  frc1218                  0.121212                 0.967213   \n",
       "2328        2328  frc2180                  0.272727                 0.937939   \n",
       "2329        2329  frc5181                  0.255682                 0.876025   \n",
       "2330        2330  frc5404                  0.696970                 1.000000   \n",
       "2331        2331  frc7414                  0.370130                 0.748244   \n",
       "2332        2332   frc708                  0.170455                 0.802254   \n",
       "2333        2333  frc5407                  0.102273                 0.802254   \n",
       "2334        2334   frc225                  0.835227                 0.728484   \n",
       "2335        2335   frc752                  0.022727                 0.725410   \n",
       "2336        2336   frc321                  0.318182                 0.909836   \n",
       "2337        2337   frc293                  0.311688                 0.822014   \n",
       "2338        2338   frc709                  0.214286                 0.811475   \n",
       "2339        2339   frc747                  0.253247                 0.758782   \n",
       "2340        2340  frc2095                  0.255682                 0.876025   \n",
       "2341        2341  frc1495                  0.515152                 0.983607   \n",
       "2342        2342  frc7877                  0.250000                 0.688525   \n",
       "2343        2343  frc4637                  0.181818                 0.774590   \n",
       "2344        2344  frc3974                  0.097403                 0.822014   \n",
       "2345        2345  frc1168                  0.233766                 0.980094   \n",
       "2346        2346   frc433                  0.331169                 0.864169   \n",
       "2347        2347  frc2729                  0.253247                 0.948478   \n",
       "2348        2348  frc2234                  0.159091                 0.750000   \n",
       "2349        2349  frc2539                  0.545455                 0.986680   \n",
       "\n",
       "      Technical_Scoring  Autonomous_Scoring   Endgame     Fouls   Defense  \\\n",
       "2319           1.000000            1.000000  0.378788  0.624242  0.854111   \n",
       "2320           0.820197            0.968067  0.214286  0.423377  0.341796   \n",
       "2321           0.820197            0.771429  0.759740  0.781818  0.619174   \n",
       "2322           0.631773            0.831933  0.701299  0.283117  0.332702   \n",
       "2323           0.612069            0.941176  0.469697  0.600000  0.358974   \n",
       "2324           0.491379            0.864706  0.295455  0.509091  0.795756   \n",
       "2325           0.491379            0.964706  0.333333  0.175758  0.440318   \n",
       "2326           0.426724            0.758824  0.159091  0.000000  0.000000   \n",
       "2327           0.603448            0.976471  0.742424  0.600000  0.419098   \n",
       "2328           0.653941            0.816807  0.214286  0.438961  0.355438   \n",
       "2329           0.630388            0.952941  0.562500  0.454545  0.458886   \n",
       "2330           0.844828            0.988235  1.000000  0.600000  0.723254   \n",
       "2331           0.908867            0.726050  0.253247  0.438961  0.801061   \n",
       "2332           0.756466            0.939706  0.715909  0.713636  0.423077   \n",
       "2333           0.814655            0.913235  0.801136  0.536364  0.076923   \n",
       "2334           0.814655            0.741176  0.426136  0.195455  0.562334   \n",
       "2335           0.465517            0.847059  0.227273  1.000000  0.063660   \n",
       "2336           0.672414            0.829412  0.454545  0.036364  0.344828   \n",
       "2337           0.543103            0.937815  0.233766  0.392208  0.573702   \n",
       "2338           0.543103            0.998319  0.818182  0.548052  0.118984   \n",
       "2339           0.753695            0.862185  0.740260  0.625974  0.828344   \n",
       "2340           0.601293            0.926471  0.340909  0.400000  0.665782   \n",
       "2341           0.784483            0.941176  0.242424  0.321212  0.507515   \n",
       "2342           0.530172            0.864706  0.204545  0.327273  0.615385   \n",
       "2343           0.530172            0.758824  0.181818  0.636364  0.779841   \n",
       "2344           0.487685            0.831933  0.954545  0.392208  0.841986   \n",
       "2345           0.775862            0.831933  0.233766  0.033766  0.228117   \n",
       "2346           0.576355            0.786555  0.506494  0.641558  0.514589   \n",
       "2347           0.576355            0.937815  0.448052  0.641558  0.532778   \n",
       "2348           0.517241            0.811765  0.340909  0.727273  0.488064   \n",
       "2349           0.727371            0.847059  0.818182  0.372727  1.000000   \n",
       "\n",
       "     Competition  Year  \n",
       "2319   2019paphi  2019  \n",
       "2320   2019paphi  2019  \n",
       "2321   2019paphi  2019  \n",
       "2322   2019paphi  2019  \n",
       "2323   2019paphi  2019  \n",
       "2324   2019paphi  2019  \n",
       "2325   2019paphi  2019  \n",
       "2326   2019paphi  2019  \n",
       "2327   2019paphi  2019  \n",
       "2328   2019paphi  2019  \n",
       "2329   2019paphi  2019  \n",
       "2330   2019paphi  2019  \n",
       "2331   2019paphi  2019  \n",
       "2332   2019paphi  2019  \n",
       "2333   2019paphi  2019  \n",
       "2334   2019paphi  2019  \n",
       "2335   2019paphi  2019  \n",
       "2336   2019paphi  2019  \n",
       "2337   2019paphi  2019  \n",
       "2338   2019paphi  2019  \n",
       "2339   2019paphi  2019  \n",
       "2340   2019paphi  2019  \n",
       "2341   2019paphi  2019  \n",
       "2342   2019paphi  2019  \n",
       "2343   2019paphi  2019  \n",
       "2344   2019paphi  2019  \n",
       "2345   2019paphi  2019  \n",
       "2346   2019paphi  2019  \n",
       "2347   2019paphi  2019  \n",
       "2348   2019paphi  2019  \n",
       "2349   2019paphi  2019  "
      ]
     },
     "execution_count": 18,
     "metadata": {},
     "output_type": "execute_result"
    }
   ],
   "source": [
    "competition = \"2019paphi\"\n",
    "comp = competitions[competitions['Competition'] == competition]\n",
    "robot1 = 'frc2539'\n",
    "robot2 = 'frc5404'\n",
    "robot3 = 'frc103'\n",
    "robot4 = 'frc2168'\n",
    "robot5 = 'frc747'\n",
    "robot6 = 'frc3974'\n",
    "robot7 = 'frc1218'\n",
    "robot8 = 'frc708'\n",
    "just_outside = ['frc4342','frc433','frc293','frc2729','frc2016','frc2095','frc709','frc225'] \n",
    "top_8 = [robot1,robot2,robot3,robot4,robot5,robot6,robot7,robot8]\n",
    "all_robots = list(comp['Robot'])\n",
    "comp"
   ]
  },
  {
   "cell_type": "code",
   "execution_count": 19,
   "metadata": {},
   "outputs": [],
   "source": [
    "import itertools\n",
    "from matplotlib import pyplot as plt\n",
    "def get_avg(comp, count):\n",
    "    comb = list(itertools.combinations(comp[\"Robot\"], count))\n",
    "    a2 = []\n",
    "    area = 0\n",
    "    for c in comb:\n",
    "        a = calc_alliance_area(c, comp)\n",
    "        area += a\n",
    "        a2.append(a)\n",
    "    area = area / len(comb)\n",
    "    return area\n",
    "\n",
    "def get_avg_top8(comp, top_8):\n",
    "    all_r = list(comp['Robot'])\n",
    "    for r in all_r:\n",
    "        if r in top_8:\n",
    "            all_r.remove(r)\n",
    "    \n",
    "    comb2 = pd.DataFrame(list(itertools.combinations(all_r, 2)))\n",
    "    a2 = []\n",
    "    area = 0\n",
    "    for t in top_8:\n",
    "        comb_sub = comb2.copy()\n",
    "        comb_sub[2] = t\n",
    "        comb_sub = comb_sub.values.tolist()\n",
    "        for c in comb_sub:\n",
    "            a = calc_alliance_area(c, comp)\n",
    "            area += a\n",
    "            a2.append(a)\n",
    "    area = area / (len(comb2)*8)\n",
    "    return area\n"
   ]
  },
  {
   "cell_type": "code",
   "execution_count": 20,
   "metadata": {},
   "outputs": [],
   "source": [
    "def average_all(top_8, just_outside, comp):\n",
    "    alliances = []\n",
    "    all_robots = list(comp['Robot'])\n",
    "    avg_alliance_area = get_avg_top8(comp, top_8)\n",
    "    print(avg_alliance_area)\n",
    "    for robot in top_8:\n",
    "        teams = [robot]\n",
    "        all_robots.remove(robot)\n",
    "        best_area = 0\n",
    "        best_robot = ''\n",
    "        for robot_add in all_robots:\n",
    "            teams.append(robot_add)\n",
    "            area = calc_alliance_area(teams,comp)\n",
    "            if abs(avg_alliance_area - area) < abs(avg_alliance_area - best_area):\n",
    "                best_area = area\n",
    "                best_robot = robot_add\n",
    "            teams.remove(robot_add)\n",
    "        teams.append(best_robot)\n",
    "        all_robots.remove(best_robot)\n",
    "        if best_robot in top_8:\n",
    "            top_8.remove(best_robot)\n",
    "            top_8.append(just_outside[0])\n",
    "            just_outside.remove(just_outside[0])\n",
    "        if best_robot in just_outside:\n",
    "            just_outside.remove(best_robot)\n",
    "        alliances.append(teams)\n",
    "                \n",
    "    alliances_r = alliances[::-1]\n",
    "    for alliance in alliances_r:\n",
    "        best_area = 0\n",
    "        best_robot = ''\n",
    "        for robot_add in all_robots:\n",
    "            alliance.append(robot_add)\n",
    "            area = calc_alliance_area(alliance,comp)\n",
    "            if abs(avg_alliance_area - area) < abs(avg_alliance_area - best_area):\n",
    "                best_area = area\n",
    "                best_robot = robot_add\n",
    "            alliance.remove(robot_add)\n",
    "        alliance.append(best_robot)\n",
    "        all_robots.remove(best_robot)\n",
    "            \n",
    "    alliances = alliances_r[::-1]\n",
    "        \n",
    "    return alliances"
   ]
  },
  {
   "cell_type": "code",
   "execution_count": 21,
   "metadata": {},
   "outputs": [],
   "source": [
    "def average(team, top_8, just_outside, comp):\n",
    "    alliances = []\n",
    "    all_robots = list(comp['Robot'])\n",
    "    my_alliance = []\n",
    "    avg_alliance_area = get_avg_top8(comp, top_8)\n",
    "    for robot in top_8:\n",
    "        teams = [robot]\n",
    "        all_robots.remove(robot)\n",
    "        best_area = 0\n",
    "        best_robot = ''\n",
    "        if robot != team:\n",
    "            print(\"Alliance Drafting: \")\n",
    "            print(teams)\n",
    "            best_robot = input(\"Team Selected: \")\n",
    "            teams.append(best_robot)\n",
    "            all_robots.remove(best_robot)\n",
    "        else:\n",
    "            print(\"My alliance Drafting: \")\n",
    "            print(robot)\n",
    "            for robot_add in all_robots:\n",
    "                teams.append(robot_add)\n",
    "                area = calc_alliance_area(teams,comp)\n",
    "                if abs(avg_alliance_area - area) < abs(avg_alliance_area - best_area):\n",
    "                    best_area = area\n",
    "                    best_robot = robot_add\n",
    "                teams.remove(robot_add)\n",
    "            teams.append(best_robot)\n",
    "            all_robots.remove(best_robot)\n",
    "            print(best_robot)\n",
    "            my_alliance = teams\n",
    "        if best_robot in top_8:\n",
    "            top_8.remove(best_robot)\n",
    "            top_8.append(just_outside[0])\n",
    "            just_outside.remove(just_outside[0])\n",
    "        if best_robot in just_outside:\n",
    "            just_outside.remove(best_robot)\n",
    "            \n",
    "        alliances.append(teams)\n",
    "           \n",
    "    alliances_r = alliances[::-1]\n",
    "    for alliance in alliances_r:\n",
    "        best_area = 0\n",
    "        best_robot = ''\n",
    "        if alliance != my_alliance:\n",
    "            print(\"Alliance Drafting: \")\n",
    "            print(alliance)\n",
    "            best_robot = input(\"Team Selected: \")\n",
    "            alliance.append(best_robot)\n",
    "            all_robots.remove(best_robot)\n",
    "        else:\n",
    "            print(\"My alliance Drafting: \")\n",
    "            print(alliance)\n",
    "            for robot_add in all_robots:\n",
    "                alliance.append(robot_add)\n",
    "                area = calc_alliance_area(alliance,comp)\n",
    "                if abs(avg_alliance_area - area) < abs(avg_alliance_area - best_area):\n",
    "                    best_area = area\n",
    "                    best_robot = robot_add\n",
    "                alliance.remove(robot_add)\n",
    "            alliance.append(best_robot)\n",
    "            print(best_robot)\n",
    "            all_robots.remove(best_robot)\n",
    "            \n",
    "    alliances = alliances_r[::-1]\n",
    "        \n",
    "    return alliances"
   ]
  },
  {
   "cell_type": "code",
   "execution_count": 22,
   "metadata": {},
   "outputs": [
    {
     "name": "stdout",
     "output_type": "stream",
     "text": [
      "0.9936357476301614\n"
     ]
    }
   ],
   "source": [
    "avg_alliances = average_all(top_8, just_outside, comp)\n",
    "average = get_avg_top8(comp, top_8)"
   ]
  },
  {
   "cell_type": "code",
   "execution_count": 23,
   "metadata": {},
   "outputs": [
    {
     "data": {
      "text/plain": [
       "[['frc2539', 'frc486', 'frc5181'],\n",
       " ['frc5404', 'frc7599', 'frc225'],\n",
       " ['frc103', 'frc7877', 'frc2729'],\n",
       " ['frc2168', 'frc752', 'frc321'],\n",
       " ['frc747', 'frc2180', 'frc7414'],\n",
       " ['frc3974', 'frc709', 'frc2016'],\n",
       " ['frc1218', 'frc316', 'frc4342'],\n",
       " ['frc708', 'frc2095', 'frc433']]"
      ]
     },
     "execution_count": 23,
     "metadata": {},
     "output_type": "execute_result"
    }
   ],
   "source": [
    "avg_alliances"
   ]
  },
  {
   "cell_type": "code",
   "execution_count": null,
   "metadata": {},
   "outputs": [],
   "source": [
    "calc_alliance_area(avg_alliances[0], comp)"
   ]
  }
 ],
 "metadata": {
  "kernelspec": {
   "display_name": "Python 3",
   "language": "python",
   "name": "python3"
  },
  "language_info": {
   "codemirror_mode": {
    "name": "ipython",
    "version": 3
   },
   "file_extension": ".py",
   "mimetype": "text/x-python",
   "name": "python",
   "nbconvert_exporter": "python",
   "pygments_lexer": "ipython3",
   "version": "3.9.12"
  }
 },
 "nbformat": 4,
 "nbformat_minor": 4
}
