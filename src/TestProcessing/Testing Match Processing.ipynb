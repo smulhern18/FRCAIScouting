{
 "cells": [
  {
   "cell_type": "code",
   "execution_count": null,
   "metadata": {},
   "outputs": [],
   "source": [
    "import numpy as np\n",
    "import pandas as pd\n",
    "import ast\n",
    "import math\n",
    "import plotly.express as px"
   ]
  },
  {
   "cell_type": "markdown",
   "metadata": {},
   "source": [
    "# 2017"
   ]
  },
  {
   "cell_type": "code",
   "execution_count": null,
   "metadata": {},
   "outputs": [],
   "source": [
    "with open('pulled_matches_2017_2017abca_2017abca_qm25.txt') as f:\n",
    "    data = f.read()\n",
    "d = ast.literal_eval(data)"
   ]
  },
  {
   "cell_type": "code",
   "execution_count": null,
   "metadata": {},
   "outputs": [],
   "source": [
    "d.get('alliances').get('blue')"
   ]
  },
  {
   "cell_type": "code",
   "execution_count": null,
   "metadata": {},
   "outputs": [],
   "source": []
  },
  {
   "cell_type": "code",
   "execution_count": null,
   "metadata": {},
   "outputs": [],
   "source": [
    "d"
   ]
  },
  {
   "cell_type": "code",
   "execution_count": null,
   "metadata": {},
   "outputs": [],
   "source": [
    "b1s = []\n",
    "b2s = []\n",
    "b3s = []\n",
    "r1s = []\n",
    "r2s = []\n",
    "r3s = []\n",
    "bautoT = []\n",
    "rautoT = []\n",
    "bendG = []\n",
    "rendG = []\n",
    "bfoulsO = []\n",
    "rfoulsO = []\n",
    "bdefO = []\n",
    "rdefO = []\n",
    "bTradSH = []\n",
    "rTradSH = []\n",
    "bTradSL = []\n",
    "rTradSL = []\n",
    "bTechS = []\n",
    "rTechS = []\n",
    "\n",
    "\n",
    "b1s.append(d.get('alliances').get('blue').get('team_keys')[0])\n",
    "b2s.append(d.get('alliances').get('blue').get('team_keys')[1])\n",
    "b3s.append(d.get('alliances').get('blue').get('team_keys')[2])\n",
    "r1s.append(d.get('alliances').get('red').get('team_keys')[0])\n",
    "r2s.append(d.get('alliances').get('red').get('team_keys')[1])\n",
    "r3s.append(d.get('alliances').get('red').get('team_keys')[2])\n",
    "bautoT.append(d.get('score_breakdown').get('blue').get('autoPoints'))\n",
    "rautoT.append(d.get('score_breakdown').get('red').get('autoPoints'))\n",
    "bendG.append(d.get('score_breakdown').get('blue').get('teleopTakeoffPoints'))\n",
    "rendG.append(d.get('score_breakdown').get('red').get('teleopTakeoffPoints'))\n",
    "bfoulsO.append(-d.get('score_breakdown').get('red').get('foulPoints'))\n",
    "rfoulsO.append(-d.get('score_breakdown').get('blue').get('foulPoints'))\n",
    "bdefO.append(-d.get('score_breakdown').get('red').get('totalPoints'))\n",
    "rdefO.append(-d.get('score_breakdown').get('blue').get('totalPoints'))\n",
    "bTradSH.append(d.get('score_breakdown').get('blue').get('teleopFuelHigh')/3 + d.get('score_breakdown').get('blue').get('kPaBonusPoints'))\n",
    "rTradSH.append(d.get('score_breakdown').get('red').get('teleopFuelHigh')/3 + d.get('score_breakdown').get('red').get('kPaBonusPoints'))\n",
    "bTradSL.append(d.get('score_breakdown').get('blue').get('teleopFuelLow')/6 + d.get('score_breakdown').get('blue').get('kPaBonusPoints')/2)\n",
    "rTradSL.append(d.get('score_breakdown').get('red').get('teleopFuelLow')/6 + d.get('score_breakdown').get('blue').get('kPaBonusPoints')/2)\n",
    "bTechS.append(d.get('score_breakdown').get('blue').get('rotor1Engaged')*40 + d.get('score_breakdown').get('blue').get('rotor2Engaged')*40/2 + d.get('score_breakdown').get('blue').get('rotor1Engaged')*40/4 + d.get('score_breakdown').get('blue').get('rotor1Engaged')*40/5)\n",
    "rTechS.append(d.get('score_breakdown').get('red').get('rotor1Engaged')*40 + d.get('score_breakdown').get('red').get('rotor2Engaged')*40/2 + d.get('score_breakdown').get('red').get('rotor1Engaged')*40/4 + d.get('score_breakdown').get('red').get('rotor1Engaged')*40/5)\n",
    "\n",
    "col_names = ['Robot','Traditional Scoring High','Traditional Scoring Low','Technical Scoring','Autonomous Scoring','Endgame','Fouls','Defense']\n",
    "data_2017 = pd.DataFrame(columns = col_names)\n",
    "for match in range(0,len(b1s)):\n",
    "    data = [b1s[match],bTradSH[match],bTradSL[match],bTechS[match],bautoT[match],bendG[match],bfoulsO[match],bdefO[match]]\n",
    "    data_2017 = data_2017.append(pd.DataFrame([data],columns = col_names), ignore_index = True)\n",
    "    data = [b2s[match],bTradSH[match],bTradSL[match],bTechS[match],bautoT[match],bendG[match],bfoulsO[match],bdefO[match]]\n",
    "    data_2017 = data_2017.append(pd.DataFrame([data],columns = col_names), ignore_index = True)\n",
    "    data = [b3s[match],bTradSH[match],bTradSL[match],bTechS[match],bautoT[match],bendG[match],bfoulsO[match],bdefO[match]]\n",
    "    data_2017 = data_2017.append(pd.DataFrame([data],columns = col_names), ignore_index = True)\n",
    "    data = [r1s[match],rTradSH[match],rTradSL[match],rTechS[match],rautoT[match],rendG[match],rfoulsO[match],rdefO[match]]\n",
    "    data_2017 = data_2017.append(pd.DataFrame([data],columns = col_names), ignore_index = True)\n",
    "    data = [r2s[match],rTradSH[match],rTradSL[match],rTechS[match],rautoT[match],rendG[match],rfoulsO[match],rdefO[match]]\n",
    "    data_2017 = data_2017.append(pd.DataFrame([data],columns = col_names), ignore_index = True)\n",
    "    data = [r3s[match],rTradSH[match],rTradSL[match],rTechS[match],rautoT[match],rendG[match],rfoulsO[match],rdefO[match]]\n",
    "    data_2017 = data_2017.append(pd.DataFrame([data],columns = col_names), ignore_index = True)"
   ]
  },
  {
   "cell_type": "code",
   "execution_count": null,
   "metadata": {},
   "outputs": [],
   "source": [
    "for stat in data_2017:\n",
    "    if stat != 'Robot':\n",
    "        data_2017[stat] = data_2017[stat].astype('float64')\n",
    "data_2017"
   ]
  },
  {
   "cell_type": "code",
   "execution_count": null,
   "metadata": {},
   "outputs": [],
   "source": [
    "grouped_2017 = data_2017.groupby(by = 'Robot').mean()\n",
    "for stat in grouped_2017.columns:\n",
    "    grouped_2017[stat] = grouped_2017[stat]/3\n",
    "grouped_2017"
   ]
  },
  {
   "cell_type": "markdown",
   "metadata": {},
   "source": [
    "# 2018"
   ]
  },
  {
   "cell_type": "code",
   "execution_count": null,
   "metadata": {},
   "outputs": [],
   "source": [
    "with open('pulled_matches_2018_2018abca_2018abca_qm18.txt') as f:\n",
    "    data = f.read()\n",
    "d = ast.literal_eval(data)"
   ]
  },
  {
   "cell_type": "code",
   "execution_count": null,
   "metadata": {},
   "outputs": [],
   "source": [
    "b1s = []\n",
    "b2s = []\n",
    "b3s = []\n",
    "r1s = []\n",
    "r2s = []\n",
    "r3s = []\n",
    "bautoT = []\n",
    "rautoT = []\n",
    "bendG = []\n",
    "rendG = []\n",
    "bfoulsO = []\n",
    "rfoulsO = []\n",
    "bdefO = []\n",
    "rdefO = []\n",
    "bTradSH = []\n",
    "rTradSH = []\n",
    "bTradSL = []\n",
    "rTradSL = []\n",
    "bTechS = []\n",
    "rTechS = []\n",
    "\n",
    "b1s.append(d.get('alliances').get('blue').get('team_keys')[0])\n",
    "b2s.append(d.get('alliances').get('blue').get('team_keys')[1])\n",
    "b3s.append(d.get('alliances').get('blue').get('team_keys')[2])\n",
    "r1s.append(d.get('alliances').get('red').get('team_keys')[0])\n",
    "r2s.append(d.get('alliances').get('red').get('team_keys')[1])\n",
    "r3s.append(d.get('alliances').get('red').get('team_keys')[2])\n",
    "\n",
    "bautoT.append(d.get('score_breakdown').get('blue').get('autoPoints'))\n",
    "rautoT.append(d.get('score_breakdown').get('red').get('autoPoints'))\n",
    "\n",
    "end_dict = {'Parking': 5,'Climbing': 30, 'Levitate': 5, 'None': 0}\n",
    "bendG.append([end_dict.get(d.get('score_breakdown').get('blue').get('endgameRobot1')),  end_dict.get(d.get('score_breakdown').get('blue').get('endgameRobot2')), end_dict.get(d.get('score_breakdown').get('blue').get('endgameRobot3'))])\n",
    "rendG.append([end_dict.get(d.get('score_breakdown').get('red').get('endgameRobot1')),  end_dict.get(d.get('score_breakdown').get('red').get('endgameRobot2')), end_dict.get(d.get('score_breakdown').get('red').get('endgameRobot3'))])\n",
    "\n",
    "bfoulsO.append(-d.get('score_breakdown').get('red').get('foulPoints'))\n",
    "rfoulsO.append(-d.get('score_breakdown').get('blue').get('foulPoints'))\n",
    "\n",
    "bdefO.append(-d.get('score_breakdown').get('red').get('totalPoints'))\n",
    "rdefO.append(-d.get('score_breakdown').get('blue').get('totalPoints'))\n",
    "\n",
    "bTradSH.append(d.get('score_breakdown').get('blue').get('teleopScaleOwnershipSec') - d.get('score_breakdown').get('blue').get('teleopScaleForceSec'))\n",
    "rTradSH.append(d.get('score_breakdown').get('red').get('teleopScaleOwnershipSec') - d.get('score_breakdown').get('red').get('teleopScaleForceSec'))\n",
    "\n",
    "bTradSL.append(d.get('score_breakdown').get('blue').get('teleopSwitchOwnershipSec') - d.get('score_breakdown').get('blue').get('teleopSwitchForceSec'))\n",
    "rTradSL.append(d.get('score_breakdown').get('red').get('teleopSwitchOwnershipSec') - d.get('score_breakdown').get('red').get('teleopSwitchForceSec'))\n",
    "\n",
    "bTechS.append(d.get('score_breakdown').get('blue').get('teleopScaleBoostSec') + d.get('score_breakdown').get('blue').get('teleopSwitchBoostSec') + d.get('score_breakdown').get('blue').get('teleopScaleForceSec') + d.get('score_breakdown').get('blue').get('teleopSwitchForceSec') + d.get('score_breakdown').get('blue').get('vaultPoints') + d.get('score_breakdown').get('blue').get('vaultLevitatePlayed')*30)\n",
    "rTechS.append(d.get('score_breakdown').get('red').get('teleopScaleBoostSec') + d.get('score_breakdown').get('red').get('teleopSwitchBoostSec') + d.get('score_breakdown').get('red').get('teleopScaleForceSec') + d.get('score_breakdown').get('red').get('teleopSwitchForceSec') + d.get('score_breakdown').get('red').get('vaultPoints') + d.get('score_breakdown').get('red').get('vaultLevitatePlayed')*30)\n",
    "\n",
    "col_names = ['Robot','Traditional Scoring High','Traditional Scoring Low','Technical Scoring','Autonomous Scoring','Endgame','Fouls','Defense']\n",
    "data_2018 = pd.DataFrame(columns = col_names)\n",
    "for match in range(0,len(b1s)):\n",
    "    data = [b1s[match],bTradSH[match],bTradSL[match],bTechS[match],bautoT[match],bendG[match][0],bfoulsO[match],bdefO[match]]\n",
    "    data_2018 = data_2018.append(pd.DataFrame([data],columns = col_names), ignore_index = True)\n",
    "    data = [b2s[match],bTradSH[match],bTradSL[match],bTechS[match],bautoT[match],bendG[match][1],bfoulsO[match],bdefO[match]]\n",
    "    data_2018 = data_2018.append(pd.DataFrame([data],columns = col_names), ignore_index = True)\n",
    "    data = [b3s[match],bTradSH[match],bTradSL[match],bTechS[match],bautoT[match],bendG[match][2],bfoulsO[match],bdefO[match]]\n",
    "    data_2018 = data_2018.append(pd.DataFrame([data],columns = col_names), ignore_index = True)\n",
    "    data = [r1s[match],rTradSH[match],rTradSL[match],rTechS[match],rautoT[match],rendG[match][0],rfoulsO[match],rdefO[match]]\n",
    "    data_2018 = data_2018.append(pd.DataFrame([data],columns = col_names), ignore_index = True)\n",
    "    data = [r2s[match],rTradSH[match],rTradSL[match],rTechS[match],rautoT[match],rendG[match][1],rfoulsO[match],rdefO[match]]\n",
    "    data_2018 = data_2018.append(pd.DataFrame([data],columns = col_names), ignore_index = True)\n",
    "    data = [r3s[match],rTradSH[match],rTradSL[match],rTechS[match],rautoT[match],rendG[match][2],rfoulsO[match],rdefO[match]]\n",
    "    data_2018 = data_2018.append(pd.DataFrame([data],columns = col_names), ignore_index = True)"
   ]
  },
  {
   "cell_type": "code",
   "execution_count": null,
   "metadata": {},
   "outputs": [],
   "source": [
    "for stat in data_2018:\n",
    "    if stat != 'Robot':\n",
    "        data_2018[stat] = data_2018[stat].astype('float64')\n",
    "data_2018"
   ]
  },
  {
   "cell_type": "code",
   "execution_count": null,
   "metadata": {},
   "outputs": [],
   "source": [
    "grouped_2018 = data_2018.groupby(by = 'Robot').mean()\n",
    "for stat in grouped_2018.columns:\n",
    "    if stat != 'Endgame':\n",
    "        grouped_2018[stat] = grouped_2018[stat]/3\n",
    "grouped_2018"
   ]
  },
  {
   "cell_type": "markdown",
   "metadata": {},
   "source": [
    "# 2019"
   ]
  },
  {
   "cell_type": "code",
   "execution_count": null,
   "metadata": {},
   "outputs": [],
   "source": [
    "with open('pulled_matches_2019_2019abca_2019abca_qm11.txt') as f:\n",
    "    data = f.read()\n",
    "d = ast.literal_eval(data)"
   ]
  },
  {
   "cell_type": "code",
   "execution_count": null,
   "metadata": {},
   "outputs": [],
   "source": [
    "b1s = []\n",
    "b2s = []\n",
    "b3s = []\n",
    "r1s = []\n",
    "r2s = []\n",
    "r3s = []\n",
    "bautoT = []\n",
    "rautoT = []\n",
    "bendG = []\n",
    "rendG = []\n",
    "bfoulsO = []\n",
    "rfoulsO = []\n",
    "bdefO = []\n",
    "rdefO = []\n",
    "bTradSH = []\n",
    "rTradSH = []\n",
    "bTradSL = []\n",
    "rTradSL = []\n",
    "bTechS = []\n",
    "rTechS = []\n",
    "\n",
    "b1s.append(d.get('alliances').get('blue').get('team_keys')[0])\n",
    "b2s.append(d.get('alliances').get('blue').get('team_keys')[1])\n",
    "b3s.append(d.get('alliances').get('blue').get('team_keys')[2])\n",
    "r1s.append(d.get('alliances').get('red').get('team_keys')[0])\n",
    "r2s.append(d.get('alliances').get('red').get('team_keys')[1])\n",
    "r3s.append(d.get('alliances').get('red').get('team_keys')[2])\n",
    "\n",
    "bautoT.append(d.get('score_breakdown').get('blue').get('autoPoints'))\n",
    "rautoT.append(d.get('score_breakdown').get('red').get('autoPoints'))\n",
    "\n",
    "end_dict = {'HabLevel3': 12,'HabLevel2': 6, 'HabLevel1': 3, 'None': 0}\n",
    "bendG.append([end_dict.get(d.get('score_breakdown').get('blue').get('endgameRobot1')),  end_dict.get(d.get('score_breakdown').get('blue').get('endgameRobot2')), end_dict.get(d.get('score_breakdown').get('blue').get('endgameRobot3'))])\n",
    "rendG.append([end_dict.get(d.get('score_breakdown').get('red').get('endgameRobot1')),  end_dict.get(d.get('score_breakdown').get('red').get('endgameRobot2')), end_dict.get(d.get('score_breakdown').get('red').get('endgameRobot3'))])\n",
    "\n",
    "bfoulsO.append(-d.get('score_breakdown').get('red').get('foulPoints'))\n",
    "rfoulsO.append(-d.get('score_breakdown').get('blue').get('foulPoints'))\n",
    "\n",
    "bdefO.append(-d.get('score_breakdown').get('red').get('totalPoints'))\n",
    "rdefO.append(-d.get('score_breakdown').get('blue').get('totalPoints'))\n",
    "\n",
    "panel_dict = {'PanelAndCargo': 2, 'Panel': 2, 'None': 0}\n",
    "cargo_dict = {'PanelAndCargo': 3, 'Panel': 0, 'None': 0}\n",
    "\n",
    "bTradSH.append(cargo_dict.get(d.get('score_breakdown').get('blue').get('lowLeftRocketFar')) + cargo_dict.get(d.get('score_breakdown').get('blue').get('lowRightRocketFar')) + cargo_dict.get(d.get('score_breakdown').get('blue').get('lowLeftRocketNear')) + cargo_dict.get(d.get('score_breakdown').get('blue').get('lowRightRocketNear')) + cargo_dict.get(d.get('score_breakdown').get('blue').get('midLeftRocketFar')) + cargo_dict.get(d.get('score_breakdown').get('blue').get('midLeftRocketNear')) + cargo_dict.get(d.get('score_breakdown').get('blue').get('midRightRocketFar')) + cargo_dict.get(d.get('score_breakdown').get('blue').get('midRightRocketNear')) + cargo_dict.get(d.get('score_breakdown').get('blue').get('topLeftRocketFar')) + cargo_dict.get(d.get('score_breakdown').get('blue').get('topLeftRocketNear')) + cargo_dict.get(d.get('score_breakdown').get('blue').get('topRightRocketFar')) + cargo_dict.get(d.get('score_breakdown').get('blue').get('topRightRocketNear')))\n",
    "rTradSH.append(cargo_dict.get(d.get('score_breakdown').get('red').get('lowLeftRocketFar')) + cargo_dict.get(d.get('score_breakdown').get('red').get('lowRightRocketFar')) + cargo_dict.get(d.get('score_breakdown').get('red').get('lowLeftRocketNear')) + cargo_dict.get(d.get('score_breakdown').get('red').get('lowRightRocketNear')) + cargo_dict.get(d.get('score_breakdown').get('red').get('midLeftRocketFar')) + cargo_dict.get(d.get('score_breakdown').get('red').get('midLeftRocketNear')) + cargo_dict.get(d.get('score_breakdown').get('red').get('midRightRocketFar')) + cargo_dict.get(d.get('score_breakdown').get('red').get('midRightRocketNear')) + cargo_dict.get(d.get('score_breakdown').get('red').get('topLeftRocketFar')) + cargo_dict.get(d.get('score_breakdown').get('red').get('topLeftRocketNear')) + cargo_dict.get(d.get('score_breakdown').get('red').get('topRightRocketFar')) + cargo_dict.get(d.get('score_breakdown').get('red').get('topRightRocketNear')))\n",
    "\n",
    "bTradSL.append(cargo_dict.get(d.get('score_breakdown').get('blue').get('bay1')) + cargo_dict.get(d.get('score_breakdown').get('blue').get('bay2')) + cargo_dict.get(d.get('score_breakdown').get('blue').get('bay3')) + cargo_dict.get(d.get('score_breakdown').get('blue').get('bay4')) + cargo_dict.get(d.get('score_breakdown').get('blue').get('bay5')) + cargo_dict.get(d.get('score_breakdown').get('blue').get('bay6')) + cargo_dict.get(d.get('score_breakdown').get('blue').get('bay7')) + cargo_dict.get(d.get('score_breakdown').get('blue').get('bay8')))\n",
    "rTradSL.append(cargo_dict.get(d.get('score_breakdown').get('red').get('bay1')) + cargo_dict.get(d.get('score_breakdown').get('red').get('bay2')) + cargo_dict.get(d.get('score_breakdown').get('red').get('bay3')) + cargo_dict.get(d.get('score_breakdown').get('red').get('bay4')) + cargo_dict.get(d.get('score_breakdown').get('red').get('bay5')) + cargo_dict.get(d.get('score_breakdown').get('red').get('bay6')) + cargo_dict.get(d.get('score_breakdown').get('red').get('bay7')) + cargo_dict.get(d.get('score_breakdown').get('red').get('bay8')))\n",
    "\n",
    "bTechS.append(panel_dict.get(d.get('score_breakdown').get('blue').get('bay1')) + panel_dict.get(d.get('score_breakdown').get('blue').get('bay2')) + panel_dict.get(d.get('score_breakdown').get('blue').get('bay3')) + panel_dict.get(d.get('score_breakdown').get('blue').get('bay4')) + panel_dict.get(d.get('score_breakdown').get('blue').get('bay5')) + panel_dict.get(d.get('score_breakdown').get('blue').get('bay6')) + panel_dict.get(d.get('score_breakdown').get('blue').get('bay7')) + panel_dict.get(d.get('score_breakdown').get('blue').get('bay8')) + panel_dict.get(d.get('score_breakdown').get('blue').get('lowLeftRocketFar')) + panel_dict.get(d.get('score_breakdown').get('blue').get('lowRightRocketFar')) + panel_dict.get(d.get('score_breakdown').get('blue').get('lowLeftRocketNear')) + panel_dict.get(d.get('score_breakdown').get('blue').get('lowRightRocketNear')) + panel_dict.get(d.get('score_breakdown').get('blue').get('midLeftRocketFar')) + panel_dict.get(d.get('score_breakdown').get('blue').get('midLeftRocketNear')) + panel_dict.get(d.get('score_breakdown').get('blue').get('midRightRocketFar')) + panel_dict.get(d.get('score_breakdown').get('blue').get('midRightRocketNear')) + panel_dict.get(d.get('score_breakdown').get('blue').get('topLeftRocketFar')) + panel_dict.get(d.get('score_breakdown').get('blue').get('topLeftRocketNear')) + panel_dict.get(d.get('score_breakdown').get('blue').get('topRightRocketFar')) + panel_dict.get(d.get('score_breakdown').get('blue').get('topRightRocketNear'))  - (int(panel_dict.get(d.get('score_breakdown').get('blue').get('preMatchBay1')) or 0) + int(panel_dict.get(d.get('score_breakdown').get('blue').get('preMatchBay2')) or 0) + int(panel_dict.get(d.get('score_breakdown').get('blue').get('preMatchBay3')) or 0) + int(panel_dict.get(d.get('score_breakdown').get('blue').get('preMatchBay4')) or 0) + int(panel_dict.get(d.get('score_breakdown').get('blue').get('preMatchBay5')) or 0) + int(panel_dict.get(d.get('score_breakdown').get('blue').get('preMatchBay6')) or 0) + int(panel_dict.get(d.get('score_breakdown').get('blue').get('preMatchBay7')) or 0) + int(panel_dict.get(d.get('score_breakdown').get('blue').get('preMatchBay8')) or 0)))\n",
    "rTechS.append(panel_dict.get(d.get('score_breakdown').get('red').get('bay1')) + panel_dict.get(d.get('score_breakdown').get('red').get('bay2')) + panel_dict.get(d.get('score_breakdown').get('red').get('bay3')) + panel_dict.get(d.get('score_breakdown').get('red').get('bay4')) + panel_dict.get(d.get('score_breakdown').get('red').get('bay5')) + panel_dict.get(d.get('score_breakdown').get('red').get('bay6')) + panel_dict.get(d.get('score_breakdown').get('red').get('bay7')) + panel_dict.get(d.get('score_breakdown').get('red').get('bay8')) + panel_dict.get(d.get('score_breakdown').get('red').get('lowLeftRocketFar')) + panel_dict.get(d.get('score_breakdown').get('red').get('lowRightRocketFar')) + panel_dict.get(d.get('score_breakdown').get('red').get('lowLeftRocketNear')) + panel_dict.get(d.get('score_breakdown').get('red').get('lowRightRocketNear')) + panel_dict.get(d.get('score_breakdown').get('red').get('midLeftRocketFar')) + panel_dict.get(d.get('score_breakdown').get('red').get('midLeftRocketNear')) + panel_dict.get(d.get('score_breakdown').get('red').get('midRightRocketFar')) + panel_dict.get(d.get('score_breakdown').get('red').get('midRightRocketNear')) + panel_dict.get(d.get('score_breakdown').get('red').get('topLeftRocketFar')) + panel_dict.get(d.get('score_breakdown').get('red').get('topLeftRocketNear')) + panel_dict.get(d.get('score_breakdown').get('red').get('topRightRocketFar')) + panel_dict.get(d.get('score_breakdown').get('red').get('topRightRocketNear'))  - (int(panel_dict.get(d.get('score_breakdown').get('red').get('preMatchBay1')) or 0) + int(panel_dict.get(d.get('score_breakdown').get('red').get('preMatchBay2')) or 0) + int(panel_dict.get(d.get('score_breakdown').get('red').get('preMatchBay3')) or 0) + int(panel_dict.get(d.get('score_breakdown').get('red').get('preMatchBay4')) or 0) + int(panel_dict.get(d.get('score_breakdown').get('red').get('preMatchBay5')) or 0) + int(panel_dict.get(d.get('score_breakdown').get('red').get('preMatchBay6')) or 0) + int(panel_dict.get(d.get('score_breakdown').get('red').get('preMatchBay7')) or 0) + int(panel_dict.get(d.get('score_breakdown').get('red').get('preMatchBay8')) or 0)))\n",
    "\n",
    "col_names = ['Robot','Traditional Scoring High','Traditional Scoring Low','Technical Scoring','Autonomous Scoring','Endgame','Fouls','Defense']\n",
    "data_2019 = pd.DataFrame(columns = col_names)\n",
    "for match in range(0,len(b1s)):\n",
    "    data = [b1s[match],bTradSH[match],bTradSL[match],bTechS[match],bautoT[match],bendG[match][0],bfoulsO[match],bdefO[match]]\n",
    "    data_2019 = data_2019.append(pd.DataFrame([data],columns = col_names), ignore_index = True)\n",
    "    data = [b2s[match],bTradSH[match],bTradSL[match],bTechS[match],bautoT[match],bendG[match][1],bfoulsO[match],bdefO[match]]\n",
    "    data_2019 = data_2019.append(pd.DataFrame([data],columns = col_names), ignore_index = True)\n",
    "    data = [b3s[match],bTradSH[match],bTradSL[match],bTechS[match],bautoT[match],bendG[match][2],bfoulsO[match],bdefO[match]]\n",
    "    data_2019 = data_2019.append(pd.DataFrame([data],columns = col_names), ignore_index = True)\n",
    "    data = [r1s[match],rTradSH[match],rTradSL[match],rTechS[match],rautoT[match],rendG[match][0],rfoulsO[match],rdefO[match]]\n",
    "    data_2019 = data_2019.append(pd.DataFrame([data],columns = col_names), ignore_index = True)\n",
    "    data = [r2s[match],rTradSH[match],rTradSL[match],rTechS[match],rautoT[match],rendG[match][1],rfoulsO[match],rdefO[match]]\n",
    "    data_2019 = data_2019.append(pd.DataFrame([data],columns = col_names), ignore_index = True)\n",
    "    data = [r3s[match],rTradSH[match],rTradSL[match],rTechS[match],rautoT[match],rendG[match][2],rfoulsO[match],rdefO[match]]\n",
    "    data_2019 = data_2019.append(pd.DataFrame([data],columns = col_names), ignore_index = True)"
   ]
  },
  {
   "cell_type": "code",
   "execution_count": null,
   "metadata": {},
   "outputs": [],
   "source": [
    "for stat in data_2019:\n",
    "    if stat != 'Robot':\n",
    "        data_2019[stat] = data_2019[stat].astype('float64')\n",
    "data_2019"
   ]
  },
  {
   "cell_type": "code",
   "execution_count": null,
   "metadata": {},
   "outputs": [],
   "source": [
    "grouped_2019 = data_2019.groupby(by = 'Robot').mean()\n",
    "for stat in grouped_2019.columns:\n",
    "    if stat != 'Endgame':\n",
    "        grouped_2019[stat] = grouped_2019[stat]/3\n",
    "grouped_2019"
   ]
  },
  {
   "cell_type": "code",
   "metadata": {
    "pycharm": {
     "name": "#%%\n"
    }
   },
   "source": [
    "from EventProcessor2017 import process_2017\n",
    "from EventProcessor2018 import process_2018\n",
    "from EventProcessor2019 import process_2019\n"
   ],
   "execution_count": null,
   "outputs": []
  },
  {
   "cell_type": "code",
   "execution_count": null,
   "metadata": {},
   "outputs": [],
   "source": []
  },
  {
   "cell_type": "code",
   "execution_count": null,
   "metadata": {},
   "outputs": [],
   "source": [
    "competition = '2019paphi'\n",
    "paphi2019 = pd.DataFrame(process_2019(competition))"
   ]
  },
  {
   "cell_type": "code",
   "execution_count": null,
   "metadata": {},
   "outputs": [],
   "source": [
    "paphi2019"
   ]
  },
  {
   "cell_type": "code",
   "execution_count": null,
   "metadata": {},
   "outputs": [],
   "source": [
    "for col in paphi2019.columns:\n",
    "    if col not in ['Fouls','Defense']:\n",
    "        paphi2019[col] = paphi2019[col]/max(paphi2019[col])\n",
    "    else:\n",
    "        paphi2019[col] = 1- paphi2019[col]/min(paphi2019[col])\n",
    "paphi2019"
   ]
  },
  {
   "cell_type": "code",
   "execution_count": null,
   "metadata": {
    "scrolled": true
   },
   "outputs": [],
   "source": [
    "for col in paphi2019.columns:\n",
    "    if col in ['Fouls','Defense']:\n",
    "        paphi2019[col] = paphi2019[col]/max(paphi2019[col])\n",
    "paphi2019"
   ]
  },
  {
   "cell_type": "code",
   "execution_count": null,
   "metadata": {},
   "outputs": [],
   "source": []
  },
  {
   "cell_type": "code",
   "execution_count": null,
   "metadata": {},
   "outputs": [],
   "source": [
    "teams = ['frc5404','frc2168', 'frc1495']"
   ]
  },
  {
   "cell_type": "code",
   "execution_count": null,
   "metadata": {
    "scrolled": true
   },
   "outputs": [],
   "source": [
    "\n",
    "alliance = pd.DataFrame([[0,0,0,0,0,0,0]], columns = paphi2019.columns)\n",
    "alliance['alliance'] = 'alliance'\n",
    "for team in teams:\n",
    "    df = pd.DataFrame(paphi2019.loc[team].T)\n",
    "    df['theta'] = df.index\n",
    "    fig = px.line_polar(df, r=team, theta='theta', line_close=True, title = competition + ': ' + df.columns[0])\n",
    "    fig.update_traces(fill='toself')\n",
    "    fig.update_layout(title_x=0.5)\n",
    "    fig.show()\n",
    "    \n",
    "    for col in paphi2019.columns:\n",
    "        alliance[col] += paphi2019.loc[team][col]\n",
    "for col in alliance.columns:\n",
    "    if col != 'alliance':\n",
    "        alliance[col] = alliance[col]/3\n",
    "\n",
    "alliance = alliance.set_index('alliance')\n",
    "df = pd.DataFrame(alliance.loc['alliance'].T)\n",
    "df['theta'] = df.index\n",
    "fig = px.line_polar(df, r='alliance', theta='theta', line_close=True, title = competition + ': ' + df.columns[0])\n",
    "fig.update_traces(fill='toself')\n",
    "fig.update_layout(title_x=0.5)\n",
    "fig.show()"
   ]
  },
  {
   "cell_type": "code",
   "execution_count": null,
   "metadata": {
    "scrolled": true
   },
   "outputs": [],
   "source": [
    "# 2539\t225\t2095\n",
    "teams = ['frc2539','frc225', 'frc2095']\n",
    "alliance = pd.DataFrame([[0,0,0,0,0,0,0]], columns = paphi2019.columns)\n",
    "alliance['alliance'] = 'alliance'\n",
    "for team in teams:\n",
    "    df = pd.DataFrame(paphi2019.loc[team].T)\n",
    "    df['theta'] = df.index\n",
    "    fig = px.line_polar(df, r=team, theta='theta', line_close=True, title = competition + ': ' + df.columns[0])\n",
    "    fig.update_traces(fill='toself')\n",
    "    fig.update_layout(title_x=0.5)\n",
    "    fig.show()\n",
    "    \n",
    "    for col in paphi2019.columns:\n",
    "        alliance[col] += paphi2019.loc[team][col]\n",
    "for col in alliance.columns:\n",
    "    if col != 'alliance':\n",
    "        alliance[col] = alliance[col]/3\n",
    "\n",
    "alliance = alliance.set_index('alliance')\n",
    "df = pd.DataFrame(alliance.loc['alliance'].T)\n",
    "df['theta'] = df.index\n",
    "fig = px.line_polar(df, r='alliance', theta='theta', line_close=True, title = competition + ': ' + df.columns[0])\n",
    "fig.update_traces(fill='toself')\n",
    "fig.update_layout(title_x=0.5)\n",
    "fig.show()"
   ]
  },
  {
   "cell_type": "code",
   "execution_count": null,
   "metadata": {
    "scrolled": true
   },
   "outputs": [],
   "source": [
    "# 1218\t2016\t486\n",
    "teams = ['frc1218','frc2016', 'frc486']\n",
    "alliance = pd.DataFrame([[0,0,0,0,0,0,0]], columns = paphi2019.columns)\n",
    "alliance['alliance'] = 'alliance'\n",
    "for team in teams:\n",
    "    df = pd.DataFrame(paphi2019.loc[team].T)\n",
    "    df['theta'] = df.index\n",
    "    fig = px.line_polar(df, r=team, theta='theta', line_close=True, title = competition + ': ' + df.columns[0])\n",
    "    fig.update_traces(fill='toself')\n",
    "    fig.update_layout(title_x=0.5)\n",
    "    fig.show()\n",
    "    \n",
    "    for col in paphi2019.columns:\n",
    "        alliance[col] += paphi2019.loc[team][col]\n",
    "for col in alliance.columns:\n",
    "    if col != 'alliance':\n",
    "        alliance[col] = alliance[col]/3\n",
    "\n",
    "alliance = alliance.set_index('alliance')\n",
    "df = pd.DataFrame(alliance.loc['alliance'].T)\n",
    "df['theta'] = df.index\n",
    "fig = px.line_polar(df, r='alliance', theta='theta', line_close=True, title = competition + ': ' + df.columns[0])\n",
    "fig.update_traces(fill='toself')\n",
    "fig.update_layout(title_x=0.5)\n",
    "fig.show()"
   ]
  },
  {
   "cell_type": "code",
   "execution_count": null,
   "metadata": {
    "scrolled": false
   },
   "outputs": [],
   "source": [
    "teams = ['frc1218','frc2016', 'frc486']\n",
    "alliance = pd.DataFrame([[0,0,0,0,0,0,0]], columns = paphi2019.columns)\n",
    "alliance['alliance'] = 'alliance'\n",
    "for team in teams:\n",
    "    df = pd.DataFrame(paphi2019.loc[team].T)\n",
    "    df['theta'] = df.index\n",
    "    fig = px.line_polar(df, r=team, theta='theta', line_close=True, title = competition + ': ' + df.columns[0])\n",
    "    fig.update_traces(fill='toself')\n",
    "    fig.update_layout(title_x=0.5)\n",
    "    fig.show()\n",
    "    \n",
    "    for col in paphi2019.columns:\n",
    "        alliance[col] += paphi2019.loc[team][col]\n",
    "for col in alliance.columns:\n",
    "    if col != 'alliance':\n",
    "        alliance[col] = alliance[col]/3\n",
    "\n",
    "alliance = alliance.set_index('alliance')\n",
    "df = pd.DataFrame(alliance.loc['alliance'].T)\n",
    "df['theta'] = df.index\n",
    "fig = px.line_polar(df, r='alliance', theta='theta', line_close=True, title = competition + ': ' + df.columns[0])\n",
    "fig.update_traces(fill='toself')\n",
    "fig.update_layout(title_x=0.5)\n",
    "fig.show()"
   ]
  },
  {
   "cell_type": "code",
   "execution_count": null,
   "metadata": {},
   "outputs": [],
   "source": [
    "import plotly.graph_objects as go\n",
    "\n",
    "teams1 = ['frc1218','frc2016', 'frc486']\n",
    "alliance1 = pd.DataFrame([[0,0,0,0,0,0,0]], columns = paphi2019.columns)\n",
    "alliance1['alliance'] = 'alliance'\n",
    "for team in teams1:\n",
    "    df = pd.DataFrame(paphi2019.loc[team].T)\n",
    "    df['theta'] = df.index\n",
    "    \n",
    "    for col in paphi2019.columns:\n",
    "        alliance1[col] += paphi2019.loc[team][col]\n",
    "for col in alliance1.columns:\n",
    "    if col != 'alliance':\n",
    "        alliance1[col] = alliance1[col]/3\n",
    "\n",
    "alliance1 = alliance1.set_index('alliance')\n",
    "df1 = pd.DataFrame(alliance1.loc['alliance'].T)\n",
    "df1['theta'] = df1.index\n",
    "\n",
    "teams2 = ['frc5404','frc2168', 'frc1495']\n",
    "alliance2 = pd.DataFrame([[0,0,0,0,0,0,0]], columns = paphi2019.columns)\n",
    "alliance2['alliance'] = 'alliance'\n",
    "for team in teams2:\n",
    "    df = pd.DataFrame(paphi2019.loc[team].T)\n",
    "    df['theta'] = df.index\n",
    "    \n",
    "    for col in paphi2019.columns:\n",
    "        alliance2[col] += paphi2019.loc[team][col]\n",
    "for col in alliance2.columns:\n",
    "    if col != 'alliance':\n",
    "        alliance2[col] = alliance2[col]/3\n",
    "\n",
    "alliance2 = alliance2.set_index('alliance')\n",
    "df2 = pd.DataFrame(alliance2.loc['alliance'].T)\n",
    "df2['theta'] = df2.index\n",
    "\n",
    "\n",
    "\n",
    "categories = list(paphi2019.columns)\n",
    "\n",
    "fig = go.Figure()\n",
    "\n",
    "fig.add_trace(go.Scatterpolar(\n",
    "      r=df1['alliance'],\n",
    "      theta=categories,\n",
    "      fill='toself',\n",
    "      name='Alliance 1'\n",
    "))\n",
    "fig.add_trace(go.Scatterpolar(\n",
    "      r=df2['alliance'],\n",
    "      theta=categories,\n",
    "      fill='toself',\n",
    "      name='Alliance 2'\n",
    "))\n",
    "\n",
    "fig.update_layout(\n",
    "  polar=dict(\n",
    "    radialaxis=dict(\n",
    "      visible=True,\n",
    "      range=[0, 1]\n",
    "    )),\n",
    "  showlegend=False\n",
    ")\n",
    "\n",
    "fig.show()"
   ]
  },
  {
   "cell_type": "code",
   "execution_count": null,
   "metadata": {},
   "outputs": [],
   "source": [
    "df1"
   ]
  },
  {
   "cell_type": "code",
   "execution_count": null,
   "metadata": {},
   "outputs": [],
   "source": [
    "df2"
   ]
  },
  {
   "cell_type": "code",
   "execution_count": null,
   "metadata": {},
   "outputs": [],
   "source": [
    "competitions = pd.read_csv('competitions.csv')"
   ]
  },
  {
   "cell_type": "code",
   "execution_count": null,
   "metadata": {},
   "outputs": [],
   "source": [
    "competitions"
   ]
  },
  {
   "cell_type": "code",
   "execution_count": null,
   "metadata": {},
   "outputs": [],
   "source": [
    "competition = '2019paphi'\n",
    "comp = competitions[competitions['Competition'] == competition]\n",
    "robot1 = 'frc2539'\n",
    "robot2 = 'frc5404'\n",
    "robot3 = 'frc103'\n",
    "robot4 = 'frc2168'\n",
    "robot5 = 'frc747'\n",
    "robot6 = 'frc3974'\n",
    "robot7 = 'frc1218'\n",
    "robot8 = 'frc708'\n",
    "just_outside = ['frc4342','frc433','frc293','frc2729','frc2016','frc2095','frc709','frc225'] \n",
    "top_8 = [robot1,robot2,robot3,robot4,robot5,robot6,robot7,robot8]\n",
    "all_robots = list(comp['Robot'])\n",
    "comp"
   ]
  },
  {
   "cell_type": "code",
   "execution_count": null,
   "metadata": {},
   "outputs": [],
   "source": [
    "scoring_cols = list(comp.columns)[2:-2]"
   ]
  },
  {
   "cell_type": "code",
   "execution_count": null,
   "metadata": {},
   "outputs": [],
   "source": [
    "def calc_alliance_area(teams, comp):\n",
    "    robots = comp[comp['Robot'].isin(teams)]\n",
    "    area = 0\n",
    "    for i, col in enumerate(scoring_cols):\n",
    "        a_col = col\n",
    "        if i == len(scoring_cols)-1:\n",
    "            b_col = scoring_cols[0]\n",
    "        else:\n",
    "            b_col = scoring_cols[i+1]\n",
    "        a = np.mean(robots[a_col].values)\n",
    "        b = np.mean(robots[b_col].values)\n",
    "        c = math.radians(360/7)\n",
    "        triangle = 0.5*a*b*math.sin(c)\n",
    "        area+= triangle\n",
    "    return area"
   ]
  },
  {
   "cell_type": "code",
   "execution_count": null,
   "metadata": {},
   "outputs": [],
   "source": [
    "teams1 = ['frc1218','frc2016', 'frc486']\n",
    "teams2 = ['frc5404','frc2168', 'frc1495']\n",
    "calc_alliance_area(teams2, comp)"
   ]
  },
  {
   "cell_type": "code",
   "execution_count": null,
   "metadata": {},
   "outputs": [],
   "source": [
    "def optimize_all(top_8, just_outside, comp):\n",
    "    alliances = []\n",
    "    all_robots = list(comp['Robot'])\n",
    "    for robot in top_8:\n",
    "        teams = [robot]\n",
    "        all_robots.remove(robot)\n",
    "        best_area = 0\n",
    "        best_robot = ''\n",
    "        for robot_add in all_robots:\n",
    "            teams.append(robot_add)\n",
    "            area = calc_alliance_area(teams,comp)\n",
    "            if area > best_area:\n",
    "                best_area = area\n",
    "                best_robot = robot_add\n",
    "            teams.remove(robot_add)\n",
    "        teams.append(best_robot)\n",
    "        all_robots.remove(best_robot)\n",
    "        if best_robot in top_8:\n",
    "            top_8.remove(best_robot)\n",
    "            top_8.append(just_outside[0])\n",
    "            just_outside.remove(just_outside[0])\n",
    "        if best_robot in just_outside:\n",
    "            just_outside.remove(best_robot)\n",
    "        alliances.append(teams)\n",
    "        \n",
    "        \n",
    "    alliances_r = alliances[::-1]\n",
    "    for alliance in alliances_r:\n",
    "        best_area = 0\n",
    "        best_robot = ''\n",
    "        for robot_add in all_robots:\n",
    "            alliance.append(robot_add)\n",
    "            area = calc_alliance_area(alliance,comp)\n",
    "            if area > best_area:\n",
    "                best_area = area\n",
    "                best_robot = robot_add\n",
    "            alliance.remove(robot_add)\n",
    "        alliance.append(best_robot)\n",
    "        all_robots.remove(best_robot)\n",
    "            \n",
    "    alliances = alliances_r[::-1]\n",
    "        \n",
    "    return alliances"
   ]
  },
  {
   "cell_type": "code",
   "execution_count": null,
   "metadata": {},
   "outputs": [],
   "source": [
    "optimized_alliances = optimize_all(top_8, just_outside, comp)"
   ]
  },
  {
   "cell_type": "code",
   "execution_count": null,
   "metadata": {},
   "outputs": [],
   "source": [
    "comp_plot = comp.drop(['Unnamed: 0', 'Competition','Year'], axis = 1)\n",
    "comp_plot = comp_plot.set_index('Robot')\n",
    "comp_plot"
   ]
  },
  {
   "cell_type": "code",
   "execution_count": null,
   "metadata": {
    "scrolled": false
   },
   "outputs": [],
   "source": [
    "teams = optimized_alliances[0]\n",
    "alliance = pd.DataFrame([[0,0,0,0,0,0,0]], columns = comp_plot.columns)\n",
    "alliance['alliance'] = 'alliance'\n",
    "for team in teams:\n",
    "    df = pd.DataFrame(comp_plot.loc[team].T)\n",
    "    df['theta'] = df.index\n",
    "    fig = px.line_polar(df, r=team, theta='theta', line_close=True, title = competition + ': ' + df.columns[0])\n",
    "    fig.update_traces(fill='toself')\n",
    "    fig.update_layout(title_x=0.5)\n",
    "    fig.show()\n",
    "    \n",
    "    for col in comp_plot.columns:\n",
    "        alliance[col] += comp_plot.loc[team][col]\n",
    "for col in alliance.columns:\n",
    "    if col != 'alliance':\n",
    "        alliance[col] = alliance[col]/3\n",
    "\n",
    "alliance = alliance.set_index('alliance')\n",
    "df = pd.DataFrame(alliance.loc['alliance'].T)\n",
    "df['theta'] = df.index\n",
    "fig = px.line_polar(df, r='alliance', theta='theta', line_close=True, title = competition + ': ' + df.columns[0])\n",
    "fig.update_traces(fill='toself')\n",
    "fig.update_layout(title_x=0.5)\n",
    "fig.show()"
   ]
  },
  {
   "cell_type": "code",
   "execution_count": null,
   "metadata": {},
   "outputs": [],
   "source": [
    "def optimize(team, top_8, just_outside, comp):\n",
    "    alliances = []\n",
    "    all_robots = list(comp['Robot'])\n",
    "    my_alliance = []\n",
    "    for robot in top_8:\n",
    "        teams = [robot]\n",
    "        all_robots.remove(robot)\n",
    "        best_area = 0\n",
    "        best_robot = ''\n",
    "        if robot != team:\n",
    "            print(\"Alliance Drafting: \")\n",
    "            print(teams)\n",
    "            best_robot = input(\"Team Selected: \")\n",
    "            teams.append(best_robot)\n",
    "            all_robots.remove(best_robot)\n",
    "        else:\n",
    "            print(\"My alliance Drafting: \")\n",
    "            print(robot)\n",
    "            for robot_add in all_robots:\n",
    "                teams.append(robot_add)\n",
    "                area = calc_alliance_area(teams,comp)\n",
    "                if area > best_area:\n",
    "                    best_area = area\n",
    "                    best_robot = robot_add\n",
    "                teams.remove(robot_add)\n",
    "            teams.append(best_robot)\n",
    "            all_robots.remove(best_robot)\n",
    "            print(best_robot)\n",
    "            my_alliance = teams\n",
    "        if best_robot in top_8:\n",
    "            top_8.remove(best_robot)\n",
    "            top_8.append(just_outside[0])\n",
    "            just_outside.remove(just_outside[0])\n",
    "        if best_robot in just_outside:\n",
    "            just_outside.remove(best_robot)\n",
    "            \n",
    "        alliances.append(teams)\n",
    "           \n",
    "    alliances_r = alliances[::-1]\n",
    "    for alliance in alliances_r:\n",
    "        best_area = 0\n",
    "        best_robot = ''\n",
    "        if alliance != my_alliance:\n",
    "            print(\"Alliance Drafting: \")\n",
    "            print(alliance)\n",
    "            best_robot = input(\"Team Selected: \")\n",
    "            alliance.append(best_robot)\n",
    "            all_robots.remove(best_robot)\n",
    "        else:\n",
    "            print(\"My alliance Drafting: \")\n",
    "            print(alliance)\n",
    "            for robot_add in all_robots:\n",
    "                alliance.append(robot_add)\n",
    "                area = calc_alliance_area(alliance,comp)\n",
    "                if area > best_area:\n",
    "                    best_area = area\n",
    "                    best_robot = robot_add\n",
    "                alliance.remove(robot_add)\n",
    "            alliance.append(best_robot)\n",
    "            print(best_robot)\n",
    "            all_robots.remove(best_robot)\n",
    "            \n",
    "    alliances = alliances_r[::-1]\n",
    "        \n",
    "    return alliances"
   ]
  },
  {
   "cell_type": "code",
   "execution_count": null,
   "metadata": {},
   "outputs": [],
   "source": [
    "competition = '2019paphi'\n",
    "comp = competitions[competitions['Competition'] == competition]\n",
    "robot1 = 'frc2539'\n",
    "robot2 = 'frc5404'\n",
    "robot3 = 'frc103'\n",
    "robot4 = 'frc2168'\n",
    "robot5 = 'frc747'\n",
    "robot6 = 'frc3974'\n",
    "robot7 = 'frc1218'\n",
    "robot8 = 'frc708'\n",
    "just_outside = ['frc4342','frc433','frc293','frc2729','frc2016','frc2095','frc709','frc225'] \n",
    "top_8 = [robot1,robot2,robot3,robot4,robot5,robot6,robot7,robot8]\n",
    "all_robots = list(comp['Robot'])"
   ]
  },
  {
   "cell_type": "code",
   "execution_count": null,
   "metadata": {},
   "outputs": [],
   "source": [
    "single_optimized_alliances = optimize('frc1218', top_8, just_outside, comp)"
   ]
  },
  {
   "cell_type": "code",
   "execution_count": null,
   "metadata": {},
   "outputs": [],
   "source": [
    "single_optimized_alliances"
   ]
  },
  {
   "cell_type": "code",
   "execution_count": null,
   "metadata": {},
   "outputs": [],
   "source": [
    "comp_plot = comp.drop(['Unnamed: 0', 'Competition','Year'], axis = 1)\n",
    "comp_plot = comp_plot.set_index('Robot')"
   ]
  },
  {
   "cell_type": "code",
   "execution_count": null,
   "metadata": {
    "scrolled": false
   },
   "outputs": [],
   "source": [
    "teams = single_optimized_alliances[4]\n",
    "alliance = pd.DataFrame([[0,0,0,0,0,0,0]], columns = comp_plot.columns)\n",
    "alliance['alliance'] = 'alliance'\n",
    "for team in teams:\n",
    "    df = pd.DataFrame(comp_plot.loc[team].T)\n",
    "    df['theta'] = df.index\n",
    "    fig = px.line_polar(df, r=team, theta='theta', line_close=True, title = competition + ': ' + df.columns[0])\n",
    "    fig.update_traces(fill='toself')\n",
    "    fig.update_layout(title_x=0.5)\n",
    "    fig.show()\n",
    "    \n",
    "    for col in comp_plot.columns:\n",
    "        alliance[col] += comp_plot.loc[team][col]\n",
    "for col in alliance.columns:\n",
    "    if col != 'alliance':\n",
    "        alliance[col] = alliance[col]/3\n",
    "\n",
    "alliance = alliance.set_index('alliance')\n",
    "df = pd.DataFrame(alliance.loc['alliance'].T)\n",
    "df['theta'] = df.index\n",
    "fig = px.line_polar(df, r='alliance', theta='theta', line_close=True, title = competition + ': ' + df.columns[0])\n",
    "fig.update_traces(fill='toself')\n",
    "fig.update_layout(title_x=0.5)\n",
    "fig.show()"
   ]
  },
  {
   "cell_type": "markdown",
   "metadata": {},
   "source": [
    "In order to implement a \"fair\" matchmaking system, the goal is to balance an alliance's scores in each area to be as close to the average of all possible alliances comprising those competing in the competition."
   ]
  },
  {
   "cell_type": "markdown",
   "metadata": {},
   "source": [
    "Quick check: what are the min, max, and average number of robots in a given competition?"
   ]
  },
  {
   "cell_type": "code",
   "execution_count": null,
   "metadata": {},
   "outputs": [],
   "source": [
    "competitions[\"Competition\"].value_counts()"
   ]
  },
  {
   "cell_type": "code",
   "execution_count": null,
   "metadata": {},
   "outputs": [],
   "source": [
    "competition = \"2019paphi\"\n",
    "comp = competitions[competitions['Competition'] == competition]\n",
    "robot1 = 'frc2539'\n",
    "robot2 = 'frc5404'\n",
    "robot3 = 'frc103'\n",
    "robot4 = 'frc2168'\n",
    "robot5 = 'frc747'\n",
    "robot6 = 'frc3974'\n",
    "robot7 = 'frc1218'\n",
    "robot8 = 'frc708'\n",
    "just_outside = ['frc4342','frc433','frc293','frc2729','frc2016','frc2095','frc709','frc225'] \n",
    "top_8 = [robot1,robot2,robot3,robot4,robot5,robot6,robot7,robot8]\n",
    "all_robots = list(comp['Robot'])\n",
    "comp"
   ]
  },
  {
   "cell_type": "code",
   "execution_count": 30,
   "metadata": {},
   "outputs": [],
   "source": [
    "import itertools\n",
    "from matplotlib import pyplot as plt\n",
    "def get_avg(comp, count):\n",
    "    comb = list(itertools.combinations(comp[\"Robot\"], count))\n",
    "    a2 = []\n",
    "    area = 0\n",
    "    for c in comb:\n",
    "        a = calc_alliance_area(c, comp)\n",
    "        area += a\n",
    "        a2.append(a)\n",
    "    area = area / len(comb)\n",
    "    return area\n",
    "\n",
    "def get_avg_top8(comp, top_8):\n",
    "    all_r = list(comp['Robot'])\n",
    "    for r in all_r:\n",
    "        if r in top_8:\n",
    "            all_r.remove(r)\n",
    "    \n",
    "    comb2 = pd.DataFrame(list(itertools.combinations(all_r, 2)))\n",
    "    a2 = []\n",
    "    area = 0\n",
    "    for t in top_8:\n",
    "        comb_sub = comb2.copy()\n",
    "        comb_sub[2] = t\n",
    "        comb_sub = comb_sub.values.tolist()\n",
    "        for c in comb_sub:\n",
    "            a = calc_alliance_area(c, comp)\n",
    "            area += a\n",
    "            a2.append(a)\n",
    "    area = area / (len(comb2)*8)\n",
    "    return area\n"
   ]
  },
  {
   "cell_type": "code",
   "execution_count": 31,
   "metadata": {},
   "outputs": [],
   "source": [
    "def average_all(top_8, just_outside, comp):\n",
    "    alliances = []\n",
    "    all_robots = list(comp['Robot'])\n",
    "    avg_alliance_area = get_avg_top8(comp, top_8)\n",
    "    print(avg_alliance_area)\n",
    "    for robot in top_8:\n",
    "        teams = [robot]\n",
    "        all_robots.remove(robot)\n",
    "        best_area = 0\n",
    "        best_robot = ''\n",
    "        for robot_add in all_robots:\n",
    "            teams.append(robot_add)\n",
    "            area = calc_alliance_area(teams,comp)\n",
    "            if abs(avg_alliance_area - area) < abs(avg_alliance_area - best_area):\n",
    "                best_area = area\n",
    "                best_robot = robot_add\n",
    "            teams.remove(robot_add)\n",
    "        teams.append(best_robot)\n",
    "        all_robots.remove(best_robot)\n",
    "        if best_robot in top_8:\n",
    "            top_8.remove(best_robot)\n",
    "            top_8.append(just_outside[0])\n",
    "            just_outside.remove(just_outside[0])\n",
    "        if best_robot in just_outside:\n",
    "            just_outside.remove(best_robot)\n",
    "        alliances.append(teams)\n",
    "                \n",
    "    alliances_r = alliances[::-1]\n",
    "    for alliance in alliances_r:\n",
    "        best_area = 0\n",
    "        best_robot = ''\n",
    "        for robot_add in all_robots:\n",
    "            alliance.append(robot_add)\n",
    "            area = calc_alliance_area(alliance,comp)\n",
    "            if abs(avg_alliance_area - area) < abs(avg_alliance_area - best_area):\n",
    "                best_area = area\n",
    "                best_robot = robot_add\n",
    "            alliance.remove(robot_add)\n",
    "        alliance.append(best_robot)\n",
    "        all_robots.remove(best_robot)\n",
    "            \n",
    "    alliances = alliances_r[::-1]\n",
    "        \n",
    "    return alliances"
   ]
  },
  {
   "cell_type": "code",
   "execution_count": null,
   "metadata": {},
   "outputs": [],
   "source": [
    "def average(team, top_8, just_outside, comp):\n",
    "    alliances = []\n",
    "    all_robots = list(comp['Robot'])\n",
    "    my_alliance = []\n",
    "    avg_alliance_area = get_avg_top8(comp, top_8)\n",
    "    for robot in top_8:\n",
    "        teams = [robot]\n",
    "        all_robots.remove(robot)\n",
    "        best_area = 0\n",
    "        best_robot = ''\n",
    "        if robot != team:\n",
    "            print(\"Alliance Drafting: \")\n",
    "            print(teams)\n",
    "            best_robot = input(\"Team Selected: \")\n",
    "            teams.append(best_robot)\n",
    "            all_robots.remove(best_robot)\n",
    "        else:\n",
    "            print(\"My alliance Drafting: \")\n",
    "            print(robot)\n",
    "            for robot_add in all_robots:\n",
    "                teams.append(robot_add)\n",
    "                area = calc_alliance_area(teams,comp)\n",
    "                if abs(avg_alliance_area - area) < abs(avg_alliance_area - best_area):\n",
    "                    best_area = area\n",
    "                    best_robot = robot_add\n",
    "                teams.remove(robot_add)\n",
    "            teams.append(best_robot)\n",
    "            all_robots.remove(best_robot)\n",
    "            print(best_robot)\n",
    "            my_alliance = teams\n",
    "        if best_robot in top_8:\n",
    "            top_8.remove(best_robot)\n",
    "            top_8.append(just_outside[0])\n",
    "            just_outside.remove(just_outside[0])\n",
    "        if best_robot in just_outside:\n",
    "            just_outside.remove(best_robot)\n",
    "            \n",
    "        alliances.append(teams)\n",
    "           \n",
    "    alliances_r = alliances[::-1]\n",
    "    for alliance in alliances_r:\n",
    "        best_area = 0\n",
    "        best_robot = ''\n",
    "        if alliance != my_alliance:\n",
    "            print(\"Alliance Drafting: \")\n",
    "            print(alliance)\n",
    "            best_robot = input(\"Team Selected: \")\n",
    "            alliance.append(best_robot)\n",
    "            all_robots.remove(best_robot)\n",
    "        else:\n",
    "            print(\"My alliance Drafting: \")\n",
    "            print(alliance)\n",
    "            for robot_add in all_robots:\n",
    "                alliance.append(robot_add)\n",
    "                area = calc_alliance_area(alliance,comp)\n",
    "                if abs(avg_alliance_area - area) < abs(avg_alliance_area - best_area):\n",
    "                    best_area = area\n",
    "                    best_robot = robot_add\n",
    "                alliance.remove(robot_add)\n",
    "            alliance.append(best_robot)\n",
    "            print(best_robot)\n",
    "            all_robots.remove(best_robot)\n",
    "            \n",
    "    alliances = alliances_r[::-1]\n",
    "        \n",
    "    return alliances"
   ]
  },
  {
   "cell_type": "code",
   "execution_count": 32,
   "metadata": {},
   "outputs": [
    {
     "name": "stdout",
     "output_type": "stream",
     "text": [
      "0.9936357476301614\n"
     ]
    }
   ],
   "source": [
    "avg_alliances = average_all(top_8, just_outside, comp)\n",
    "average = get_avg_top8(comp, top_8)"
   ]
  },
  {
   "cell_type": "code",
   "execution_count": null,
   "metadata": {},
   "outputs": [],
   "source": [
    "calc_alliance_area(avg_alliances[0], comp)"
   ]
  }
 ],
 "metadata": {
  "kernelspec": {
   "display_name": "Python 3",
   "language": "python",
   "name": "python3"
  },
  "language_info": {
   "codemirror_mode": {
    "name": "ipython",
    "version": 3
   },
   "file_extension": ".py",
   "mimetype": "text/x-python",
   "name": "python",
   "nbconvert_exporter": "python",
   "pygments_lexer": "ipython3",
   "version": "3.9.12"
  }
 },
 "nbformat": 4,
 "nbformat_minor": 4
}